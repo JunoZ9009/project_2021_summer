{
  "nbformat": 4,
  "nbformat_minor": 0,
  "metadata": {
    "colab": {
      "name": "04_Airbnb.ipynb",
      "provenance": [],
      "collapsed_sections": [
        "aaMWGdmkuv9z",
        "osSNRvBAeP3G",
        "NrThTqgcM0E7"
      ]
    },
    "kernelspec": {
      "name": "python3",
      "display_name": "Python 3"
    },
    "language_info": {
      "name": "python"
    }
  },
  "cells": [
    {
      "cell_type": "code",
      "metadata": {
        "colab": {
          "base_uri": "https://localhost:8080/",
          "height": 0
        },
        "id": "xSU3vr7vxEe1",
        "outputId": "610ff926-c498-45ff-a873-b5a2d9617cfc"
      },
      "source": [
        "from google.colab import drive\n",
        "drive.mount('/content/drive')"
      ],
      "execution_count": 2,
      "outputs": [
        {
          "output_type": "stream",
          "name": "stdout",
          "text": [
            "Drive already mounted at /content/drive; to attempt to forcibly remount, call drive.mount(\"/content/drive\", force_remount=True).\n"
          ]
        }
      ]
    },
    {
      "cell_type": "code",
      "metadata": {
        "id": "lyfK2OwFwI7X"
      },
      "source": [
        "import pandas as pd\n",
        "import numpy as np\n",
        "from nltk.probability import FreqDist\n",
        "\n",
        "from matplotlib import pyplot as plt\n",
        "import seaborn as sns\n",
        "\n",
        "import math"
      ],
      "execution_count": 9,
      "outputs": []
    },
    {
      "cell_type": "markdown",
      "metadata": {
        "id": "aaMWGdmkuv9z"
      },
      "source": [
        "# Load file"
      ]
    },
    {
      "cell_type": "code",
      "metadata": {
        "id": "MnIaraY2s8sA"
      },
      "source": [
        "data = pd.read_csv('/content/drive/MyDrive/summer_project_2021/airbnb/listings.csv')"
      ],
      "execution_count": 4,
      "outputs": []
    },
    {
      "cell_type": "code",
      "metadata": {
        "colab": {
          "base_uri": "https://localhost:8080/",
          "height": 313
        },
        "id": "-OkTOCCGulBY",
        "outputId": "a2cc980f-f3f3-4942-bb1c-0848f30d0441"
      },
      "source": [
        "data.head()"
      ],
      "execution_count": 5,
      "outputs": [
        {
          "output_type": "execute_result",
          "data": {
            "text/html": [
              "<div>\n",
              "<style scoped>\n",
              "    .dataframe tbody tr th:only-of-type {\n",
              "        vertical-align: middle;\n",
              "    }\n",
              "\n",
              "    .dataframe tbody tr th {\n",
              "        vertical-align: top;\n",
              "    }\n",
              "\n",
              "    .dataframe thead th {\n",
              "        text-align: right;\n",
              "    }\n",
              "</style>\n",
              "<table border=\"1\" class=\"dataframe\">\n",
              "  <thead>\n",
              "    <tr style=\"text-align: right;\">\n",
              "      <th></th>\n",
              "      <th>id</th>\n",
              "      <th>name</th>\n",
              "      <th>host_id</th>\n",
              "      <th>host_name</th>\n",
              "      <th>neighbourhood_group</th>\n",
              "      <th>neighbourhood</th>\n",
              "      <th>latitude</th>\n",
              "      <th>longitude</th>\n",
              "      <th>room_type</th>\n",
              "      <th>price</th>\n",
              "      <th>minimum_nights</th>\n",
              "      <th>number_of_reviews</th>\n",
              "      <th>last_review</th>\n",
              "      <th>reviews_per_month</th>\n",
              "      <th>calculated_host_listings_count</th>\n",
              "      <th>availability_365</th>\n",
              "    </tr>\n",
              "  </thead>\n",
              "  <tbody>\n",
              "    <tr>\n",
              "      <th>0</th>\n",
              "      <td>9835</td>\n",
              "      <td>Beautiful Room &amp; House</td>\n",
              "      <td>33057</td>\n",
              "      <td>Manju</td>\n",
              "      <td>NaN</td>\n",
              "      <td>Manningham</td>\n",
              "      <td>-37.77247</td>\n",
              "      <td>145.09232</td>\n",
              "      <td>Private room</td>\n",
              "      <td>60</td>\n",
              "      <td>1</td>\n",
              "      <td>4</td>\n",
              "      <td>2015-09-12</td>\n",
              "      <td>0.03</td>\n",
              "      <td>1</td>\n",
              "      <td>365</td>\n",
              "    </tr>\n",
              "    <tr>\n",
              "      <th>1</th>\n",
              "      <td>10803</td>\n",
              "      <td>Room in Cool Deco Apartment in Brunswick East</td>\n",
              "      <td>38901</td>\n",
              "      <td>Lindsay</td>\n",
              "      <td>NaN</td>\n",
              "      <td>Moreland</td>\n",
              "      <td>-37.76606</td>\n",
              "      <td>144.97951</td>\n",
              "      <td>Private room</td>\n",
              "      <td>28</td>\n",
              "      <td>4</td>\n",
              "      <td>145</td>\n",
              "      <td>2019-12-17</td>\n",
              "      <td>2.26</td>\n",
              "      <td>1</td>\n",
              "      <td>278</td>\n",
              "    </tr>\n",
              "    <tr>\n",
              "      <th>2</th>\n",
              "      <td>12936</td>\n",
              "      <td>St Kilda 1BR+BEACHSIDE+BALCONY+WIFI+AC</td>\n",
              "      <td>50121</td>\n",
              "      <td>The A2C Team</td>\n",
              "      <td>NaN</td>\n",
              "      <td>Port Phillip</td>\n",
              "      <td>-37.85999</td>\n",
              "      <td>144.97662</td>\n",
              "      <td>Entire home/apt</td>\n",
              "      <td>95</td>\n",
              "      <td>3</td>\n",
              "      <td>42</td>\n",
              "      <td>2016-01-25</td>\n",
              "      <td>0.76</td>\n",
              "      <td>10</td>\n",
              "      <td>0</td>\n",
              "    </tr>\n",
              "    <tr>\n",
              "      <th>3</th>\n",
              "      <td>33111</td>\n",
              "      <td>Million Dollar Views Over Melbourne</td>\n",
              "      <td>143550</td>\n",
              "      <td>Paul</td>\n",
              "      <td>NaN</td>\n",
              "      <td>Melbourne</td>\n",
              "      <td>-37.82163</td>\n",
              "      <td>144.96672</td>\n",
              "      <td>Private room</td>\n",
              "      <td>1000</td>\n",
              "      <td>1</td>\n",
              "      <td>2</td>\n",
              "      <td>2012-01-27</td>\n",
              "      <td>0.02</td>\n",
              "      <td>1</td>\n",
              "      <td>365</td>\n",
              "    </tr>\n",
              "    <tr>\n",
              "      <th>4</th>\n",
              "      <td>38271</td>\n",
              "      <td>Melbourne - Old Trafford Apartment</td>\n",
              "      <td>164193</td>\n",
              "      <td>Daryl &amp; Dee</td>\n",
              "      <td>NaN</td>\n",
              "      <td>Casey</td>\n",
              "      <td>-38.05725</td>\n",
              "      <td>145.33936</td>\n",
              "      <td>Entire home/apt</td>\n",
              "      <td>101</td>\n",
              "      <td>1</td>\n",
              "      <td>161</td>\n",
              "      <td>2020-01-09</td>\n",
              "      <td>1.25</td>\n",
              "      <td>1</td>\n",
              "      <td>329</td>\n",
              "    </tr>\n",
              "  </tbody>\n",
              "</table>\n",
              "</div>"
            ],
            "text/plain": [
              "      id  ... availability_365\n",
              "0   9835  ...              365\n",
              "1  10803  ...              278\n",
              "2  12936  ...                0\n",
              "3  33111  ...              365\n",
              "4  38271  ...              329\n",
              "\n",
              "[5 rows x 16 columns]"
            ]
          },
          "metadata": {},
          "execution_count": 5
        }
      ]
    },
    {
      "cell_type": "code",
      "metadata": {
        "colab": {
          "base_uri": "https://localhost:8080/",
          "height": 0
        },
        "id": "cs8tg1b-upnq",
        "outputId": "67264889-ed65-4301-f835-5291676908c8"
      },
      "source": [
        "data.shape\n",
        "# 18605, 16"
      ],
      "execution_count": 7,
      "outputs": [
        {
          "output_type": "execute_result",
          "data": {
            "text/plain": [
              "(18605, 16)"
            ]
          },
          "metadata": {},
          "execution_count": 7
        }
      ]
    },
    {
      "cell_type": "code",
      "metadata": {
        "colab": {
          "base_uri": "https://localhost:8080/",
          "height": 0
        },
        "id": "ajcunuVuVr9T",
        "outputId": "1ca4fbb5-515c-4a7f-b54e-4b685059222a"
      },
      "source": [
        "# 1\n",
        "len(set(data.id))\n",
        "# id is not useful in this case, it is just unique number for each variable"
      ],
      "execution_count": 8,
      "outputs": [
        {
          "output_type": "execute_result",
          "data": {
            "text/plain": [
              "18605"
            ]
          },
          "metadata": {},
          "execution_count": 8
        }
      ]
    },
    {
      "cell_type": "code",
      "metadata": {
        "colab": {
          "base_uri": "https://localhost:8080/",
          "height": 0
        },
        "id": "m6n-V9LTV-hC",
        "outputId": "a734d45d-749c-43f4-ddfd-e4096801b97c"
      },
      "source": [
        "# 2\n",
        "len(set(data.name))\n",
        "# useless"
      ],
      "execution_count": 10,
      "outputs": [
        {
          "output_type": "execute_result",
          "data": {
            "text/plain": [
              "18028"
            ]
          },
          "metadata": {},
          "execution_count": 10
        }
      ]
    },
    {
      "cell_type": "code",
      "metadata": {
        "colab": {
          "base_uri": "https://localhost:8080/",
          "height": 0
        },
        "id": "3SJ6ZCFDWGgj",
        "outputId": "9837fb94-9ac2-4b8b-9419-1ca90c01b4e8"
      },
      "source": [
        "# 3\n",
        "len(set(data.host_id))\n",
        "# useless"
      ],
      "execution_count": 11,
      "outputs": [
        {
          "output_type": "execute_result",
          "data": {
            "text/plain": [
              "11983"
            ]
          },
          "metadata": {},
          "execution_count": 11
        }
      ]
    },
    {
      "cell_type": "code",
      "metadata": {
        "colab": {
          "base_uri": "https://localhost:8080/",
          "height": 0
        },
        "id": "sQpdBcBWWKuW",
        "outputId": "1aaf208d-52f2-44cf-d710-f283a07c4661"
      },
      "source": [
        "# 4\n",
        "len(set(data.host_name))\n",
        "# useless"
      ],
      "execution_count": 12,
      "outputs": [
        {
          "output_type": "execute_result",
          "data": {
            "text/plain": [
              "5013"
            ]
          },
          "metadata": {},
          "execution_count": 12
        }
      ]
    },
    {
      "cell_type": "code",
      "metadata": {
        "id": "7k2I2uJBWNhq"
      },
      "source": [
        "# 5\n",
        "# len(set(data.neighbourhood_group))\n",
        "# set(data.neighbourhood_group)\n",
        "# useless attribute"
      ],
      "execution_count": 17,
      "outputs": []
    },
    {
      "cell_type": "code",
      "metadata": {
        "colab": {
          "base_uri": "https://localhost:8080/",
          "height": 0
        },
        "id": "rY6_aiyXWSyT",
        "outputId": "ae401412-f29a-4551-ac77-3a7fc2be74b8"
      },
      "source": [
        "# 6\n",
        "len(set(data.neighbourhood))"
      ],
      "execution_count": 14,
      "outputs": [
        {
          "output_type": "execute_result",
          "data": {
            "text/plain": [
              "30"
            ]
          },
          "metadata": {},
          "execution_count": 14
        }
      ]
    },
    {
      "cell_type": "code",
      "metadata": {
        "colab": {
          "base_uri": "https://localhost:8080/",
          "height": 0
        },
        "id": "RPPo51M8XLPK",
        "outputId": "b4b76088-7d64-4c46-e48a-e8ba47ee5fef"
      },
      "source": [
        "# 7&8\n",
        "# len(set(data.latitude))\n",
        "# len(set(data.longitude))\n",
        "# not interested in"
      ],
      "execution_count": 18,
      "outputs": [
        {
          "output_type": "execute_result",
          "data": {
            "text/plain": [
              "11449"
            ]
          },
          "metadata": {},
          "execution_count": 18
        }
      ]
    },
    {
      "cell_type": "code",
      "metadata": {
        "colab": {
          "base_uri": "https://localhost:8080/",
          "height": 0
        },
        "id": "SyW6DFkqXZXD",
        "outputId": "68b0f495-224d-481c-e6e2-24157752f09d"
      },
      "source": [
        "# 9\n",
        "len(set(data.room_type))"
      ],
      "execution_count": 19,
      "outputs": [
        {
          "output_type": "execute_result",
          "data": {
            "text/plain": [
              "4"
            ]
          },
          "metadata": {},
          "execution_count": 19
        }
      ]
    },
    {
      "cell_type": "code",
      "metadata": {
        "colab": {
          "base_uri": "https://localhost:8080/",
          "height": 0
        },
        "id": "_MKUi8jUXflL",
        "outputId": "57238504-f02b-441d-d22e-d073b8c699a1"
      },
      "source": [
        "# 10\n",
        "len(set(data.price))"
      ],
      "execution_count": 20,
      "outputs": [
        {
          "output_type": "execute_result",
          "data": {
            "text/plain": [
              "725"
            ]
          },
          "metadata": {},
          "execution_count": 20
        }
      ]
    },
    {
      "cell_type": "code",
      "metadata": {
        "colab": {
          "base_uri": "https://localhost:8080/",
          "height": 0
        },
        "id": "pL_I_D_UXtD3",
        "outputId": "591d3804-9ed2-42ba-85ce-7bdbd3679bbb"
      },
      "source": [
        "# 11\n",
        "len(set(data.minimum_nights))"
      ],
      "execution_count": 21,
      "outputs": [
        {
          "output_type": "execute_result",
          "data": {
            "text/plain": [
              "80"
            ]
          },
          "metadata": {},
          "execution_count": 21
        }
      ]
    },
    {
      "cell_type": "code",
      "metadata": {
        "colab": {
          "base_uri": "https://localhost:8080/",
          "height": 0
        },
        "id": "WLvgQsr0Xwkc",
        "outputId": "a7f494c7-5a8d-4d45-b4f6-a90e7905ab1e"
      },
      "source": [
        "# 12\n",
        "len(set(data.number_of_reviews))"
      ],
      "execution_count": 22,
      "outputs": [
        {
          "output_type": "execute_result",
          "data": {
            "text/plain": [
              "364"
            ]
          },
          "metadata": {},
          "execution_count": 22
        }
      ]
    },
    {
      "cell_type": "code",
      "metadata": {
        "colab": {
          "base_uri": "https://localhost:8080/",
          "height": 0
        },
        "id": "o6ViCUPQX1go",
        "outputId": "a5c1ac94-75e7-4e99-e749-72ceb2ca5c7e"
      },
      "source": [
        "# 13\n",
        "len(set(data.last_review))\n",
        "# need to split this column to year and month"
      ],
      "execution_count": 23,
      "outputs": [
        {
          "output_type": "execute_result",
          "data": {
            "text/plain": [
              "2011"
            ]
          },
          "metadata": {},
          "execution_count": 23
        }
      ]
    },
    {
      "cell_type": "code",
      "metadata": {
        "colab": {
          "base_uri": "https://localhost:8080/",
          "height": 0
        },
        "id": "F5iYks6WX57N",
        "outputId": "6b43eccf-7334-42e4-dd83-a32927d511e6"
      },
      "source": [
        "# 14\n",
        "len(set(data.reviews_per_month))"
      ],
      "execution_count": 24,
      "outputs": [
        {
          "output_type": "execute_result",
          "data": {
            "text/plain": [
              "4973"
            ]
          },
          "metadata": {},
          "execution_count": 24
        }
      ]
    },
    {
      "cell_type": "code",
      "metadata": {
        "colab": {
          "base_uri": "https://localhost:8080/",
          "height": 0
        },
        "id": "_YGH_bIQYHdg",
        "outputId": "1cfd6f6b-f460-4c14-eb1b-b91ade06f9ff"
      },
      "source": [
        "# 15\n",
        "len(set(data.calculated_host_listings_count))"
      ],
      "execution_count": 25,
      "outputs": [
        {
          "output_type": "execute_result",
          "data": {
            "text/plain": [
              "51"
            ]
          },
          "metadata": {},
          "execution_count": 25
        }
      ]
    },
    {
      "cell_type": "code",
      "metadata": {
        "colab": {
          "base_uri": "https://localhost:8080/",
          "height": 0
        },
        "id": "v7PU5joWYNNC",
        "outputId": "9eafd6f2-4fc8-4685-b0ce-2801415c8147"
      },
      "source": [
        "# 16\n",
        "len(set(data.availability_365))"
      ],
      "execution_count": 26,
      "outputs": [
        {
          "output_type": "execute_result",
          "data": {
            "text/plain": [
              "366"
            ]
          },
          "metadata": {},
          "execution_count": 26
        }
      ]
    },
    {
      "cell_type": "code",
      "metadata": {
        "id": "GDBx2I4CV8eR"
      },
      "source": [
        "# col_names = []\n",
        "# for col in data.columns:\n",
        "#     col_names += [col]\n",
        "# col_names"
      ],
      "execution_count": 27,
      "outputs": []
    },
    {
      "cell_type": "markdown",
      "metadata": {
        "id": "XCnLmHcXj8H8"
      },
      "source": [
        "# preprocessing"
      ]
    },
    {
      "cell_type": "markdown",
      "metadata": {
        "id": "NVXGIkarkBl8"
      },
      "source": [
        "## last_review split to year_review and month_review"
      ]
    },
    {
      "cell_type": "code",
      "metadata": {
        "colab": {
          "base_uri": "https://localhost:8080/",
          "height": 0
        },
        "id": "EbR1SrkbiQ6r",
        "outputId": "2f92b542-ab82-4587-c978-bd2e0cb8f511"
      },
      "source": [
        "data.last_review"
      ],
      "execution_count": 55,
      "outputs": [
        {
          "output_type": "execute_result",
          "data": {
            "text/plain": [
              "0        2015-09-12\n",
              "1        2019-12-17\n",
              "2        2016-01-25\n",
              "3        2012-01-27\n",
              "4        2020-01-09\n",
              "            ...    \n",
              "18600           NaN\n",
              "18601           NaN\n",
              "18602           NaN\n",
              "18603           NaN\n",
              "18604           NaN\n",
              "Name: last_review, Length: 18605, dtype: object"
            ]
          },
          "metadata": {},
          "execution_count": 55
        }
      ]
    },
    {
      "cell_type": "code",
      "metadata": {
        "id": "4MrMQrQFjaGy"
      },
      "source": [
        "new_data = data[['neighbourhood', 'room_type', 'price', 'minimum_nights', 'number_of_reviews', 'reviews_per_month', 'calculated_host_listings_count', 'last_review', 'availability_365']]\n",
        "# new_data.head()"
      ],
      "execution_count": 106,
      "outputs": []
    },
    {
      "cell_type": "code",
      "metadata": {
        "id": "EdeFe76LTKgN"
      },
      "source": [
        "# new_data.head(20)"
      ],
      "execution_count": 61,
      "outputs": []
    },
    {
      "cell_type": "code",
      "metadata": {
        "id": "Y7odg76-i_B4",
        "colab": {
          "base_uri": "https://localhost:8080/"
        },
        "outputId": "a5483aa3-2e5e-4302-dde3-13880295960f"
      },
      "source": [
        "# year\n",
        "new_data['year_review'] = new_data.last_review\n",
        "new_data.year_review = new_data.year_review.fillna('0')\n",
        "for i in range(len(data)):\n",
        "  new_data['year_review'][i] = int(new_data.year_review[i].split('-')[0])\n",
        "# for i in range(len(data)):\n",
        "#   new_data['year_review'][i] = new_data.last_review[i].split('-')[0]"
      ],
      "execution_count": 107,
      "outputs": [
        {
          "output_type": "stream",
          "name": "stderr",
          "text": [
            "/usr/local/lib/python3.7/dist-packages/ipykernel_launcher.py:2: SettingWithCopyWarning: \n",
            "A value is trying to be set on a copy of a slice from a DataFrame.\n",
            "Try using .loc[row_indexer,col_indexer] = value instead\n",
            "\n",
            "See the caveats in the documentation: https://pandas.pydata.org/pandas-docs/stable/user_guide/indexing.html#returning-a-view-versus-a-copy\n",
            "  \n",
            "/usr/local/lib/python3.7/dist-packages/pandas/core/generic.py:5170: SettingWithCopyWarning: \n",
            "A value is trying to be set on a copy of a slice from a DataFrame.\n",
            "Try using .loc[row_indexer,col_indexer] = value instead\n",
            "\n",
            "See the caveats in the documentation: https://pandas.pydata.org/pandas-docs/stable/user_guide/indexing.html#returning-a-view-versus-a-copy\n",
            "  self[name] = value\n",
            "/usr/local/lib/python3.7/dist-packages/ipykernel_launcher.py:5: SettingWithCopyWarning: \n",
            "A value is trying to be set on a copy of a slice from a DataFrame\n",
            "\n",
            "See the caveats in the documentation: https://pandas.pydata.org/pandas-docs/stable/user_guide/indexing.html#returning-a-view-versus-a-copy\n",
            "  \"\"\"\n",
            "/usr/local/lib/python3.7/dist-packages/IPython/core/interactiveshell.py:2882: SettingWithCopyWarning: \n",
            "A value is trying to be set on a copy of a slice from a DataFrame\n",
            "\n",
            "See the caveats in the documentation: https://pandas.pydata.org/pandas-docs/stable/user_guide/indexing.html#returning-a-view-versus-a-copy\n",
            "  exec(code_obj, self.user_global_ns, self.user_ns)\n"
          ]
        }
      ]
    },
    {
      "cell_type": "code",
      "metadata": {
        "colab": {
          "base_uri": "https://localhost:8080/"
        },
        "id": "2wqn2HG0SvR4",
        "outputId": "897c1b4f-ad5b-40b5-f9ea-d61ac195b612"
      },
      "source": [
        "set(new_data.year_review)"
      ],
      "execution_count": 88,
      "outputs": [
        {
          "output_type": "execute_result",
          "data": {
            "text/plain": [
              "{0, 2012, 2013, 2014, 2015, 2016, 2017, 2018, 2019, 2020, 2021}"
            ]
          },
          "metadata": {},
          "execution_count": 88
        }
      ]
    },
    {
      "cell_type": "code",
      "metadata": {
        "colab": {
          "base_uri": "https://localhost:8080/"
        },
        "id": "-H1osBkSMcqN",
        "outputId": "c1b21edb-ef19-4540-92c0-d4aaae76bba6"
      },
      "source": [
        "# month\n",
        "new_data['month_review'] = new_data.last_review\n",
        "new_data.month_review = new_data.month_review.fillna('0000-0')\n",
        "\n",
        "for i in range(len(data)):\n",
        "  new_data['month_review'][i] = int(new_data.month_review[i].split('-')[1])"
      ],
      "execution_count": 108,
      "outputs": [
        {
          "output_type": "stream",
          "name": "stderr",
          "text": [
            "/usr/local/lib/python3.7/dist-packages/ipykernel_launcher.py:2: SettingWithCopyWarning: \n",
            "A value is trying to be set on a copy of a slice from a DataFrame.\n",
            "Try using .loc[row_indexer,col_indexer] = value instead\n",
            "\n",
            "See the caveats in the documentation: https://pandas.pydata.org/pandas-docs/stable/user_guide/indexing.html#returning-a-view-versus-a-copy\n",
            "  \n",
            "/usr/local/lib/python3.7/dist-packages/pandas/core/generic.py:5170: SettingWithCopyWarning: \n",
            "A value is trying to be set on a copy of a slice from a DataFrame.\n",
            "Try using .loc[row_indexer,col_indexer] = value instead\n",
            "\n",
            "See the caveats in the documentation: https://pandas.pydata.org/pandas-docs/stable/user_guide/indexing.html#returning-a-view-versus-a-copy\n",
            "  self[name] = value\n",
            "/usr/local/lib/python3.7/dist-packages/ipykernel_launcher.py:6: SettingWithCopyWarning: \n",
            "A value is trying to be set on a copy of a slice from a DataFrame\n",
            "\n",
            "See the caveats in the documentation: https://pandas.pydata.org/pandas-docs/stable/user_guide/indexing.html#returning-a-view-versus-a-copy\n",
            "  \n",
            "/usr/local/lib/python3.7/dist-packages/IPython/core/interactiveshell.py:2882: SettingWithCopyWarning: \n",
            "A value is trying to be set on a copy of a slice from a DataFrame\n",
            "\n",
            "See the caveats in the documentation: https://pandas.pydata.org/pandas-docs/stable/user_guide/indexing.html#returning-a-view-versus-a-copy\n",
            "  exec(code_obj, self.user_global_ns, self.user_ns)\n"
          ]
        }
      ]
    },
    {
      "cell_type": "code",
      "metadata": {
        "colab": {
          "base_uri": "https://localhost:8080/"
        },
        "id": "IGexQq54UQAZ",
        "outputId": "f087ef79-4c83-45dd-85e4-2d51daa8baa1"
      },
      "source": [
        "set(new_data.month_review)"
      ],
      "execution_count": 90,
      "outputs": [
        {
          "output_type": "execute_result",
          "data": {
            "text/plain": [
              "{0, 1, 2, 3, 4, 5, 6, 7, 8, 9, 10, 11, 12}"
            ]
          },
          "metadata": {},
          "execution_count": 90
        }
      ]
    },
    {
      "cell_type": "code",
      "metadata": {
        "colab": {
          "base_uri": "https://localhost:8080/",
          "height": 423
        },
        "id": "o2cQvOfTkrGL",
        "outputId": "314d496d-1c00-4649-8dae-6f2b16617fa9"
      },
      "source": [
        "new_data[['last_review','year_review','month_review']]\n",
        "# new_data.head()"
      ],
      "execution_count": 78,
      "outputs": [
        {
          "output_type": "execute_result",
          "data": {
            "text/html": [
              "<div>\n",
              "<style scoped>\n",
              "    .dataframe tbody tr th:only-of-type {\n",
              "        vertical-align: middle;\n",
              "    }\n",
              "\n",
              "    .dataframe tbody tr th {\n",
              "        vertical-align: top;\n",
              "    }\n",
              "\n",
              "    .dataframe thead th {\n",
              "        text-align: right;\n",
              "    }\n",
              "</style>\n",
              "<table border=\"1\" class=\"dataframe\">\n",
              "  <thead>\n",
              "    <tr style=\"text-align: right;\">\n",
              "      <th></th>\n",
              "      <th>last_review</th>\n",
              "      <th>year_review</th>\n",
              "      <th>month_review</th>\n",
              "    </tr>\n",
              "  </thead>\n",
              "  <tbody>\n",
              "    <tr>\n",
              "      <th>0</th>\n",
              "      <td>2015-09-12</td>\n",
              "      <td>2015</td>\n",
              "      <td>09</td>\n",
              "    </tr>\n",
              "    <tr>\n",
              "      <th>1</th>\n",
              "      <td>2019-12-17</td>\n",
              "      <td>2019</td>\n",
              "      <td>12</td>\n",
              "    </tr>\n",
              "    <tr>\n",
              "      <th>2</th>\n",
              "      <td>2016-01-25</td>\n",
              "      <td>2016</td>\n",
              "      <td>01</td>\n",
              "    </tr>\n",
              "    <tr>\n",
              "      <th>3</th>\n",
              "      <td>2012-01-27</td>\n",
              "      <td>2012</td>\n",
              "      <td>01</td>\n",
              "    </tr>\n",
              "    <tr>\n",
              "      <th>4</th>\n",
              "      <td>2020-01-09</td>\n",
              "      <td>2020</td>\n",
              "      <td>01</td>\n",
              "    </tr>\n",
              "    <tr>\n",
              "      <th>...</th>\n",
              "      <td>...</td>\n",
              "      <td>...</td>\n",
              "      <td>...</td>\n",
              "    </tr>\n",
              "    <tr>\n",
              "      <th>18600</th>\n",
              "      <td>NaN</td>\n",
              "      <td>0</td>\n",
              "      <td>0</td>\n",
              "    </tr>\n",
              "    <tr>\n",
              "      <th>18601</th>\n",
              "      <td>NaN</td>\n",
              "      <td>0</td>\n",
              "      <td>0</td>\n",
              "    </tr>\n",
              "    <tr>\n",
              "      <th>18602</th>\n",
              "      <td>NaN</td>\n",
              "      <td>0</td>\n",
              "      <td>0</td>\n",
              "    </tr>\n",
              "    <tr>\n",
              "      <th>18603</th>\n",
              "      <td>NaN</td>\n",
              "      <td>0</td>\n",
              "      <td>0</td>\n",
              "    </tr>\n",
              "    <tr>\n",
              "      <th>18604</th>\n",
              "      <td>NaN</td>\n",
              "      <td>0</td>\n",
              "      <td>0</td>\n",
              "    </tr>\n",
              "  </tbody>\n",
              "</table>\n",
              "<p>18605 rows × 3 columns</p>\n",
              "</div>"
            ],
            "text/plain": [
              "      last_review year_review month_review\n",
              "0      2015-09-12        2015           09\n",
              "1      2019-12-17        2019           12\n",
              "2      2016-01-25        2016           01\n",
              "3      2012-01-27        2012           01\n",
              "4      2020-01-09        2020           01\n",
              "...           ...         ...          ...\n",
              "18600         NaN           0            0\n",
              "18601         NaN           0            0\n",
              "18602         NaN           0            0\n",
              "18603         NaN           0            0\n",
              "18604         NaN           0            0\n",
              "\n",
              "[18605 rows x 3 columns]"
            ]
          },
          "metadata": {},
          "execution_count": 78
        }
      ]
    },
    {
      "cell_type": "markdown",
      "metadata": {
        "id": "57jND11fVm8X"
      },
      "source": [
        "# user case"
      ]
    },
    {
      "cell_type": "markdown",
      "metadata": {
        "id": "bl3zbaN4ZlWN"
      },
      "source": [
        "## Price\n",
        "1. is there any relationship between the neighbourhood and price?\n",
        "\n",
        "2. is there any relationship between the room_type and price?\n",
        "\n",
        "3. is there any relationship between the minimum_nights and price?\n",
        "\n",
        "4. will be price of the room changed in different years? (relationship between last_review and price)\n",
        "\n",
        "5. will the availability affect the price?"
      ]
    },
    {
      "cell_type": "markdown",
      "metadata": {
        "id": "osSNRvBAeP3G"
      },
      "source": [
        "### 1. is there any relationship between the neighbourhood and price?"
      ]
    },
    {
      "cell_type": "code",
      "metadata": {
        "colab": {
          "base_uri": "https://localhost:8080/",
          "height": 0
        },
        "id": "4R1k7ZokZtA0",
        "outputId": "ad8a9ad3-9bfe-4834-a7df-112f65c2edd2"
      },
      "source": [
        "new_data.price"
      ],
      "execution_count": 35,
      "outputs": [
        {
          "output_type": "execute_result",
          "data": {
            "text/plain": [
              "0          60\n",
              "1          28\n",
              "2          95\n",
              "3        1000\n",
              "4         101\n",
              "         ... \n",
              "18600     100\n",
              "18601      70\n",
              "18602     182\n",
              "18603     115\n",
              "18604     116\n",
              "Name: price, Length: 18605, dtype: int64"
            ]
          },
          "metadata": {},
          "execution_count": 35
        }
      ]
    },
    {
      "cell_type": "code",
      "metadata": {
        "colab": {
          "base_uri": "https://localhost:8080/",
          "height": 0
        },
        "id": "wEOa4Si_eWMs",
        "outputId": "72f52388-0302-4065-ef15-072b945df946"
      },
      "source": [
        "new_data.neighbourhood"
      ],
      "execution_count": 36,
      "outputs": [
        {
          "output_type": "execute_result",
          "data": {
            "text/plain": [
              "0          Manningham\n",
              "1            Moreland\n",
              "2        Port Phillip\n",
              "3           Melbourne\n",
              "4               Casey\n",
              "             ...     \n",
              "18600       Melbourne\n",
              "18601      Manningham\n",
              "18602          Monash\n",
              "18603       Melbourne\n",
              "18604       Melbourne\n",
              "Name: neighbourhood, Length: 18605, dtype: object"
            ]
          },
          "metadata": {},
          "execution_count": 36
        }
      ]
    },
    {
      "cell_type": "code",
      "metadata": {
        "colab": {
          "base_uri": "https://localhost:8080/",
          "height": 643
        },
        "id": "O4sxVMhyewfW",
        "outputId": "d2496d83-d491-4c34-d219-96658a3e4a99"
      },
      "source": [
        "plt.figure(figsize=(20,10))\n",
        "sns.boxplot(y='neighbourhood', x='price', data=new_data)\n",
        "# sns.barplot(y=new_data.neighbourhood, x=new_data.price)"
      ],
      "execution_count": 37,
      "outputs": [
        {
          "output_type": "execute_result",
          "data": {
            "text/plain": [
              "<matplotlib.axes._subplots.AxesSubplot at 0x7face617e850>"
            ]
          },
          "metadata": {},
          "execution_count": 37
        },
        {
          "output_type": "display_data",
          "data": {
            "image/png": "[encoded data removed]",
            "text/plain": [
              "<Figure size 1440x720 with 1 Axes>"
            ]
          },
          "metadata": {
            "needs_background": "light"
          }
        }
      ]
    },
    {
      "cell_type": "markdown",
      "metadata": {
        "id": "NrThTqgcM0E7"
      },
      "source": [
        "### 2. is there any relationship between the room_type and price?"
      ]
    },
    {
      "cell_type": "code",
      "metadata": {
        "colab": {
          "base_uri": "https://localhost:8080/",
          "height": 368
        },
        "id": "4FE_BM1CfnO3",
        "outputId": "7b26058d-cf1c-4e48-c9cb-e1d10c17ae5e"
      },
      "source": [
        "plt.figure(figsize=(15,8))\n",
        "sns.stripplot(x='room_type',y='price',data=new_data, palette='rainbow')"
      ],
      "execution_count": 42,
      "outputs": [
        {
          "output_type": "execute_result",
          "data": {
            "text/plain": [
              "<matplotlib.axes._subplots.AxesSubplot at 0x7face400da90>"
            ]
          },
          "metadata": {},
          "execution_count": 42
        },
        {
          "output_type": "display_data",
          "data": {
            "image/png": "[encoded data removed]",
            "text/plain": [
              "<Figure size 1080x576 with 1 Axes>"
            ]
          },
          "metadata": {
            "needs_background": "light"
          }
        }
      ]
    },
    {
      "cell_type": "code",
      "metadata": {
        "id": "vJ5UqUuEVHFS"
      },
      "source": [
        "# set(new_data.minimum_nights)"
      ],
      "execution_count": 85,
      "outputs": []
    },
    {
      "cell_type": "markdown",
      "metadata": {
        "id": "GXVDqnjWPMIs"
      },
      "source": [
        "### 3. is there any relationship between the minimum_nights and price?"
      ]
    },
    {
      "cell_type": "code",
      "metadata": {
        "colab": {
          "base_uri": "https://localhost:8080/",
          "height": 406
        },
        "id": "C1cKRmGnQalL",
        "outputId": "0ffee902-642c-430e-c192-8f0706d144f9"
      },
      "source": [
        "new_data.plot.scatter(x='minimum_nights', y='price', marker='o', figsize=(6,6))"
      ],
      "execution_count": 79,
      "outputs": [
        {
          "output_type": "execute_result",
          "data": {
            "text/plain": [
              "<matplotlib.axes._subplots.AxesSubplot at 0x7face3765e10>"
            ]
          },
          "metadata": {},
          "execution_count": 79
        },
        {
          "output_type": "display_data",
          "data": {
            "image/png": "[encoded data removed]",
            "text/plain": [
              "<Figure size 432x432 with 1 Axes>"
            ]
          },
          "metadata": {
            "needs_background": "light"
          }
        }
      ]
    },
    {
      "cell_type": "markdown",
      "metadata": {
        "id": "A5du26xZQ3hs"
      },
      "source": [
        "some values mentioned the information that the minimum nights is over 100 days, these values might be the outliers or not, need to check with the data collecter."
      ]
    },
    {
      "cell_type": "markdown",
      "metadata": {
        "id": "xeXwU-IiPWBI"
      },
      "source": [
        "### 4. will be price of the room changed in different years? (relationship between last_review and price)"
      ]
    },
    {
      "cell_type": "code",
      "metadata": {
        "id": "6rlLbpq6SJh2"
      },
      "source": [
        "# set(new_data.year_review)"
      ],
      "execution_count": 91,
      "outputs": []
    },
    {
      "cell_type": "code",
      "metadata": {
        "id": "dGKrpI-hVwWj"
      },
      "source": [
        "new_data1 = new_data[new_data.year_review != 0]"
      ],
      "execution_count": 93,
      "outputs": []
    },
    {
      "cell_type": "code",
      "metadata": {
        "colab": {
          "base_uri": "https://localhost:8080/"
        },
        "id": "YX_-GBoqWCO_",
        "outputId": "9d07c713-3776-41c3-b736-37840631cae1"
      },
      "source": [
        "set(new_data1.year_review)"
      ],
      "execution_count": 95,
      "outputs": [
        {
          "output_type": "execute_result",
          "data": {
            "text/plain": [
              "{2012, 2013, 2014, 2015, 2016, 2017, 2018, 2019, 2020, 2021}"
            ]
          },
          "metadata": {},
          "execution_count": 95
        }
      ]
    },
    {
      "cell_type": "code",
      "metadata": {
        "id": "nAuo9BJ5RIj5"
      },
      "source": [
        "# year\n",
        "# sns.swarmplot(x='room_type', y='price', data=new_data1, hue='year_review', dodge=True, palette='viridis')"
      ],
      "execution_count": 99,
      "outputs": []
    },
    {
      "cell_type": "code",
      "metadata": {
        "colab": {
          "base_uri": "https://localhost:8080/",
          "height": 515
        },
        "id": "DBzKias2Ww8J",
        "outputId": "ec7138f0-bcf2-4ca5-c0b1-190033a18755"
      },
      "source": [
        "new_data1.plot.scatter(x='year_review', y='price', marker='o', figsize=(8,8))"
      ],
      "execution_count": 100,
      "outputs": [
        {
          "output_type": "execute_result",
          "data": {
            "text/plain": [
              "<matplotlib.axes._subplots.AxesSubplot at 0x7facda913150>"
            ]
          },
          "metadata": {},
          "execution_count": 100
        },
        {
          "output_type": "display_data",
          "data": {
            "image/png": "[encoded data removed]",
            "text/plain": [
              "<Figure size 576x576 with 1 Axes>"
            ]
          },
          "metadata": {
            "needs_background": "light"
          }
        }
      ]
    },
    {
      "cell_type": "code",
      "metadata": {
        "colab": {
          "base_uri": "https://localhost:8080/",
          "height": 515
        },
        "id": "4liCQkkzYTHd",
        "outputId": "bf140021-f069-45de-a100-3d92ff982311"
      },
      "source": [
        "# year\n",
        "new_data1.plot.scatter(x='year_review', y='number_of_reviews', marker='o', figsize=(8,8))"
      ],
      "execution_count": 105,
      "outputs": [
        {
          "output_type": "execute_result",
          "data": {
            "text/plain": [
              "<matplotlib.axes._subplots.AxesSubplot at 0x7face35ecb10>"
            ]
          },
          "metadata": {},
          "execution_count": 105
        },
        {
          "output_type": "display_data",
          "data": {
            "image/png": "[encoded data removed]",
            "text/plain": [
              "<Figure size 576x576 with 1 Axes>"
            ]
          },
          "metadata": {
            "needs_background": "light"
          }
        }
      ]
    },
    {
      "cell_type": "code",
      "metadata": {
        "colab": {
          "base_uri": "https://localhost:8080/",
          "height": 515
        },
        "id": "0MNrmL4iW-yW",
        "outputId": "7d271f79-ad7d-4daa-9e5a-5a9ea165e703"
      },
      "source": [
        "# month\n",
        "new_data1.plot.scatter(x='month_review', y='price', marker='o', figsize=(8,8))"
      ],
      "execution_count": 101,
      "outputs": [
        {
          "output_type": "execute_result",
          "data": {
            "text/plain": [
              "<matplotlib.axes._subplots.AxesSubplot at 0x7facda877ad0>"
            ]
          },
          "metadata": {},
          "execution_count": 101
        },
        {
          "output_type": "display_data",
          "data": {
            "image/png": "[encoded data removed]",
            "text/plain": [
              "<Figure size 576x576 with 1 Axes>"
            ]
          },
          "metadata": {
            "needs_background": "light"
          }
        }
      ]
    },
    {
      "cell_type": "code",
      "metadata": {
        "colab": {
          "base_uri": "https://localhost:8080/",
          "height": 515
        },
        "id": "c08Xx9uYX8JO",
        "outputId": "bbfcb90a-7f77-4652-99cc-87bfb2acc8f5"
      },
      "source": [
        "# # month\n",
        "# new_data1.plot.scatter(x='month_review', y='number_of_reviews', marker='o', figsize=(8,8))\n",
        "new_data1.plot.scatter(x='month_review', y='reviews_per_month', marker='o', figsize=(8,8))"
      ],
      "execution_count": 104,
      "outputs": [
        {
          "output_type": "execute_result",
          "data": {
            "text/plain": [
              "<matplotlib.axes._subplots.AxesSubplot at 0x7facdacc47d0>"
            ]
          },
          "metadata": {},
          "execution_count": 104
        },
        {
          "output_type": "display_data",
          "data": {
            "image/png": "[encoded data removed]",
            "text/plain": [
              "<Figure size 576x576 with 1 Axes>"
            ]
          },
          "metadata": {
            "needs_background": "light"
          }
        }
      ]
    },
    {
      "cell_type": "markdown",
      "metadata": {
        "id": "MjYOlGtiPYct"
      },
      "source": [
        "### 5. will the availability affect the price?"
      ]
    },
    {
      "cell_type": "code",
      "metadata": {
        "colab": {
          "base_uri": "https://localhost:8080/",
          "height": 515
        },
        "id": "05bXCbLbXviW",
        "outputId": "9b573aa4-7f06-4b40-ffb2-bbdbbcb70d2b"
      },
      "source": [
        "new_data.plot.scatter(x='availability_365', y='price', marker='o', figsize=(8,8))"
      ],
      "execution_count": 109,
      "outputs": [
        {
          "output_type": "execute_result",
          "data": {
            "text/plain": [
              "<matplotlib.axes._subplots.AxesSubplot at 0x7facdad55ed0>"
            ]
          },
          "metadata": {},
          "execution_count": 109
        },
        {
          "output_type": "display_data",
          "data": {
            "image/png": "[encoded data removed]",
            "text/plain": [
              "<Figure size 576x576 with 1 Axes>"
            ]
          },
          "metadata": {
            "needs_background": "light"
          }
        }
      ]
    }
  ]
}