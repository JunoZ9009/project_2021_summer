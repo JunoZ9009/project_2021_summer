{
  "cells": [
    {
      "cell_type": "code",
      "execution_count": 1,
      "metadata": {
        "colab": {
          "base_uri": "https://localhost:8080/"
        },
        "id": "xSU3vr7vxEe1",
        "outputId": "2ed0dc20-d47e-424e-fc7e-409a9da4a526"
      },
      "outputs": [
        {
          "output_type": "stream",
          "name": "stdout",
          "text": [
            "Mounted at /content/drive\n"
          ]
        }
      ],
      "source": [
        "# connect colab with google drive\n",
        "from google.colab import drive\n",
        "drive.mount('/content/drive')"
      ]
    },
    {
      "cell_type": "code",
      "execution_count": 2,
      "metadata": {
        "id": "lyfK2OwFwI7X"
      },
      "outputs": [],
      "source": [
        "# load python packages\n",
        "import pandas as pd\n",
        "import numpy as np\n",
        "from nltk.probability import FreqDist\n",
        "\n",
        "from matplotlib import pyplot as plt\n",
        "import seaborn as sns\n",
        "import random\n",
        "import matplotlib.colors as mcolors\n",
        "\n",
        "import math\n",
        "\n",
        "from argparse import Namespace\n",
        "\n",
        "# dataset splitting\n",
        "from sklearn.model_selection import train_test_split\n",
        "\n",
        "# ignore warnings\n",
        "import warnings\n",
        "warnings.filterwarnings(\"ignore\")"
      ]
    },
    {
      "cell_type": "markdown",
      "metadata": {
        "id": "aaMWGdmkuv9z"
      },
      "source": [
        "# Loading"
      ]
    },
    {
      "cell_type": "code",
      "execution_count": 3,
      "metadata": {
        "id": "MnIaraY2s8sA"
      },
      "outputs": [],
      "source": [
        "data = pd.read_csv('/content/drive/MyDrive/summer_project_2021/airbnb/listings_new.csv')"
      ]
    },
    {
      "cell_type": "code",
      "execution_count": 4,
      "metadata": {
        "colab": {
          "base_uri": "https://localhost:8080/",
          "height": 357
        },
        "id": "-OkTOCCGulBY",
        "outputId": "7faf315e-87ce-4995-e17a-628a70e0d257"
      },
      "outputs": [
        {
          "output_type": "execute_result",
          "data": {
            "text/html": [
              "\n",
              "  <div id=\"df-8987ed76-d426-4ad1-ab9c-ab3549ac7cf7\">\n",
              "    <div class=\"colab-df-container\">\n",
              "      <div>\n",
              "<style scoped>\n",
              "    .dataframe tbody tr th:only-of-type {\n",
              "        vertical-align: middle;\n",
              "    }\n",
              "\n",
              "    .dataframe tbody tr th {\n",
              "        vertical-align: top;\n",
              "    }\n",
              "\n",
              "    .dataframe thead th {\n",
              "        text-align: right;\n",
              "    }\n",
              "</style>\n",
              "<table border=\"1\" class=\"dataframe\">\n",
              "  <thead>\n",
              "    <tr style=\"text-align: right;\">\n",
              "      <th></th>\n",
              "      <th>id</th>\n",
              "      <th>name</th>\n",
              "      <th>host_id</th>\n",
              "      <th>host_name</th>\n",
              "      <th>neighbourhood_group</th>\n",
              "      <th>neighbourhood</th>\n",
              "      <th>latitude</th>\n",
              "      <th>longitude</th>\n",
              "      <th>room_type</th>\n",
              "      <th>price</th>\n",
              "      <th>minimum_nights</th>\n",
              "      <th>number_of_reviews</th>\n",
              "      <th>last_review</th>\n",
              "      <th>reviews_per_month</th>\n",
              "      <th>calculated_host_listings_count</th>\n",
              "      <th>availability_365</th>\n",
              "      <th>number_of_reviews_ltm</th>\n",
              "      <th>license</th>\n",
              "    </tr>\n",
              "  </thead>\n",
              "  <tbody>\n",
              "    <tr>\n",
              "      <th>0</th>\n",
              "      <td>9835</td>\n",
              "      <td>Beautiful Room &amp; House</td>\n",
              "      <td>33057</td>\n",
              "      <td>Manju</td>\n",
              "      <td>NaN</td>\n",
              "      <td>Manningham</td>\n",
              "      <td>-37.77247</td>\n",
              "      <td>145.09232</td>\n",
              "      <td>Private room</td>\n",
              "      <td>60</td>\n",
              "      <td>1</td>\n",
              "      <td>4</td>\n",
              "      <td>2015-09-12</td>\n",
              "      <td>0.03</td>\n",
              "      <td>1</td>\n",
              "      <td>365</td>\n",
              "      <td>0</td>\n",
              "      <td>NaN</td>\n",
              "    </tr>\n",
              "    <tr>\n",
              "      <th>1</th>\n",
              "      <td>12936</td>\n",
              "      <td>St Kilda 1BR+BEACHSIDE+BALCONY+WIFI+AC</td>\n",
              "      <td>50121</td>\n",
              "      <td>The A2C Team</td>\n",
              "      <td>NaN</td>\n",
              "      <td>Port Phillip</td>\n",
              "      <td>-37.85999</td>\n",
              "      <td>144.97662</td>\n",
              "      <td>Entire home/apt</td>\n",
              "      <td>95</td>\n",
              "      <td>3</td>\n",
              "      <td>42</td>\n",
              "      <td>2016-01-25</td>\n",
              "      <td>0.71</td>\n",
              "      <td>10</td>\n",
              "      <td>0</td>\n",
              "      <td>0</td>\n",
              "      <td>NaN</td>\n",
              "    </tr>\n",
              "    <tr>\n",
              "      <th>2</th>\n",
              "      <td>33111</td>\n",
              "      <td>Million Dollar Views Over Melbourne</td>\n",
              "      <td>143550</td>\n",
              "      <td>Paul</td>\n",
              "      <td>NaN</td>\n",
              "      <td>Melbourne</td>\n",
              "      <td>-37.82163</td>\n",
              "      <td>144.96672</td>\n",
              "      <td>Private room</td>\n",
              "      <td>1000</td>\n",
              "      <td>1</td>\n",
              "      <td>2</td>\n",
              "      <td>2012-01-27</td>\n",
              "      <td>0.02</td>\n",
              "      <td>1</td>\n",
              "      <td>365</td>\n",
              "      <td>0</td>\n",
              "      <td>NaN</td>\n",
              "    </tr>\n",
              "    <tr>\n",
              "      <th>3</th>\n",
              "      <td>38271</td>\n",
              "      <td>Melbourne - Old Trafford Apartment</td>\n",
              "      <td>164193</td>\n",
              "      <td>Daryl &amp; Dee</td>\n",
              "      <td>NaN</td>\n",
              "      <td>Casey</td>\n",
              "      <td>-38.05725</td>\n",
              "      <td>145.33936</td>\n",
              "      <td>Entire home/apt</td>\n",
              "      <td>99</td>\n",
              "      <td>1</td>\n",
              "      <td>163</td>\n",
              "      <td>2020-01-09</td>\n",
              "      <td>1.22</td>\n",
              "      <td>1</td>\n",
              "      <td>341</td>\n",
              "      <td>13</td>\n",
              "      <td>NaN</td>\n",
              "    </tr>\n",
              "    <tr>\n",
              "      <th>4</th>\n",
              "      <td>41836</td>\n",
              "      <td>CLOSE TO CITY &amp; MELBOURNE AIRPORT</td>\n",
              "      <td>182833</td>\n",
              "      <td>Diana</td>\n",
              "      <td>NaN</td>\n",
              "      <td>Darebin</td>\n",
              "      <td>-37.69729</td>\n",
              "      <td>145.00082</td>\n",
              "      <td>Private room</td>\n",
              "      <td>40</td>\n",
              "      <td>7</td>\n",
              "      <td>159</td>\n",
              "      <td>2017-08-24</td>\n",
              "      <td>1.69</td>\n",
              "      <td>2</td>\n",
              "      <td>0</td>\n",
              "      <td>0</td>\n",
              "      <td>NaN</td>\n",
              "    </tr>\n",
              "  </tbody>\n",
              "</table>\n",
              "</div>\n",
              "      <button class=\"colab-df-convert\" onclick=\"convertToInteractive('df-8987ed76-d426-4ad1-ab9c-ab3549ac7cf7')\"\n",
              "              title=\"Convert this dataframe to an interactive table.\"\n",
              "              style=\"display:none;\">\n",
              "        \n",
              "  <svg xmlns=\"http://www.w3.org/2000/svg\" height=\"24px\"viewBox=\"0 0 24 24\"\n",
              "       width=\"24px\">\n",
              "    <path d=\"M0 0h24v24H0V0z\" fill=\"none\"/>\n",
              "    <path d=\"M18.56 5.44l.94 2.06.94-2.06 2.06-.94-2.06-.94-.94-2.06-.94 2.06-2.06.94zm-11 1L8.5 8.5l.94-2.06 2.06-.94-2.06-.94L8.5 2.5l-.94 2.06-2.06.94zm10 10l.94 2.06.94-2.06 2.06-.94-2.06-.94-.94-2.06-.94 2.06-2.06.94z\"/><path d=\"M17.41 7.96l-1.37-1.37c-.4-.4-.92-.59-1.43-.59-.52 0-1.04.2-1.43.59L10.3 9.45l-7.72 7.72c-.78.78-.78 2.05 0 2.83L4 21.41c.39.39.9.59 1.41.59.51 0 1.02-.2 1.41-.59l7.78-7.78 2.81-2.81c.8-.78.8-2.07 0-2.86zM5.41 20L4 18.59l7.72-7.72 1.47 1.35L5.41 20z\"/>\n",
              "  </svg>\n",
              "      </button>\n",
              "      \n",
              "  <style>\n",
              "    .colab-df-container {\n",
              "      display:flex;\n",
              "      flex-wrap:wrap;\n",
              "      gap: 12px;\n",
              "    }\n",
              "\n",
              "    .colab-df-convert {\n",
              "      background-color: #E8F0FE;\n",
              "      border: none;\n",
              "      border-radius: 50%;\n",
              "      cursor: pointer;\n",
              "      display: none;\n",
              "      fill: #1967D2;\n",
              "      height: 32px;\n",
              "      padding: 0 0 0 0;\n",
              "      width: 32px;\n",
              "    }\n",
              "\n",
              "    .colab-df-convert:hover {\n",
              "      background-color: #E2EBFA;\n",
              "      box-shadow: 0px 1px 2px rgba(60, 64, 67, 0.3), 0px 1px 3px 1px rgba(60, 64, 67, 0.15);\n",
              "      fill: #174EA6;\n",
              "    }\n",
              "\n",
              "    [theme=dark] .colab-df-convert {\n",
              "      background-color: #3B4455;\n",
              "      fill: #D2E3FC;\n",
              "    }\n",
              "\n",
              "    [theme=dark] .colab-df-convert:hover {\n",
              "      background-color: #434B5C;\n",
              "      box-shadow: 0px 1px 3px 1px rgba(0, 0, 0, 0.15);\n",
              "      filter: drop-shadow(0px 1px 2px rgba(0, 0, 0, 0.3));\n",
              "      fill: #FFFFFF;\n",
              "    }\n",
              "  </style>\n",
              "\n",
              "      <script>\n",
              "        const buttonEl =\n",
              "          document.querySelector('#df-8987ed76-d426-4ad1-ab9c-ab3549ac7cf7 button.colab-df-convert');\n",
              "        buttonEl.style.display =\n",
              "          google.colab.kernel.accessAllowed ? 'block' : 'none';\n",
              "\n",
              "        async function convertToInteractive(key) {\n",
              "          const element = document.querySelector('#df-8987ed76-d426-4ad1-ab9c-ab3549ac7cf7');\n",
              "          const dataTable =\n",
              "            await google.colab.kernel.invokeFunction('convertToInteractive',\n",
              "                                                     [key], {});\n",
              "          if (!dataTable) return;\n",
              "\n",
              "          const docLinkHtml = 'Like what you see? Visit the ' +\n",
              "            '<a target=\"_blank\" href=https://colab.research.google.com/notebooks/data_table.ipynb>data table notebook</a>'\n",
              "            + ' to learn more about interactive tables.';\n",
              "          element.innerHTML = '';\n",
              "          dataTable['output_type'] = 'display_data';\n",
              "          await google.colab.output.renderOutput(dataTable, element);\n",
              "          const docLink = document.createElement('div');\n",
              "          docLink.innerHTML = docLinkHtml;\n",
              "          element.appendChild(docLink);\n",
              "        }\n",
              "      </script>\n",
              "    </div>\n",
              "  </div>\n",
              "  "
            ],
            "text/plain": [
              "      id  ... license\n",
              "0   9835  ...     NaN\n",
              "1  12936  ...     NaN\n",
              "2  33111  ...     NaN\n",
              "3  38271  ...     NaN\n",
              "4  41836  ...     NaN\n",
              "\n",
              "[5 rows x 18 columns]"
            ]
          },
          "metadata": {},
          "execution_count": 4
        }
      ],
      "source": [
        "data.head()"
      ]
    },
    {
      "cell_type": "code",
      "execution_count": 5,
      "metadata": {
        "colab": {
          "base_uri": "https://localhost:8080/"
        },
        "id": "cs8tg1b-upnq",
        "outputId": "701803fe-ee95-4d87-cc37-b5b3ff1e462d"
      },
      "outputs": [
        {
          "output_type": "execute_result",
          "data": {
            "text/plain": [
              "(18016, 18)"
            ]
          },
          "metadata": {},
          "execution_count": 5
        }
      ],
      "source": [
        "data.shape\n",
        "# 18016, 18"
      ]
    },
    {
      "cell_type": "code",
      "execution_count": 6,
      "metadata": {
        "colab": {
          "base_uri": "https://localhost:8080/"
        },
        "id": "pXEzrnQ4x0Bv",
        "outputId": "2e93be5c-1547-40ca-ad2d-7b97a925e4e2"
      },
      "outputs": [
        {
          "output_type": "stream",
          "name": "stdout",
          "text": [
            "id 18016\n",
            "name 17473\n",
            "host_id 11622\n",
            "host_name 4916\n",
            "neighbourhood_group 1\n",
            "neighbourhood 30\n",
            "latitude 11205\n",
            "longitude 11727\n",
            "room_type 4\n",
            "price 757\n",
            "minimum_nights 81\n",
            "number_of_reviews 366\n",
            "last_review 2107\n",
            "reviews_per_month 718\n",
            "calculated_host_listings_count 50\n",
            "availability_365 366\n",
            "number_of_reviews_ltm 106\n",
            "license 1\n"
          ]
        }
      ],
      "source": [
        "# check the unqiuevalue in each column\n",
        "for col in data:\n",
        "    print(col, len(data[col].unique()))"
      ]
    },
    {
      "cell_type": "markdown",
      "metadata": {
        "id": "eC3Q3DVWy_BE"
      },
      "source": [
        "Only 'neighbourhood', 'room_type', 'price', 'minimum_nights', 'last_review', 'number_of_reviews', 'calculated_host_listings_count' and 'availability_365' will be used in new dataset."
      ]
    },
    {
      "cell_type": "code",
      "source": [
        ""
      ],
      "metadata": {
        "id": "b_4DJ_WLuEcW"
      },
      "execution_count": 6,
      "outputs": []
    },
    {
      "cell_type": "code",
      "execution_count": 7,
      "metadata": {
        "id": "GDBx2I4CV8eR"
      },
      "outputs": [],
      "source": [
        "# col_names = []\n",
        "# for col in data.columns:\n",
        "#     col_names += [col]\n",
        "# col_names"
      ]
    },
    {
      "cell_type": "markdown",
      "metadata": {
        "id": "XCnLmHcXj8H8"
      },
      "source": [
        "# Preprocessing"
      ]
    },
    {
      "cell_type": "markdown",
      "metadata": {
        "id": "NVXGIkarkBl8"
      },
      "source": [
        "## last_review split to year and month"
      ]
    },
    {
      "cell_type": "code",
      "execution_count": 8,
      "metadata": {
        "colab": {
          "base_uri": "https://localhost:8080/"
        },
        "id": "EbR1SrkbiQ6r",
        "outputId": "a1bd792b-6aee-4850-f117-5eaca2f01578"
      },
      "outputs": [
        {
          "output_type": "execute_result",
          "data": {
            "text/plain": [
              "0        2015-09-12\n",
              "1        2016-01-25\n",
              "2        2012-01-27\n",
              "3        2020-01-09\n",
              "4        2017-08-24\n",
              "            ...    \n",
              "18011           NaN\n",
              "18012           NaN\n",
              "18013           NaN\n",
              "18014           NaN\n",
              "18015           NaN\n",
              "Name: last_review, Length: 18016, dtype: object"
            ]
          },
          "metadata": {},
          "execution_count": 8
        }
      ],
      "source": [
        "data.last_review"
      ]
    },
    {
      "cell_type": "code",
      "execution_count": 9,
      "metadata": {
        "id": "4MrMQrQFjaGy"
      },
      "outputs": [],
      "source": [
        "new_data = data[['neighbourhood', 'room_type', 'price', 'minimum_nights', 'number_of_reviews', 'calculated_host_listings_count', 'last_review', 'availability_365']]\n",
        "# new_data.head()"
      ]
    },
    {
      "cell_type": "code",
      "execution_count": 10,
      "metadata": {
        "id": "Y7odg76-i_B4"
      },
      "outputs": [],
      "source": [
        "# split last_review to their year and month format\n",
        "# year\n",
        "new_data['year'] = new_data.last_review\n",
        "new_data.year = new_data.year.fillna('0')\n",
        "for i in range(len(data)):\n",
        "  new_data['year'][i] = int(new_data.year[i].split('-')[0])"
      ]
    },
    {
      "cell_type": "code",
      "execution_count": 11,
      "metadata": {
        "colab": {
          "base_uri": "https://localhost:8080/"
        },
        "id": "2wqn2HG0SvR4",
        "outputId": "b9b3bc29-5772-45f2-b9aa-a36ffeae52e7"
      },
      "outputs": [
        {
          "output_type": "execute_result",
          "data": {
            "text/plain": [
              "{0, 2012, 2013, 2014, 2015, 2016, 2017, 2018, 2019, 2020, 2021}"
            ]
          },
          "metadata": {},
          "execution_count": 11
        }
      ],
      "source": [
        "set(new_data.year)"
      ]
    },
    {
      "cell_type": "markdown",
      "source": [
        "There are 10 years from 2021 to 2021 in this dataset and the 0 means there is no value in these cells."
      ],
      "metadata": {
        "id": "vqDOZYFqO02W"
      }
    },
    {
      "cell_type": "code",
      "execution_count": 12,
      "metadata": {
        "id": "-H1osBkSMcqN"
      },
      "outputs": [],
      "source": [
        "# month\n",
        "new_data['month'] = new_data.last_review\n",
        "new_data.month = new_data.month.fillna('0000-0')\n",
        "\n",
        "for i in range(len(data)):\n",
        "  new_data['month'][i] = int(new_data.month[i].split('-')[1])"
      ]
    },
    {
      "cell_type": "code",
      "execution_count": 13,
      "metadata": {
        "colab": {
          "base_uri": "https://localhost:8080/"
        },
        "id": "IGexQq54UQAZ",
        "outputId": "e301009d-991c-421d-98d0-1f63235102b2"
      },
      "outputs": [
        {
          "output_type": "execute_result",
          "data": {
            "text/plain": [
              "{0, 1, 2, 3, 4, 5, 6, 7, 8, 9, 10, 11, 12}"
            ]
          },
          "metadata": {},
          "execution_count": 13
        }
      ],
      "source": [
        "set(new_data.month)"
      ]
    },
    {
      "cell_type": "markdown",
      "source": [
        "There are 12 months in this dataset and the 0 means there is no value in these cells."
      ],
      "metadata": {
        "id": "mw43JnI7PBmG"
      }
    },
    {
      "cell_type": "code",
      "execution_count": 14,
      "metadata": {
        "id": "4dUr_8_mPwk5"
      },
      "outputs": [],
      "source": [
        "# year_month\n",
        "# add a new time format for better analysis in later process when discuss about the relationship of time.\n",
        "new_data['year_month'] = new_data.last_review\n",
        "new_data.year_month = new_data.year_month.fillna('0000-00')\n",
        "\n",
        "for i in range(len(data)):\n",
        "  new_data['year_month'][i] = new_data.year_month[i][0:7]"
      ]
    },
    {
      "cell_type": "code",
      "execution_count": 15,
      "metadata": {
        "id": "3wTuZr8RQA3y"
      },
      "outputs": [],
      "source": [
        "# set(new_data.year_month)"
      ]
    },
    {
      "cell_type": "code",
      "execution_count": 16,
      "metadata": {
        "colab": {
          "base_uri": "https://localhost:8080/",
          "height": 423
        },
        "id": "o2cQvOfTkrGL",
        "outputId": "8c7e3570-2a9f-44ce-916e-3efc0cea57f1"
      },
      "outputs": [
        {
          "output_type": "execute_result",
          "data": {
            "text/html": [
              "\n",
              "  <div id=\"df-bbd94288-27f7-43ec-b889-fba69c9e033a\">\n",
              "    <div class=\"colab-df-container\">\n",
              "      <div>\n",
              "<style scoped>\n",
              "    .dataframe tbody tr th:only-of-type {\n",
              "        vertical-align: middle;\n",
              "    }\n",
              "\n",
              "    .dataframe tbody tr th {\n",
              "        vertical-align: top;\n",
              "    }\n",
              "\n",
              "    .dataframe thead th {\n",
              "        text-align: right;\n",
              "    }\n",
              "</style>\n",
              "<table border=\"1\" class=\"dataframe\">\n",
              "  <thead>\n",
              "    <tr style=\"text-align: right;\">\n",
              "      <th></th>\n",
              "      <th>last_review</th>\n",
              "      <th>year</th>\n",
              "      <th>month</th>\n",
              "      <th>year_month</th>\n",
              "    </tr>\n",
              "  </thead>\n",
              "  <tbody>\n",
              "    <tr>\n",
              "      <th>0</th>\n",
              "      <td>2015-09-12</td>\n",
              "      <td>2015</td>\n",
              "      <td>9</td>\n",
              "      <td>2015-09</td>\n",
              "    </tr>\n",
              "    <tr>\n",
              "      <th>1</th>\n",
              "      <td>2016-01-25</td>\n",
              "      <td>2016</td>\n",
              "      <td>1</td>\n",
              "      <td>2016-01</td>\n",
              "    </tr>\n",
              "    <tr>\n",
              "      <th>2</th>\n",
              "      <td>2012-01-27</td>\n",
              "      <td>2012</td>\n",
              "      <td>1</td>\n",
              "      <td>2012-01</td>\n",
              "    </tr>\n",
              "    <tr>\n",
              "      <th>3</th>\n",
              "      <td>2020-01-09</td>\n",
              "      <td>2020</td>\n",
              "      <td>1</td>\n",
              "      <td>2020-01</td>\n",
              "    </tr>\n",
              "    <tr>\n",
              "      <th>4</th>\n",
              "      <td>2017-08-24</td>\n",
              "      <td>2017</td>\n",
              "      <td>8</td>\n",
              "      <td>2017-08</td>\n",
              "    </tr>\n",
              "    <tr>\n",
              "      <th>...</th>\n",
              "      <td>...</td>\n",
              "      <td>...</td>\n",
              "      <td>...</td>\n",
              "      <td>...</td>\n",
              "    </tr>\n",
              "    <tr>\n",
              "      <th>18011</th>\n",
              "      <td>NaN</td>\n",
              "      <td>0</td>\n",
              "      <td>0</td>\n",
              "      <td>0000-00</td>\n",
              "    </tr>\n",
              "    <tr>\n",
              "      <th>18012</th>\n",
              "      <td>NaN</td>\n",
              "      <td>0</td>\n",
              "      <td>0</td>\n",
              "      <td>0000-00</td>\n",
              "    </tr>\n",
              "    <tr>\n",
              "      <th>18013</th>\n",
              "      <td>NaN</td>\n",
              "      <td>0</td>\n",
              "      <td>0</td>\n",
              "      <td>0000-00</td>\n",
              "    </tr>\n",
              "    <tr>\n",
              "      <th>18014</th>\n",
              "      <td>NaN</td>\n",
              "      <td>0</td>\n",
              "      <td>0</td>\n",
              "      <td>0000-00</td>\n",
              "    </tr>\n",
              "    <tr>\n",
              "      <th>18015</th>\n",
              "      <td>NaN</td>\n",
              "      <td>0</td>\n",
              "      <td>0</td>\n",
              "      <td>0000-00</td>\n",
              "    </tr>\n",
              "  </tbody>\n",
              "</table>\n",
              "<p>18016 rows × 4 columns</p>\n",
              "</div>\n",
              "      <button class=\"colab-df-convert\" onclick=\"convertToInteractive('df-bbd94288-27f7-43ec-b889-fba69c9e033a')\"\n",
              "              title=\"Convert this dataframe to an interactive table.\"\n",
              "              style=\"display:none;\">\n",
              "        \n",
              "  <svg xmlns=\"http://www.w3.org/2000/svg\" height=\"24px\"viewBox=\"0 0 24 24\"\n",
              "       width=\"24px\">\n",
              "    <path d=\"M0 0h24v24H0V0z\" fill=\"none\"/>\n",
              "    <path d=\"M18.56 5.44l.94 2.06.94-2.06 2.06-.94-2.06-.94-.94-2.06-.94 2.06-2.06.94zm-11 1L8.5 8.5l.94-2.06 2.06-.94-2.06-.94L8.5 2.5l-.94 2.06-2.06.94zm10 10l.94 2.06.94-2.06 2.06-.94-2.06-.94-.94-2.06-.94 2.06-2.06.94z\"/><path d=\"M17.41 7.96l-1.37-1.37c-.4-.4-.92-.59-1.43-.59-.52 0-1.04.2-1.43.59L10.3 9.45l-7.72 7.72c-.78.78-.78 2.05 0 2.83L4 21.41c.39.39.9.59 1.41.59.51 0 1.02-.2 1.41-.59l7.78-7.78 2.81-2.81c.8-.78.8-2.07 0-2.86zM5.41 20L4 18.59l7.72-7.72 1.47 1.35L5.41 20z\"/>\n",
              "  </svg>\n",
              "      </button>\n",
              "      \n",
              "  <style>\n",
              "    .colab-df-container {\n",
              "      display:flex;\n",
              "      flex-wrap:wrap;\n",
              "      gap: 12px;\n",
              "    }\n",
              "\n",
              "    .colab-df-convert {\n",
              "      background-color: #E8F0FE;\n",
              "      border: none;\n",
              "      border-radius: 50%;\n",
              "      cursor: pointer;\n",
              "      display: none;\n",
              "      fill: #1967D2;\n",
              "      height: 32px;\n",
              "      padding: 0 0 0 0;\n",
              "      width: 32px;\n",
              "    }\n",
              "\n",
              "    .colab-df-convert:hover {\n",
              "      background-color: #E2EBFA;\n",
              "      box-shadow: 0px 1px 2px rgba(60, 64, 67, 0.3), 0px 1px 3px 1px rgba(60, 64, 67, 0.15);\n",
              "      fill: #174EA6;\n",
              "    }\n",
              "\n",
              "    [theme=dark] .colab-df-convert {\n",
              "      background-color: #3B4455;\n",
              "      fill: #D2E3FC;\n",
              "    }\n",
              "\n",
              "    [theme=dark] .colab-df-convert:hover {\n",
              "      background-color: #434B5C;\n",
              "      box-shadow: 0px 1px 3px 1px rgba(0, 0, 0, 0.15);\n",
              "      filter: drop-shadow(0px 1px 2px rgba(0, 0, 0, 0.3));\n",
              "      fill: #FFFFFF;\n",
              "    }\n",
              "  </style>\n",
              "\n",
              "      <script>\n",
              "        const buttonEl =\n",
              "          document.querySelector('#df-bbd94288-27f7-43ec-b889-fba69c9e033a button.colab-df-convert');\n",
              "        buttonEl.style.display =\n",
              "          google.colab.kernel.accessAllowed ? 'block' : 'none';\n",
              "\n",
              "        async function convertToInteractive(key) {\n",
              "          const element = document.querySelector('#df-bbd94288-27f7-43ec-b889-fba69c9e033a');\n",
              "          const dataTable =\n",
              "            await google.colab.kernel.invokeFunction('convertToInteractive',\n",
              "                                                     [key], {});\n",
              "          if (!dataTable) return;\n",
              "\n",
              "          const docLinkHtml = 'Like what you see? Visit the ' +\n",
              "            '<a target=\"_blank\" href=https://colab.research.google.com/notebooks/data_table.ipynb>data table notebook</a>'\n",
              "            + ' to learn more about interactive tables.';\n",
              "          element.innerHTML = '';\n",
              "          dataTable['output_type'] = 'display_data';\n",
              "          await google.colab.output.renderOutput(dataTable, element);\n",
              "          const docLink = document.createElement('div');\n",
              "          docLink.innerHTML = docLinkHtml;\n",
              "          element.appendChild(docLink);\n",
              "        }\n",
              "      </script>\n",
              "    </div>\n",
              "  </div>\n",
              "  "
            ],
            "text/plain": [
              "      last_review  year month year_month\n",
              "0      2015-09-12  2015     9    2015-09\n",
              "1      2016-01-25  2016     1    2016-01\n",
              "2      2012-01-27  2012     1    2012-01\n",
              "3      2020-01-09  2020     1    2020-01\n",
              "4      2017-08-24  2017     8    2017-08\n",
              "...           ...   ...   ...        ...\n",
              "18011         NaN     0     0    0000-00\n",
              "18012         NaN     0     0    0000-00\n",
              "18013         NaN     0     0    0000-00\n",
              "18014         NaN     0     0    0000-00\n",
              "18015         NaN     0     0    0000-00\n",
              "\n",
              "[18016 rows x 4 columns]"
            ]
          },
          "metadata": {},
          "execution_count": 16
        }
      ],
      "source": [
        "new_data[['last_review','year','month', 'year_month']]\n",
        "# new_data.head()"
      ]
    },
    {
      "cell_type": "markdown",
      "metadata": {
        "id": "57jND11fVm8X"
      },
      "source": [
        "# User case"
      ]
    },
    {
      "cell_type": "markdown",
      "metadata": {
        "id": "osSNRvBAeP3G"
      },
      "source": [
        "## 1. neighbourhood & price"
      ]
    },
    {
      "cell_type": "code",
      "execution_count": 17,
      "metadata": {
        "colab": {
          "base_uri": "https://localhost:8080/"
        },
        "id": "wEOa4Si_eWMs",
        "outputId": "c05fe39a-d062-458d-8af9-3c083c653586"
      },
      "outputs": [
        {
          "output_type": "execute_result",
          "data": {
            "text/plain": [
              "0          Manningham\n",
              "1        Port Phillip\n",
              "2           Melbourne\n",
              "3               Casey\n",
              "4             Darebin\n",
              "             ...     \n",
              "18011       Melbourne\n",
              "18012      Whittlesea\n",
              "18013           Yarra\n",
              "18014       Melbourne\n",
              "18015       Melbourne\n",
              "Name: neighbourhood, Length: 18016, dtype: object"
            ]
          },
          "metadata": {},
          "execution_count": 17
        }
      ],
      "source": [
        "new_data.neighbourhood"
      ]
    },
    {
      "cell_type": "markdown",
      "metadata": {
        "id": "EyEdxMfBwZH6"
      },
      "source": [
        "### pie chart\n",
        "\n",
        "This pie chart shows percentages of each neighbourhood of a whole, and represents percentages at a set point in time.\n"
      ]
    },
    {
      "cell_type": "code",
      "execution_count": 18,
      "metadata": {
        "id": "_S8akmXNDi-_"
      },
      "outputs": [],
      "source": [
        "neighbourhood = new_data.neighbourhood.value_counts().to_frame()\n",
        "neighbourhood.reset_index(level=0, inplace=True)\n",
        "# neighbourhood"
      ]
    },
    {
      "cell_type": "code",
      "execution_count": 19,
      "metadata": {
        "colab": {
          "base_uri": "https://localhost:8080/",
          "height": 560
        },
        "id": "QHY0D5CSMgkj",
        "outputId": "6b0f2178-45bc-4376-ca2c-1fa3081db6f9"
      },
      "outputs": [
        {
          "output_type": "display_data",
          "data": {
            "image/png": "[encoded data removed]",
            "text/plain": [
              "<Figure size 1440x720 with 1 Axes>"
            ]
          },
          "metadata": {}
        }
      ],
      "source": [
        "plt.figure(figsize=(20,10))\n",
        "colors = random.choices(list(mcolors.CSS4_COLORS.values()),k = 30)\n",
        "plt.pie(neighbourhood.neighbourhood, labels = neighbourhood['index'], colors=colors)\n",
        "plt.show()"
      ]
    },
    {
      "cell_type": "markdown",
      "metadata": {
        "id": "-jLwJSKgM_hT"
      },
      "source": [
        "It can be seen that Melbourne has the most house/room in airbnb while Maroondah has the least."
      ]
    },
    {
      "cell_type": "markdown",
      "metadata": {
        "id": "97cX-0P39SVv"
      },
      "source": [
        "### GIS\n",
        "\n",
        "\n",
        "A geographic information system (GIS) is a system that creates, manages, analyzes, and maps all types of data. GIS connects data to a map, integrating location data (where things are) with all types of descriptive information (what things are like there). "
      ]
    },
    {
      "cell_type": "code",
      "execution_count": 20,
      "metadata": {
        "colab": {
          "base_uri": "https://localhost:8080/"
        },
        "id": "eOWFhDE3fLvJ",
        "outputId": "a2d3a98a-64aa-437b-b159-2972ef2871a7"
      },
      "outputs": [
        {
          "output_type": "stream",
          "name": "stdout",
          "text": [
            "Collecting geopandas\n",
            "  Downloading geopandas-0.10.2-py2.py3-none-any.whl (1.0 MB)\n",
            "\u001b[?25l\r\u001b[K     |▎                               | 10 kB 18.2 MB/s eta 0:00:01\r\u001b[K     |▋                               | 20 kB 21.1 MB/s eta 0:00:01\r\u001b[K     |█                               | 30 kB 25.2 MB/s eta 0:00:01\r\u001b[K     |█▎                              | 40 kB 16.3 MB/s eta 0:00:01\r\u001b[K     |█▋                              | 51 kB 10.7 MB/s eta 0:00:01\r\u001b[K     |██                              | 61 kB 12.1 MB/s eta 0:00:01\r\u001b[K     |██▎                             | 71 kB 8.9 MB/s eta 0:00:01\r\u001b[K     |██▌                             | 81 kB 9.8 MB/s eta 0:00:01\r\u001b[K     |██▉                             | 92 kB 10.5 MB/s eta 0:00:01\r\u001b[K     |███▏                            | 102 kB 8.8 MB/s eta 0:00:01\r\u001b[K     |███▌                            | 112 kB 8.8 MB/s eta 0:00:01\r\u001b[K     |███▉                            | 122 kB 8.8 MB/s eta 0:00:01\r\u001b[K     |████▏                           | 133 kB 8.8 MB/s eta 0:00:01\r\u001b[K     |████▌                           | 143 kB 8.8 MB/s eta 0:00:01\r\u001b[K     |████▊                           | 153 kB 8.8 MB/s eta 0:00:01\r\u001b[K     |█████                           | 163 kB 8.8 MB/s eta 0:00:01\r\u001b[K     |█████▍                          | 174 kB 8.8 MB/s eta 0:00:01\r\u001b[K     |█████▊                          | 184 kB 8.8 MB/s eta 0:00:01\r\u001b[K     |██████                          | 194 kB 8.8 MB/s eta 0:00:01\r\u001b[K     |██████▍                         | 204 kB 8.8 MB/s eta 0:00:01\r\u001b[K     |██████▊                         | 215 kB 8.8 MB/s eta 0:00:01\r\u001b[K     |███████                         | 225 kB 8.8 MB/s eta 0:00:01\r\u001b[K     |███████▎                        | 235 kB 8.8 MB/s eta 0:00:01\r\u001b[K     |███████▋                        | 245 kB 8.8 MB/s eta 0:00:01\r\u001b[K     |████████                        | 256 kB 8.8 MB/s eta 0:00:01\r\u001b[K     |████████▎                       | 266 kB 8.8 MB/s eta 0:00:01\r\u001b[K     |████████▋                       | 276 kB 8.8 MB/s eta 0:00:01\r\u001b[K     |█████████                       | 286 kB 8.8 MB/s eta 0:00:01\r\u001b[K     |█████████▏                      | 296 kB 8.8 MB/s eta 0:00:01\r\u001b[K     |█████████▌                      | 307 kB 8.8 MB/s eta 0:00:01\r\u001b[K     |█████████▉                      | 317 kB 8.8 MB/s eta 0:00:01\r\u001b[K     |██████████▏                     | 327 kB 8.8 MB/s eta 0:00:01\r\u001b[K     |██████████▌                     | 337 kB 8.8 MB/s eta 0:00:01\r\u001b[K     |██████████▉                     | 348 kB 8.8 MB/s eta 0:00:01\r\u001b[K     |███████████▏                    | 358 kB 8.8 MB/s eta 0:00:01\r\u001b[K     |███████████▍                    | 368 kB 8.8 MB/s eta 0:00:01\r\u001b[K     |███████████▊                    | 378 kB 8.8 MB/s eta 0:00:01\r\u001b[K     |████████████                    | 389 kB 8.8 MB/s eta 0:00:01\r\u001b[K     |████████████▍                   | 399 kB 8.8 MB/s eta 0:00:01\r\u001b[K     |████████████▊                   | 409 kB 8.8 MB/s eta 0:00:01\r\u001b[K     |█████████████                   | 419 kB 8.8 MB/s eta 0:00:01\r\u001b[K     |█████████████▍                  | 430 kB 8.8 MB/s eta 0:00:01\r\u001b[K     |█████████████▋                  | 440 kB 8.8 MB/s eta 0:00:01\r\u001b[K     |██████████████                  | 450 kB 8.8 MB/s eta 0:00:01\r\u001b[K     |██████████████▎                 | 460 kB 8.8 MB/s eta 0:00:01\r\u001b[K     |██████████████▋                 | 471 kB 8.8 MB/s eta 0:00:01\r\u001b[K     |███████████████                 | 481 kB 8.8 MB/s eta 0:00:01\r\u001b[K     |███████████████▎                | 491 kB 8.8 MB/s eta 0:00:01\r\u001b[K     |███████████████▋                | 501 kB 8.8 MB/s eta 0:00:01\r\u001b[K     |███████████████▉                | 512 kB 8.8 MB/s eta 0:00:01\r\u001b[K     |████████████████▏               | 522 kB 8.8 MB/s eta 0:00:01\r\u001b[K     |████████████████▌               | 532 kB 8.8 MB/s eta 0:00:01\r\u001b[K     |████████████████▉               | 542 kB 8.8 MB/s eta 0:00:01\r\u001b[K     |█████████████████▏              | 552 kB 8.8 MB/s eta 0:00:01\r\u001b[K     |█████████████████▌              | 563 kB 8.8 MB/s eta 0:00:01\r\u001b[K     |█████████████████▉              | 573 kB 8.8 MB/s eta 0:00:01\r\u001b[K     |██████████████████              | 583 kB 8.8 MB/s eta 0:00:01\r\u001b[K     |██████████████████▍             | 593 kB 8.8 MB/s eta 0:00:01\r\u001b[K     |██████████████████▊             | 604 kB 8.8 MB/s eta 0:00:01\r\u001b[K     |███████████████████             | 614 kB 8.8 MB/s eta 0:00:01\r\u001b[K     |███████████████████▍            | 624 kB 8.8 MB/s eta 0:00:01\r\u001b[K     |███████████████████▊            | 634 kB 8.8 MB/s eta 0:00:01\r\u001b[K     |████████████████████            | 645 kB 8.8 MB/s eta 0:00:01\r\u001b[K     |████████████████████▎           | 655 kB 8.8 MB/s eta 0:00:01\r\u001b[K     |████████████████████▋           | 665 kB 8.8 MB/s eta 0:00:01\r\u001b[K     |█████████████████████           | 675 kB 8.8 MB/s eta 0:00:01\r\u001b[K     |█████████████████████▎          | 686 kB 8.8 MB/s eta 0:00:01\r\u001b[K     |█████████████████████▋          | 696 kB 8.8 MB/s eta 0:00:01\r\u001b[K     |██████████████████████          | 706 kB 8.8 MB/s eta 0:00:01\r\u001b[K     |██████████████████████▎         | 716 kB 8.8 MB/s eta 0:00:01\r\u001b[K     |██████████████████████▋         | 727 kB 8.8 MB/s eta 0:00:01\r\u001b[K     |██████████████████████▉         | 737 kB 8.8 MB/s eta 0:00:01\r\u001b[K     |███████████████████████▏        | 747 kB 8.8 MB/s eta 0:00:01\r\u001b[K     |███████████████████████▌        | 757 kB 8.8 MB/s eta 0:00:01\r\u001b[K     |███████████████████████▉        | 768 kB 8.8 MB/s eta 0:00:01\r\u001b[K     |████████████████████████▏       | 778 kB 8.8 MB/s eta 0:00:01\r\u001b[K     |████████████████████████▌       | 788 kB 8.8 MB/s eta 0:00:01\r\u001b[K     |████████████████████████▉       | 798 kB 8.8 MB/s eta 0:00:01\r\u001b[K     |█████████████████████████       | 808 kB 8.8 MB/s eta 0:00:01\r\u001b[K     |█████████████████████████▍      | 819 kB 8.8 MB/s eta 0:00:01\r\u001b[K     |█████████████████████████▊      | 829 kB 8.8 MB/s eta 0:00:01\r\u001b[K     |██████████████████████████      | 839 kB 8.8 MB/s eta 0:00:01\r\u001b[K     |██████████████████████████▍     | 849 kB 8.8 MB/s eta 0:00:01\r\u001b[K     |██████████████████████████▊     | 860 kB 8.8 MB/s eta 0:00:01\r\u001b[K     |███████████████████████████     | 870 kB 8.8 MB/s eta 0:00:01\r\u001b[K     |███████████████████████████▎    | 880 kB 8.8 MB/s eta 0:00:01\r\u001b[K     |███████████████████████████▋    | 890 kB 8.8 MB/s eta 0:00:01\r\u001b[K     |████████████████████████████    | 901 kB 8.8 MB/s eta 0:00:01\r\u001b[K     |████████████████████████████▎   | 911 kB 8.8 MB/s eta 0:00:01\r\u001b[K     |████████████████████████████▋   | 921 kB 8.8 MB/s eta 0:00:01\r\u001b[K     |█████████████████████████████   | 931 kB 8.8 MB/s eta 0:00:01\r\u001b[K     |█████████████████████████████▎  | 942 kB 8.8 MB/s eta 0:00:01\r\u001b[K     |█████████████████████████████▌  | 952 kB 8.8 MB/s eta 0:00:01\r\u001b[K     |█████████████████████████████▉  | 962 kB 8.8 MB/s eta 0:00:01\r\u001b[K     |██████████████████████████████▏ | 972 kB 8.8 MB/s eta 0:00:01\r\u001b[K     |██████████████████████████████▌ | 983 kB 8.8 MB/s eta 0:00:01\r\u001b[K     |██████████████████████████████▉ | 993 kB 8.8 MB/s eta 0:00:01\r\u001b[K     |███████████████████████████████▏| 1.0 MB 8.8 MB/s eta 0:00:01\r\u001b[K     |███████████████████████████████▌| 1.0 MB 8.8 MB/s eta 0:00:01\r\u001b[K     |███████████████████████████████▊| 1.0 MB 8.8 MB/s eta 0:00:01\r\u001b[K     |████████████████████████████████| 1.0 MB 8.8 MB/s \n",
            "\u001b[?25hRequirement already satisfied: shapely>=1.6 in /usr/local/lib/python3.7/dist-packages (from geopandas) (1.8.0)\n",
            "Requirement already satisfied: pandas>=0.25.0 in /usr/local/lib/python3.7/dist-packages (from geopandas) (1.3.5)\n",
            "Collecting fiona>=1.8\n",
            "  Downloading Fiona-1.8.20-cp37-cp37m-manylinux1_x86_64.whl (15.4 MB)\n",
            "\u001b[K     |████████████████████████████████| 15.4 MB 49.3 MB/s \n",
            "\u001b[?25hCollecting pyproj>=2.2.0\n",
            "  Downloading pyproj-3.2.1-cp37-cp37m-manylinux2010_x86_64.whl (6.3 MB)\n",
            "\u001b[K     |████████████████████████████████| 6.3 MB 46.1 MB/s \n",
            "\u001b[?25hRequirement already satisfied: certifi in /usr/local/lib/python3.7/dist-packages (from fiona>=1.8->geopandas) (2021.10.8)\n",
            "Requirement already satisfied: six>=1.7 in /usr/local/lib/python3.7/dist-packages (from fiona>=1.8->geopandas) (1.15.0)\n",
            "Collecting click-plugins>=1.0\n",
            "  Downloading click_plugins-1.1.1-py2.py3-none-any.whl (7.5 kB)\n",
            "Requirement already satisfied: setuptools in /usr/local/lib/python3.7/dist-packages (from fiona>=1.8->geopandas) (57.4.0)\n",
            "Requirement already satisfied: click>=4.0 in /usr/local/lib/python3.7/dist-packages (from fiona>=1.8->geopandas) (7.1.2)\n",
            "Collecting munch\n",
            "  Downloading munch-2.5.0-py2.py3-none-any.whl (10 kB)\n",
            "Requirement already satisfied: attrs>=17 in /usr/local/lib/python3.7/dist-packages (from fiona>=1.8->geopandas) (21.4.0)\n",
            "Collecting cligj>=0.5\n",
            "  Downloading cligj-0.7.2-py3-none-any.whl (7.1 kB)\n",
            "Requirement already satisfied: numpy>=1.17.3 in /usr/local/lib/python3.7/dist-packages (from pandas>=0.25.0->geopandas) (1.19.5)\n",
            "Requirement already satisfied: pytz>=2017.3 in /usr/local/lib/python3.7/dist-packages (from pandas>=0.25.0->geopandas) (2018.9)\n",
            "Requirement already satisfied: python-dateutil>=2.7.3 in /usr/local/lib/python3.7/dist-packages (from pandas>=0.25.0->geopandas) (2.8.2)\n",
            "Installing collected packages: munch, cligj, click-plugins, pyproj, fiona, geopandas\n",
            "Successfully installed click-plugins-1.1.1 cligj-0.7.2 fiona-1.8.20 geopandas-0.10.2 munch-2.5.0 pyproj-3.2.1\n"
          ]
        }
      ],
      "source": [
        "!pip install geopandas"
      ]
    },
    {
      "cell_type": "code",
      "execution_count": 21,
      "metadata": {
        "id": "sYgfIyvKe4qv"
      },
      "outputs": [],
      "source": [
        "import geopandas\n",
        "import pandas as pd\n",
        "import matplotlib.pyplot as plt\n",
        "\n",
        "plt.rcParams['figure.figsize'] = [15, 10]"
      ]
    },
    {
      "cell_type": "code",
      "execution_count": 22,
      "metadata": {
        "id": "hMtjLuxrfYDJ"
      },
      "outputs": [],
      "source": [
        "neigeo = geopandas.read_file(\"/content/drive/MyDrive/summer_project_2021/airbnb/neighbourhoods_new.geojson\")\n",
        "# neigeo\n",
        "\n",
        "# neighbourhood\n",
        "nei_count = neighbourhood\n",
        "nei_count.rename(columns={'index': 'neighbourhood', 'neighbourhood': 'count'}, inplace=True)\n",
        "# nei_count\n",
        "\n",
        "nei_joined = neigeo.merge(nei_count, on='neighbourhood')\n",
        "# nei_joined\n",
        "# nei_joined.plot()\n",
        "\n",
        "nei_joined = neigeo.merge(nei_count, on='neighbourhood', how='left')\n",
        "# nei_joined\n",
        "\n",
        "# nei_joined['count'].fillna(0, inplace=True)\n",
        "nei_joined['count'] = nei_joined['count'].astype('int')"
      ]
    },
    {
      "cell_type": "code",
      "execution_count": 23,
      "metadata": {
        "colab": {
          "base_uri": "https://localhost:8080/",
          "height": 453
        },
        "id": "Rz0ppsOPlrk9",
        "outputId": "156d1365-fada-4201-b06c-d423de677af1"
      },
      "outputs": [
        {
          "output_type": "execute_result",
          "data": {
            "text/plain": [
              "<matplotlib.axes._subplots.AxesSubplot at 0x7f789fa9b290>"
            ]
          },
          "metadata": {},
          "execution_count": 23
        },
        {
          "output_type": "display_data",
          "data": {
            "image/png": "[encoded data removed]",
            "text/plain": [
              "<Figure size 1080x720 with 2 Axes>"
            ]
          },
          "metadata": {
            "needs_background": "light"
          }
        }
      ],
      "source": [
        "fig_leg, ax_leg = plt.subplots(1,1)\n",
        "nei_joined.plot(column='count', ax=ax_leg, legend=True, legend_kwds={'label':'count', 'orientation':'vertical'})"
      ]
    },
    {
      "cell_type": "markdown",
      "metadata": {
        "id": "xL-SmAb2uHt4"
      },
      "source": [
        "Based on the color, it is obviously that Melbourne (5430), Port Phillip\t(2256) and Yarra (1432) have more houses/rooms than other neighbourhoods. GIS plot is easier to check the relationship and also give a better visualisation that other plots as it show the geology map of the specific big region."
      ]
    },
    {
      "cell_type": "markdown",
      "metadata": {
        "id": "zYVIt8LHwi2T"
      },
      "source": [
        "### barplot\n",
        "\n",
        "A barplot is used to display the relationship between a numeric and a categorical variable."
      ]
    },
    {
      "cell_type": "code",
      "execution_count": 24,
      "metadata": {
        "id": "O4sxVMhyewfW"
      },
      "outputs": [],
      "source": [
        "# fig, ax = plt.subplots()\n",
        "# plt.figure(figsize=(20,10))\n",
        "# sns.boxplot(y='neighbourhood', x='price', data=new_data)\n",
        "# sns.barplot(y=new_data.neighbourhood, x=new_data.price)"
      ]
    },
    {
      "cell_type": "markdown",
      "metadata": {
        "id": "Mc0qgjBfj-QO"
      },
      "source": [
        "it can be seen that there are some outliers so that we can consume that the price over 1000 can be removed from the plot as they are not much and there is no any significant pattern can be found in these points"
      ]
    },
    {
      "cell_type": "code",
      "execution_count": 25,
      "metadata": {
        "colab": {
          "base_uri": "https://localhost:8080/",
          "height": 411
        },
        "id": "3sPpx9x2kciF",
        "outputId": "5225fdc2-ad09-4971-c160-3cccdef7e1e0"
      },
      "outputs": [
        {
          "output_type": "display_data",
          "data": {
            "image/png": "[encoded data removed]",
            "text/plain": [
              "<Figure size 1080x720 with 1 Axes>"
            ]
          },
          "metadata": {
            "needs_background": "light"
          }
        },
        {
          "output_type": "display_data",
          "data": {
            "text/plain": [
              "<Figure size 720x360 with 0 Axes>"
            ]
          },
          "metadata": {}
        }
      ],
      "source": [
        "fig, ax = plt.subplots(1,1)\n",
        "plt.figure(figsize=(10,5))\n",
        "sns.boxplot(y='neighbourhood', x='price', data=new_data, ax=ax)\n",
        "ax.set_xlim(0,1000)\n",
        "# the range of the x-axis can be changed in above code and different plots will show below\n",
        "plt.show()\n"
      ]
    },
    {
      "cell_type": "markdown",
      "metadata": {
        "id": "DSlnwjBxmxA3"
      },
      "source": [
        "The plot looks much better than previous after removing the house/room prices that are too high. "
      ]
    },
    {
      "cell_type": "code",
      "execution_count": 26,
      "metadata": {
        "colab": {
          "base_uri": "https://localhost:8080/",
          "height": 355
        },
        "id": "9MOmApxQla-c",
        "outputId": "8ee4b9c1-4dc0-4d7e-977a-29505fed7696"
      },
      "outputs": [
        {
          "output_type": "execute_result",
          "data": {
            "text/plain": [
              "[Text(0.5, 1.0, 'Price in different neighbourhoods')]"
            ]
          },
          "metadata": {},
          "execution_count": 26
        },
        {
          "output_type": "display_data",
          "data": {
            "image/png": "[encoded data removed]",
            "text/plain": [
              "<Figure size 1080x576 with 1 Axes>"
            ]
          },
          "metadata": {
            "needs_background": "light"
          }
        }
      ],
      "source": [
        "plt.figure(figsize=(15,8))\n",
        "sns.barplot(y=new_data.neighbourhood, x=new_data.price, palette=\"crest\").set(Title='Price in different neighbourhoods')"
      ]
    },
    {
      "cell_type": "markdown",
      "metadata": {
        "id": "_f3W7gnollQp"
      },
      "source": [
        "The relationship is more clear in barplot than that in boxplot. The range of the x-axis is automatically set to 0-500 and it can be checked that the price in Maroondah neighbourhood has the largest range which means it is the the neighbourhood that has the most different type of house/room options. In contrast, the price is the lowest in Brimbank. Other price ranges can be easily checked in above plot."
      ]
    },
    {
      "cell_type": "markdown",
      "metadata": {
        "id": "At9BEitZJll9"
      },
      "source": [
        "According to GIS plot, Maroondah neighbourhood has the least number of house/room in whole Melbourne, however it has the the biggest change of price."
      ]
    },
    {
      "cell_type": "markdown",
      "metadata": {
        "id": "NrThTqgcM0E7"
      },
      "source": [
        "## 2. room_type & price"
      ]
    },
    {
      "cell_type": "code",
      "execution_count": 27,
      "metadata": {
        "colab": {
          "base_uri": "https://localhost:8080/",
          "height": 514
        },
        "id": "4FE_BM1CfnO3",
        "outputId": "3ed2b652-c595-44c2-88be-0172552c316a"
      },
      "outputs": [
        {
          "output_type": "execute_result",
          "data": {
            "text/plain": [
              "<matplotlib.axes._subplots.AxesSubplot at 0x7f788c57bf90>"
            ]
          },
          "metadata": {},
          "execution_count": 27
        },
        {
          "output_type": "display_data",
          "data": {
            "image/png": "[encoded data removed]",
            "text/plain": [
              "<Figure size 576x576 with 1 Axes>"
            ]
          },
          "metadata": {
            "needs_background": "light"
          }
        }
      ],
      "source": [
        "plt.figure(figsize=(8,8))\n",
        "sns.stripplot(x='room_type',y='price',data=new_data, palette='rainbow')"
      ]
    },
    {
      "cell_type": "markdown",
      "metadata": {
        "id": "4kk3uoChnCTB"
      },
      "source": [
        "It can be seen that the Private room and Entire home/apt has higher price ranges and more options than Shared room and Hotel room. As the first two types are mostly designed and built by personal house holder, they are more likely to have different locations and to satisfy customers personal preference than the rest of the two house/room types, thus these two types are more recommanded when customers have more budgets. But if customers have limit budgets, it will be more suitable to chose in shared rooms and hotel rooms during their vacations."
      ]
    },
    {
      "cell_type": "code",
      "execution_count": 28,
      "metadata": {
        "id": "vJ5UqUuEVHFS"
      },
      "outputs": [],
      "source": [
        "# set(new_data.minimum_nights)"
      ]
    },
    {
      "cell_type": "markdown",
      "metadata": {
        "id": "pMljOiTA1MCH"
      },
      "source": [
        "### top 4 neighbourhood - heatmap\n",
        "\n",
        "Chec the relationship between the top 4 neighbourhood that have the most house/room and their room type with the price.\n",
        "\n",
        "A heat map (or heatmap) is a data visualization technique that shows magnitude of a phenomenon as color in two dimensions. "
      ]
    },
    {
      "cell_type": "code",
      "execution_count": 29,
      "metadata": {
        "id": "t2c8P1HN1EfY"
      },
      "outputs": [],
      "source": [
        "# Melbourne\t5430\n",
        "# Port Phillip\t2256\n",
        "# Yarra\t1432\n",
        "# Stonnington\t1277\n",
        "top_4 = new_data.loc[new_data.neighbourhood.isin(['Melbourne','Port Phillip', \n",
        "                                          'Yarra', 'Stonnington'])]\n",
        "\n",
        "# top_4.head()\n",
        "# top_4.shape"
      ]
    },
    {
      "cell_type": "code",
      "execution_count": 30,
      "metadata": {
        "colab": {
          "base_uri": "https://localhost:8080/",
          "height": 351
        },
        "id": "AKhEbeyv3FJG",
        "outputId": "a9aaae29-28a9-429a-f43a-81789d5d562a"
      },
      "outputs": [
        {
          "output_type": "execute_result",
          "data": {
            "text/plain": [
              "<matplotlib.axes._subplots.AxesSubplot at 0x7f789faecd50>"
            ]
          },
          "metadata": {},
          "execution_count": 30
        },
        {
          "output_type": "display_data",
          "data": {
            "image/png": "[encoded data removed]",
            "text/plain": [
              "<Figure size 576x360 with 2 Axes>"
            ]
          },
          "metadata": {
            "needs_background": "light"
          }
        }
      ],
      "source": [
        "top_4_2 = top_4[['neighbourhood','room_type','price']].drop_duplicates().reset_index(drop=True)\n",
        "top_4_3 = top_4_2.groupby(['neighbourhood', 'room_type']).mean().reset_index()\n",
        "\n",
        "plt.figure(figsize=(8,5))\n",
        "sns.heatmap(top_4_3.pivot(\"neighbourhood\", \"room_type\", \"price\"))"
      ]
    },
    {
      "cell_type": "markdown",
      "metadata": {
        "id": "EuEJXK1K46tg"
      },
      "source": [
        "It is obviously that 'Shared room' has the lowest price no matter the location of the neighbourhood and 'entire home/apt' has the highest price across Stonnington, Port Philip and Melbourne. And 'Hotel room' in Yarra has the highest price which is reached over 400 per night. The price of 'Entire home/apt' in Stonnington is way more higher that other three type of house/room that is around 400/night.\n",
        "\n",
        "\n",
        "\n",
        "\n"
      ]
    },
    {
      "cell_type": "markdown",
      "metadata": {
        "id": "1gC2SFOA7C2E"
      },
      "source": [
        "### room_type & time - density plot\n",
        "\n",
        "A density plot is a representation of the distribution of a numeric variable.\n"
      ]
    },
    {
      "cell_type": "code",
      "execution_count": 31,
      "metadata": {
        "colab": {
          "base_uri": "https://localhost:8080/",
          "height": 351
        },
        "id": "U9KTITuI7HOm",
        "outputId": "87f4d5b6-ced5-436f-86a3-8a9f1b9a4183"
      },
      "outputs": [
        {
          "output_type": "execute_result",
          "data": {
            "text/plain": [
              "(2012.0, 2021.0)"
            ]
          },
          "metadata": {},
          "execution_count": 31
        },
        {
          "output_type": "display_data",
          "data": {
            "image/png": "[encoded data removed]",
            "text/plain": [
              "<Figure size 576x360 with 1 Axes>"
            ]
          },
          "metadata": {
            "needs_background": "light"
          }
        }
      ],
      "source": [
        "# room = new_data.room_type.value_counts().index\n",
        "# sns.FacetGrid(new_data, row='room_type', row_order=room,\n",
        "#               height=1.7, aspect=4).map(sns.kdeplot, 'year')\n",
        "\n",
        "plt.figure(figsize=(8,5))\n",
        "sns.kdeplot(\n",
        "   data=new_data, x=\"year\", hue=\"room_type\",\n",
        "   fill=True, common_norm=False, palette=\"crest\",\n",
        "   alpha=.5, linewidth=0,\n",
        ")\n",
        "plt.xlim(2012, 2021)\n",
        "\n",
        "# pal = dict(Lunch=\"seagreen\", Dinner=\".7\")\n",
        "# g = sns.FacetGrid(new_data, hue=\"room_type\", palette=\"crest\", height=5)\n",
        "# g.map(sns.scatterplot, \"price\", \"year\", s=100, alpha=.5)\n",
        "# g.add_legend()\n",
        "# plt.ylim(2010, 2022)"
      ]
    },
    {
      "cell_type": "markdown",
      "metadata": {
        "id": "vDRbyvVCDk-t"
      },
      "source": [
        "The density of different room types during year 2012 and 2021 is almst not changed."
      ]
    },
    {
      "cell_type": "code",
      "execution_count": 32,
      "metadata": {
        "colab": {
          "base_uri": "https://localhost:8080/",
          "height": 367
        },
        "id": "vRuUAS30C7rf",
        "outputId": "c74527d4-436a-48cd-d7d8-3e325be5ec38"
      },
      "outputs": [
        {
          "output_type": "execute_result",
          "data": {
            "text/plain": [
              "(1.0, 12.0)"
            ]
          },
          "metadata": {},
          "execution_count": 32
        },
        {
          "output_type": "display_data",
          "data": {
            "image/png": "[encoded data removed]",
            "text/plain": [
              "<Figure size 576x360 with 1 Axes>"
            ]
          },
          "metadata": {
            "needs_background": "light"
          }
        }
      ],
      "source": [
        "plt.figure(figsize=(8,5))\n",
        "sns.kdeplot(\n",
        "   data=new_data, x=\"month\", hue=\"room_type\",\n",
        "   fill=True, common_norm=False, palette=\"rocket\",\n",
        "   alpha=.5, linewidth=0,\n",
        ").set(title='Density of the different room types in different month')\n",
        "plt.xlim(1,12)"
      ]
    },
    {
      "cell_type": "markdown",
      "metadata": {
        "id": "J0rmE132Dyi0"
      },
      "source": [
        "The entire trendencies of the density in different room type are decresed from Jan to Nov. The number of 'Hotel room' and 'entire home/apt' have reached a small peak in April and May, and then it decreased again. And the number of each type of house/room is increased at the end of the year."
      ]
    },
    {
      "cell_type": "markdown",
      "metadata": {
        "id": "GXVDqnjWPMIs"
      },
      "source": [
        "## 3. minimum_nights & price - scatter plot\n",
        "\n",
        "A scatter plot (aka scatter chart, scatter graph) uses dots to represent values for two different numeric variables. "
      ]
    },
    {
      "cell_type": "code",
      "execution_count": 33,
      "metadata": {
        "colab": {
          "base_uri": "https://localhost:8080/",
          "height": 406
        },
        "id": "C1cKRmGnQalL",
        "outputId": "50a1e68c-7130-4662-e82b-2480e9f5a6c4"
      },
      "outputs": [
        {
          "output_type": "execute_result",
          "data": {
            "text/plain": [
              "<matplotlib.axes._subplots.AxesSubplot at 0x7f788c675e90>"
            ]
          },
          "metadata": {},
          "execution_count": 33
        },
        {
          "output_type": "display_data",
          "data": {
            "image/png": "[encoded data removed]",
            "text/plain": [
              "<Figure size 432x432 with 1 Axes>"
            ]
          },
          "metadata": {
            "needs_background": "light"
          }
        }
      ],
      "source": [
        "new_data.plot.scatter(x='minimum_nights', y='price', marker='o', figsize=(6,6))"
      ]
    },
    {
      "cell_type": "markdown",
      "metadata": {
        "id": "A5du26xZQ3hs"
      },
      "source": [
        "Some values mentioned the information that the minimum nights is over 1000 days, these values might be the outliers or not, need to check with the data collector.\n"
      ]
    },
    {
      "cell_type": "code",
      "execution_count": 34,
      "metadata": {
        "colab": {
          "base_uri": "https://localhost:8080/",
          "height": 386
        },
        "id": "A4bdXaCAFhxM",
        "outputId": "9866ba55-5945-4edb-b415-ac5e99de5eb0"
      },
      "outputs": [
        {
          "output_type": "execute_result",
          "data": {
            "text/plain": [
              "<seaborn.axisgrid.FacetGrid at 0x7f788c204510>"
            ]
          },
          "metadata": {},
          "execution_count": 34
        },
        {
          "output_type": "display_data",
          "data": {
            "image/png": "[encoded data removed]",
            "text/plain": [
              "<Figure size 408.75x360 with 1 Axes>"
            ]
          },
          "metadata": {
            "needs_background": "light"
          }
        }
      ],
      "source": [
        "g = sns.FacetGrid(new_data[new_data['month'] != 0], hue=\"month\", palette='mako', height=5)\n",
        "g.map(sns.scatterplot, \"minimum_nights\", \"price\", s=100, alpha=.5)\n",
        "g.add_legend()"
      ]
    },
    {
      "cell_type": "markdown",
      "metadata": {
        "id": "AU0NvZvCIVch"
      },
      "source": [
        "There is no limit in the minimum_nights in most of the time during entire year, and the price is not changed much based on different minimum_nights that custmers have to book."
      ]
    },
    {
      "cell_type": "markdown",
      "metadata": {
        "id": "H6n9KA_zLNYA"
      },
      "source": [
        "As most of the observations that 'minimum_nights' are less than 100 days, so the insight will be checked based on these data. "
      ]
    },
    {
      "cell_type": "code",
      "execution_count": 35,
      "metadata": {
        "colab": {
          "base_uri": "https://localhost:8080/"
        },
        "id": "XNxNBo2dLh8s",
        "outputId": "4306bc95-10c3-43cd-f9ed-a2df58354132"
      },
      "outputs": [
        {
          "output_type": "execute_result",
          "data": {
            "text/plain": [
              "0.9890097690941385"
            ]
          },
          "metadata": {},
          "execution_count": 35
        }
      ],
      "source": [
        "len(new_data[new_data.minimum_nights < 100])/len(new_data)"
      ]
    },
    {
      "cell_type": "code",
      "execution_count": 36,
      "metadata": {
        "colab": {
          "base_uri": "https://localhost:8080/",
          "height": 386
        },
        "id": "9LIxU7UDL07i",
        "outputId": "ccad4e55-db1c-4046-ff7d-debf9e2402da"
      },
      "outputs": [
        {
          "output_type": "execute_result",
          "data": {
            "text/plain": [
              "<seaborn.axisgrid.FacetGrid at 0x7f788c1f5310>"
            ]
          },
          "metadata": {},
          "execution_count": 36
        },
        {
          "output_type": "display_data",
          "data": {
            "image/png": "[encoded data removed]",
            "text/plain": [
              "<Figure size 408.75x360 with 1 Axes>"
            ]
          },
          "metadata": {
            "needs_background": "light"
          }
        }
      ],
      "source": [
        "nights_100 = new_data[new_data.minimum_nights < 100]\n",
        "g = sns.FacetGrid(nights_100[nights_100['month'] != 0], hue=\"month\", palette='mako', height=5)\n",
        "g.map(sns.scatterplot, \"minimum_nights\", \"price\", s=100, alpha=.5)\n",
        "g.add_legend()"
      ]
    },
    {
      "cell_type": "code",
      "execution_count": 37,
      "metadata": {
        "colab": {
          "base_uri": "https://localhost:8080/"
        },
        "id": "IxEEo_4kMSFm",
        "outputId": "aabea811-c1d5-4f98-e35e-162cc67069dd"
      },
      "outputs": [
        {
          "output_type": "execute_result",
          "data": {
            "text/plain": [
              "0.9236789520426287"
            ]
          },
          "metadata": {},
          "execution_count": 37
        }
      ],
      "source": [
        "len(new_data[new_data.minimum_nights < 14])/len(new_data)"
      ]
    },
    {
      "cell_type": "code",
      "execution_count": 38,
      "metadata": {
        "colab": {
          "base_uri": "https://localhost:8080/",
          "height": 386
        },
        "id": "vMlX2DGhMWnb",
        "outputId": "ad6dd904-36cb-4c6d-ba5e-ba3130ecf1fa"
      },
      "outputs": [
        {
          "output_type": "execute_result",
          "data": {
            "text/plain": [
              "<seaborn.axisgrid.FacetGrid at 0x7f788c083050>"
            ]
          },
          "metadata": {},
          "execution_count": 38
        },
        {
          "output_type": "display_data",
          "data": {
            "image/png": "[encoded data removed]",
            "text/plain": [
              "<Figure size 408.75x360 with 1 Axes>"
            ]
          },
          "metadata": {
            "needs_background": "light"
          }
        }
      ],
      "source": [
        "nights_14 = new_data[new_data.minimum_nights < 14]\n",
        "g = sns.FacetGrid(nights_14[nights_14['month'] != 0], hue=\"month\", palette='mako', height=5)\n",
        "g.map(sns.scatterplot, \"minimum_nights\", \"price\", s=100, alpha=.5)\n",
        "g.add_legend()"
      ]
    },
    {
      "cell_type": "code",
      "execution_count": 39,
      "metadata": {
        "id": "djUg9MX7NlBb"
      },
      "outputs": [],
      "source": [
        "nights2_14 = nights_14[nights_14.price != 0][['price','minimum_nights']].groupby(['minimum_nights']).median().reset_index()"
      ]
    },
    {
      "cell_type": "code",
      "execution_count": 40,
      "metadata": {
        "id": "ox-yBExAOCZ5"
      },
      "outputs": [],
      "source": [
        "# nights_14"
      ]
    },
    {
      "cell_type": "code",
      "execution_count": 41,
      "metadata": {
        "colab": {
          "base_uri": "https://localhost:8080/",
          "height": 338
        },
        "id": "4kJTiFphNlBf",
        "outputId": "3dad76f2-4bc4-4c7a-84cb-601da8911052"
      },
      "outputs": [
        {
          "output_type": "display_data",
          "data": {
            "image/png": "[encoded data removed]",
            "text/plain": [
              "<Figure size 360x360 with 1 Axes>"
            ]
          },
          "metadata": {
            "needs_background": "light"
          }
        }
      ],
      "source": [
        "plt.figure(figsize=(5,5))\n",
        "plt.plot(nights2_14.minimum_nights, nights2_14.price, color='red', marker='o')\n",
        "plt.xlabel('Minimum Nights', fontsize=14)\n",
        "plt.ylabel('Price', fontsize=14)\n",
        "plt.grid(True)\n",
        "plt.show()"
      ]
    },
    {
      "cell_type": "markdown",
      "metadata": {
        "id": "4eZBh0ICOjaR"
      },
      "source": [
        "For each minimum nights of booking, take the median price values as they can represent the main pattern and avoid the affect of extreme values.\n",
        "\n",
        "it can be seen that "
      ]
    },
    {
      "cell_type": "markdown",
      "metadata": {
        "id": "xeXwU-IiPWBI"
      },
      "source": [
        "## 4. time & price (last_review & price)"
      ]
    },
    {
      "cell_type": "code",
      "execution_count": 42,
      "metadata": {
        "id": "6rlLbpq6SJh2"
      },
      "outputs": [],
      "source": [
        "# set(new_data.year_review)"
      ]
    },
    {
      "cell_type": "markdown",
      "metadata": {
        "id": "SAeJD4sOzTAG"
      },
      "source": [
        "### heatmap"
      ]
    },
    {
      "cell_type": "code",
      "execution_count": 43,
      "metadata": {
        "id": "dGKrpI-hVwWj"
      },
      "outputs": [],
      "source": [
        "new_data1 = new_data[new_data.year != 0]"
      ]
    },
    {
      "cell_type": "code",
      "execution_count": 44,
      "metadata": {
        "colab": {
          "base_uri": "https://localhost:8080/"
        },
        "id": "YX_-GBoqWCO_",
        "outputId": "cb2aa4d0-2ba8-464f-db8f-010614ec1bf3"
      },
      "outputs": [
        {
          "output_type": "execute_result",
          "data": {
            "text/plain": [
              "{2012, 2013, 2014, 2015, 2016, 2017, 2018, 2019, 2020, 2021}"
            ]
          },
          "metadata": {},
          "execution_count": 44
        }
      ],
      "source": [
        "set(new_data1.year)"
      ]
    },
    {
      "cell_type": "code",
      "execution_count": 45,
      "metadata": {
        "colab": {
          "base_uri": "https://localhost:8080/",
          "height": 357
        },
        "id": "3fb5TCJApDNn",
        "outputId": "b245eb1d-584a-40f0-fda9-cc4ddd45e324"
      },
      "outputs": [
        {
          "output_type": "execute_result",
          "data": {
            "text/html": [
              "\n",
              "  <div id=\"df-05508f69-7247-44a0-a082-3aeea7fc800b\">\n",
              "    <div class=\"colab-df-container\">\n",
              "      <div>\n",
              "<style scoped>\n",
              "    .dataframe tbody tr th:only-of-type {\n",
              "        vertical-align: middle;\n",
              "    }\n",
              "\n",
              "    .dataframe tbody tr th {\n",
              "        vertical-align: top;\n",
              "    }\n",
              "\n",
              "    .dataframe thead th {\n",
              "        text-align: right;\n",
              "    }\n",
              "</style>\n",
              "<table border=\"1\" class=\"dataframe\">\n",
              "  <thead>\n",
              "    <tr style=\"text-align: right;\">\n",
              "      <th></th>\n",
              "      <th>neighbourhood</th>\n",
              "      <th>room_type</th>\n",
              "      <th>price</th>\n",
              "      <th>minimum_nights</th>\n",
              "      <th>number_of_reviews</th>\n",
              "      <th>calculated_host_listings_count</th>\n",
              "      <th>last_review</th>\n",
              "      <th>availability_365</th>\n",
              "      <th>year</th>\n",
              "      <th>month</th>\n",
              "      <th>year_month</th>\n",
              "    </tr>\n",
              "  </thead>\n",
              "  <tbody>\n",
              "    <tr>\n",
              "      <th>0</th>\n",
              "      <td>Manningham</td>\n",
              "      <td>Private room</td>\n",
              "      <td>60</td>\n",
              "      <td>1</td>\n",
              "      <td>4</td>\n",
              "      <td>1</td>\n",
              "      <td>2015-09-12</td>\n",
              "      <td>365</td>\n",
              "      <td>2015</td>\n",
              "      <td>9</td>\n",
              "      <td>2015-09</td>\n",
              "    </tr>\n",
              "    <tr>\n",
              "      <th>1</th>\n",
              "      <td>Port Phillip</td>\n",
              "      <td>Entire home/apt</td>\n",
              "      <td>95</td>\n",
              "      <td>3</td>\n",
              "      <td>42</td>\n",
              "      <td>10</td>\n",
              "      <td>2016-01-25</td>\n",
              "      <td>0</td>\n",
              "      <td>2016</td>\n",
              "      <td>1</td>\n",
              "      <td>2016-01</td>\n",
              "    </tr>\n",
              "    <tr>\n",
              "      <th>2</th>\n",
              "      <td>Melbourne</td>\n",
              "      <td>Private room</td>\n",
              "      <td>1000</td>\n",
              "      <td>1</td>\n",
              "      <td>2</td>\n",
              "      <td>1</td>\n",
              "      <td>2012-01-27</td>\n",
              "      <td>365</td>\n",
              "      <td>2012</td>\n",
              "      <td>1</td>\n",
              "      <td>2012-01</td>\n",
              "    </tr>\n",
              "    <tr>\n",
              "      <th>3</th>\n",
              "      <td>Casey</td>\n",
              "      <td>Entire home/apt</td>\n",
              "      <td>99</td>\n",
              "      <td>1</td>\n",
              "      <td>163</td>\n",
              "      <td>1</td>\n",
              "      <td>2020-01-09</td>\n",
              "      <td>341</td>\n",
              "      <td>2020</td>\n",
              "      <td>1</td>\n",
              "      <td>2020-01</td>\n",
              "    </tr>\n",
              "    <tr>\n",
              "      <th>4</th>\n",
              "      <td>Darebin</td>\n",
              "      <td>Private room</td>\n",
              "      <td>40</td>\n",
              "      <td>7</td>\n",
              "      <td>159</td>\n",
              "      <td>2</td>\n",
              "      <td>2017-08-24</td>\n",
              "      <td>0</td>\n",
              "      <td>2017</td>\n",
              "      <td>8</td>\n",
              "      <td>2017-08</td>\n",
              "    </tr>\n",
              "  </tbody>\n",
              "</table>\n",
              "</div>\n",
              "      <button class=\"colab-df-convert\" onclick=\"convertToInteractive('df-05508f69-7247-44a0-a082-3aeea7fc800b')\"\n",
              "              title=\"Convert this dataframe to an interactive table.\"\n",
              "              style=\"display:none;\">\n",
              "        \n",
              "  <svg xmlns=\"http://www.w3.org/2000/svg\" height=\"24px\"viewBox=\"0 0 24 24\"\n",
              "       width=\"24px\">\n",
              "    <path d=\"M0 0h24v24H0V0z\" fill=\"none\"/>\n",
              "    <path d=\"M18.56 5.44l.94 2.06.94-2.06 2.06-.94-2.06-.94-.94-2.06-.94 2.06-2.06.94zm-11 1L8.5 8.5l.94-2.06 2.06-.94-2.06-.94L8.5 2.5l-.94 2.06-2.06.94zm10 10l.94 2.06.94-2.06 2.06-.94-2.06-.94-.94-2.06-.94 2.06-2.06.94z\"/><path d=\"M17.41 7.96l-1.37-1.37c-.4-.4-.92-.59-1.43-.59-.52 0-1.04.2-1.43.59L10.3 9.45l-7.72 7.72c-.78.78-.78 2.05 0 2.83L4 21.41c.39.39.9.59 1.41.59.51 0 1.02-.2 1.41-.59l7.78-7.78 2.81-2.81c.8-.78.8-2.07 0-2.86zM5.41 20L4 18.59l7.72-7.72 1.47 1.35L5.41 20z\"/>\n",
              "  </svg>\n",
              "      </button>\n",
              "      \n",
              "  <style>\n",
              "    .colab-df-container {\n",
              "      display:flex;\n",
              "      flex-wrap:wrap;\n",
              "      gap: 12px;\n",
              "    }\n",
              "\n",
              "    .colab-df-convert {\n",
              "      background-color: #E8F0FE;\n",
              "      border: none;\n",
              "      border-radius: 50%;\n",
              "      cursor: pointer;\n",
              "      display: none;\n",
              "      fill: #1967D2;\n",
              "      height: 32px;\n",
              "      padding: 0 0 0 0;\n",
              "      width: 32px;\n",
              "    }\n",
              "\n",
              "    .colab-df-convert:hover {\n",
              "      background-color: #E2EBFA;\n",
              "      box-shadow: 0px 1px 2px rgba(60, 64, 67, 0.3), 0px 1px 3px 1px rgba(60, 64, 67, 0.15);\n",
              "      fill: #174EA6;\n",
              "    }\n",
              "\n",
              "    [theme=dark] .colab-df-convert {\n",
              "      background-color: #3B4455;\n",
              "      fill: #D2E3FC;\n",
              "    }\n",
              "\n",
              "    [theme=dark] .colab-df-convert:hover {\n",
              "      background-color: #434B5C;\n",
              "      box-shadow: 0px 1px 3px 1px rgba(0, 0, 0, 0.15);\n",
              "      filter: drop-shadow(0px 1px 2px rgba(0, 0, 0, 0.3));\n",
              "      fill: #FFFFFF;\n",
              "    }\n",
              "  </style>\n",
              "\n",
              "      <script>\n",
              "        const buttonEl =\n",
              "          document.querySelector('#df-05508f69-7247-44a0-a082-3aeea7fc800b button.colab-df-convert');\n",
              "        buttonEl.style.display =\n",
              "          google.colab.kernel.accessAllowed ? 'block' : 'none';\n",
              "\n",
              "        async function convertToInteractive(key) {\n",
              "          const element = document.querySelector('#df-05508f69-7247-44a0-a082-3aeea7fc800b');\n",
              "          const dataTable =\n",
              "            await google.colab.kernel.invokeFunction('convertToInteractive',\n",
              "                                                     [key], {});\n",
              "          if (!dataTable) return;\n",
              "\n",
              "          const docLinkHtml = 'Like what you see? Visit the ' +\n",
              "            '<a target=\"_blank\" href=https://colab.research.google.com/notebooks/data_table.ipynb>data table notebook</a>'\n",
              "            + ' to learn more about interactive tables.';\n",
              "          element.innerHTML = '';\n",
              "          dataTable['output_type'] = 'display_data';\n",
              "          await google.colab.output.renderOutput(dataTable, element);\n",
              "          const docLink = document.createElement('div');\n",
              "          docLink.innerHTML = docLinkHtml;\n",
              "          element.appendChild(docLink);\n",
              "        }\n",
              "      </script>\n",
              "    </div>\n",
              "  </div>\n",
              "  "
            ],
            "text/plain": [
              "  neighbourhood        room_type  price  ...  year  month  year_month\n",
              "0    Manningham     Private room     60  ...  2015      9     2015-09\n",
              "1  Port Phillip  Entire home/apt     95  ...  2016      1     2016-01\n",
              "2     Melbourne     Private room   1000  ...  2012      1     2012-01\n",
              "3         Casey  Entire home/apt     99  ...  2020      1     2020-01\n",
              "4       Darebin     Private room     40  ...  2017      8     2017-08\n",
              "\n",
              "[5 rows x 11 columns]"
            ]
          },
          "metadata": {},
          "execution_count": 45
        }
      ],
      "source": [
        "new_data1.head()"
      ]
    },
    {
      "cell_type": "code",
      "execution_count": 46,
      "metadata": {
        "id": "nAuo9BJ5RIj5"
      },
      "outputs": [],
      "source": [
        "# year\n",
        "# sns.swarmplot(x='room_type', y='price', data=new_data1, hue='year_review', dodge=True, palette='viridis')"
      ]
    },
    {
      "cell_type": "code",
      "execution_count": 47,
      "metadata": {
        "id": "-TNDrBhQpYqI"
      },
      "outputs": [],
      "source": [
        "# https://seaborn.pydata.org/generated/seaborn.heatmap.html\n",
        "new_data2 = new_data[new_data.year != 0][['month','year','price']].drop_duplicates().reset_index(drop=True)\n",
        "# new_data3 = new_data2.drop_duplicates().reset_index(drop=True)\n",
        "new_data3 = new_data2.groupby(['month', 'year']).mean().reset_index()"
      ]
    },
    {
      "cell_type": "code",
      "execution_count": 48,
      "metadata": {
        "colab": {
          "base_uri": "https://localhost:8080/",
          "height": 206
        },
        "id": "2wtwBhBKqPe7",
        "outputId": "ec9175a7-c2b7-496e-ebf7-a0a7791d2a87"
      },
      "outputs": [
        {
          "output_type": "execute_result",
          "data": {
            "text/html": [
              "\n",
              "  <div id=\"df-d1b0f820-2a2c-4992-a267-9f96e5960a34\">\n",
              "    <div class=\"colab-df-container\">\n",
              "      <div>\n",
              "<style scoped>\n",
              "    .dataframe tbody tr th:only-of-type {\n",
              "        vertical-align: middle;\n",
              "    }\n",
              "\n",
              "    .dataframe tbody tr th {\n",
              "        vertical-align: top;\n",
              "    }\n",
              "\n",
              "    .dataframe thead th {\n",
              "        text-align: right;\n",
              "    }\n",
              "</style>\n",
              "<table border=\"1\" class=\"dataframe\">\n",
              "  <thead>\n",
              "    <tr style=\"text-align: right;\">\n",
              "      <th></th>\n",
              "      <th>month</th>\n",
              "      <th>year</th>\n",
              "      <th>price</th>\n",
              "    </tr>\n",
              "  </thead>\n",
              "  <tbody>\n",
              "    <tr>\n",
              "      <th>0</th>\n",
              "      <td>1</td>\n",
              "      <td>2012</td>\n",
              "      <td>1000.000000</td>\n",
              "    </tr>\n",
              "    <tr>\n",
              "      <th>1</th>\n",
              "      <td>1</td>\n",
              "      <td>2014</td>\n",
              "      <td>150.666667</td>\n",
              "    </tr>\n",
              "    <tr>\n",
              "      <th>2</th>\n",
              "      <td>1</td>\n",
              "      <td>2015</td>\n",
              "      <td>176.062500</td>\n",
              "    </tr>\n",
              "    <tr>\n",
              "      <th>3</th>\n",
              "      <td>1</td>\n",
              "      <td>2016</td>\n",
              "      <td>172.385965</td>\n",
              "    </tr>\n",
              "    <tr>\n",
              "      <th>4</th>\n",
              "      <td>1</td>\n",
              "      <td>2017</td>\n",
              "      <td>185.137931</td>\n",
              "    </tr>\n",
              "  </tbody>\n",
              "</table>\n",
              "</div>\n",
              "      <button class=\"colab-df-convert\" onclick=\"convertToInteractive('df-d1b0f820-2a2c-4992-a267-9f96e5960a34')\"\n",
              "              title=\"Convert this dataframe to an interactive table.\"\n",
              "              style=\"display:none;\">\n",
              "        \n",
              "  <svg xmlns=\"http://www.w3.org/2000/svg\" height=\"24px\"viewBox=\"0 0 24 24\"\n",
              "       width=\"24px\">\n",
              "    <path d=\"M0 0h24v24H0V0z\" fill=\"none\"/>\n",
              "    <path d=\"M18.56 5.44l.94 2.06.94-2.06 2.06-.94-2.06-.94-.94-2.06-.94 2.06-2.06.94zm-11 1L8.5 8.5l.94-2.06 2.06-.94-2.06-.94L8.5 2.5l-.94 2.06-2.06.94zm10 10l.94 2.06.94-2.06 2.06-.94-2.06-.94-.94-2.06-.94 2.06-2.06.94z\"/><path d=\"M17.41 7.96l-1.37-1.37c-.4-.4-.92-.59-1.43-.59-.52 0-1.04.2-1.43.59L10.3 9.45l-7.72 7.72c-.78.78-.78 2.05 0 2.83L4 21.41c.39.39.9.59 1.41.59.51 0 1.02-.2 1.41-.59l7.78-7.78 2.81-2.81c.8-.78.8-2.07 0-2.86zM5.41 20L4 18.59l7.72-7.72 1.47 1.35L5.41 20z\"/>\n",
              "  </svg>\n",
              "      </button>\n",
              "      \n",
              "  <style>\n",
              "    .colab-df-container {\n",
              "      display:flex;\n",
              "      flex-wrap:wrap;\n",
              "      gap: 12px;\n",
              "    }\n",
              "\n",
              "    .colab-df-convert {\n",
              "      background-color: #E8F0FE;\n",
              "      border: none;\n",
              "      border-radius: 50%;\n",
              "      cursor: pointer;\n",
              "      display: none;\n",
              "      fill: #1967D2;\n",
              "      height: 32px;\n",
              "      padding: 0 0 0 0;\n",
              "      width: 32px;\n",
              "    }\n",
              "\n",
              "    .colab-df-convert:hover {\n",
              "      background-color: #E2EBFA;\n",
              "      box-shadow: 0px 1px 2px rgba(60, 64, 67, 0.3), 0px 1px 3px 1px rgba(60, 64, 67, 0.15);\n",
              "      fill: #174EA6;\n",
              "    }\n",
              "\n",
              "    [theme=dark] .colab-df-convert {\n",
              "      background-color: #3B4455;\n",
              "      fill: #D2E3FC;\n",
              "    }\n",
              "\n",
              "    [theme=dark] .colab-df-convert:hover {\n",
              "      background-color: #434B5C;\n",
              "      box-shadow: 0px 1px 3px 1px rgba(0, 0, 0, 0.15);\n",
              "      filter: drop-shadow(0px 1px 2px rgba(0, 0, 0, 0.3));\n",
              "      fill: #FFFFFF;\n",
              "    }\n",
              "  </style>\n",
              "\n",
              "      <script>\n",
              "        const buttonEl =\n",
              "          document.querySelector('#df-d1b0f820-2a2c-4992-a267-9f96e5960a34 button.colab-df-convert');\n",
              "        buttonEl.style.display =\n",
              "          google.colab.kernel.accessAllowed ? 'block' : 'none';\n",
              "\n",
              "        async function convertToInteractive(key) {\n",
              "          const element = document.querySelector('#df-d1b0f820-2a2c-4992-a267-9f96e5960a34');\n",
              "          const dataTable =\n",
              "            await google.colab.kernel.invokeFunction('convertToInteractive',\n",
              "                                                     [key], {});\n",
              "          if (!dataTable) return;\n",
              "\n",
              "          const docLinkHtml = 'Like what you see? Visit the ' +\n",
              "            '<a target=\"_blank\" href=https://colab.research.google.com/notebooks/data_table.ipynb>data table notebook</a>'\n",
              "            + ' to learn more about interactive tables.';\n",
              "          element.innerHTML = '';\n",
              "          dataTable['output_type'] = 'display_data';\n",
              "          await google.colab.output.renderOutput(dataTable, element);\n",
              "          const docLink = document.createElement('div');\n",
              "          docLink.innerHTML = docLinkHtml;\n",
              "          element.appendChild(docLink);\n",
              "        }\n",
              "      </script>\n",
              "    </div>\n",
              "  </div>\n",
              "  "
            ],
            "text/plain": [
              "   month  year        price\n",
              "0      1  2012  1000.000000\n",
              "1      1  2014   150.666667\n",
              "2      1  2015   176.062500\n",
              "3      1  2016   172.385965\n",
              "4      1  2017   185.137931"
            ]
          },
          "metadata": {},
          "execution_count": 48
        }
      ],
      "source": [
        "new_data3.head()"
      ]
    },
    {
      "cell_type": "code",
      "execution_count": 49,
      "metadata": {
        "colab": {
          "base_uri": "https://localhost:8080/",
          "height": 355
        },
        "id": "gCseIqy1yxxL",
        "outputId": "9a8e5744-1c90-4df2-a9a5-d5dd1dfbb37a"
      },
      "outputs": [
        {
          "output_type": "execute_result",
          "data": {
            "text/plain": [
              "<matplotlib.axes._subplots.AxesSubplot at 0x7f788c0a0f10>"
            ]
          },
          "metadata": {},
          "execution_count": 49
        },
        {
          "output_type": "display_data",
          "data": {
            "image/png": "[encoded data removed]",
            "text/plain": [
              "<Figure size 576x360 with 2 Axes>"
            ]
          },
          "metadata": {
            "needs_background": "light"
          }
        }
      ],
      "source": [
        "plt.figure(figsize=(8,5))\n",
        "new_data4 = new_data3.pivot(\"month\", \"year\", \"price\")\n",
        "sns.heatmap(new_data4)"
      ]
    },
    {
      "cell_type": "markdown",
      "metadata": {
        "id": "kNc5VmQr0XZd"
      },
      "source": [
        "The price of the house/room is the highest in year 2012 and year 2013. And the price in other time is almost the same and much lower."
      ]
    },
    {
      "cell_type": "markdown",
      "metadata": {
        "id": "PMMZ6eDazWuX"
      },
      "source": [
        "### line plot\n",
        "\n",
        "A Line plot can be defined as a graph that displays data as points or check marks above a number line, showing the frequency of each value."
      ]
    },
    {
      "cell_type": "code",
      "execution_count": 50,
      "metadata": {
        "id": "1XWm0pMSMoqR"
      },
      "outputs": [],
      "source": [
        "review = new_data[new_data.year != 0][['number_of_reviews','year', 'month', 'year_month']].drop_duplicates().reset_index(drop=True)\n",
        "review2 = review.groupby(['year']).median().reset_index()"
      ]
    },
    {
      "cell_type": "code",
      "execution_count": 51,
      "metadata": {
        "colab": {
          "base_uri": "https://localhost:8080/",
          "height": 338
        },
        "id": "THYyRzt_Mpxm",
        "outputId": "3ad2c597-d616-4430-ca3c-e3b452d5d0ab"
      },
      "outputs": [
        {
          "output_type": "display_data",
          "data": {
            "image/png": "[encoded data removed]",
            "text/plain": [
              "<Figure size 360x360 with 1 Axes>"
            ]
          },
          "metadata": {
            "needs_background": "light"
          }
        }
      ],
      "source": [
        "# year\n",
        "plt.figure(figsize=(5,5))\n",
        "plt.plot(review2.year, review2.number_of_reviews, color='red', marker='o')\n",
        "plt.xlabel('Year', fontsize=14)\n",
        "plt.ylabel('Number Of Reviews', fontsize=14)\n",
        "plt.grid(True)\n",
        "plt.show()"
      ]
    },
    {
      "cell_type": "markdown",
      "metadata": {
        "id": "TUtEHOtx9vVa"
      },
      "source": [
        "Airbnb is built in 2008, it is can be seen from above that with the time goes by, and the number of reviews showed decrease due to the Covid-19."
      ]
    },
    {
      "cell_type": "code",
      "execution_count": 52,
      "metadata": {
        "colab": {
          "base_uri": "https://localhost:8080/",
          "height": 338
        },
        "id": "tnFR6qxWRLfn",
        "outputId": "7cfc4b55-ea48-48cf-b19b-c408d624ebd4"
      },
      "outputs": [
        {
          "output_type": "display_data",
          "data": {
            "image/png": "[encoded data removed]",
            "text/plain": [
              "<Figure size 360x360 with 1 Axes>"
            ]
          },
          "metadata": {
            "needs_background": "light"
          }
        }
      ],
      "source": [
        "# month\n",
        "review3 = new_data[new_data.year != 2021][['number_of_reviews','year', 'month']].drop_duplicates().reset_index(drop=True)\n",
        "review4 = review.groupby(['month']).median().reset_index()\n",
        "\n",
        "plt.figure(figsize=(5,5))\n",
        "plt.plot(review4.month, review4.number_of_reviews, color='red', marker='o')\n",
        "plt.xlabel('Month', fontsize=14)\n",
        "plt.ylabel('Number Of Reviews', fontsize=14)\n",
        "plt.grid(True)\n",
        "plt.show()"
      ]
    },
    {
      "cell_type": "markdown",
      "metadata": {
        "id": "9o7S89EB-JTr"
      },
      "source": [
        "Average of the number of reviews is selected based on different month. People are tend to book house/room in Feb, March, April, Dec and Nov. The value in Sep is much lower as is below 50 than other month."
      ]
    },
    {
      "cell_type": "code",
      "execution_count": 53,
      "metadata": {
        "colab": {
          "base_uri": "https://localhost:8080/",
          "height": 114
        },
        "id": "A7nPgAb_RUdC",
        "outputId": "9b768965-2e37-4d5a-cb4a-f9cf1c69df6f"
      },
      "outputs": [
        {
          "output_type": "display_data",
          "data": {
            "image/png": "[encoded data removed]",
            "text/plain": [
              "<Figure size 2880x360 with 1 Axes>"
            ]
          },
          "metadata": {
            "needs_background": "light"
          }
        }
      ],
      "source": [
        "# year_month\n",
        "review3 = new_data[new_data.year != 2021][['number_of_reviews','year_month']].drop_duplicates().reset_index(drop=True)\n",
        "review4 = review.groupby(['year_month']).median().reset_index()\n",
        "\n",
        "plt.figure(figsize=(40,5))\n",
        "plt.plot(review4.year_month, review4.number_of_reviews, color='red', marker='o')\n",
        "plt.xlabel('Year_Month', fontsize=14)\n",
        "plt.xticks(rotation=90)\n",
        "plt.ylabel('Number Of Reviews', fontsize=14)\n",
        "plt.grid(True)\n",
        "plt.show()"
      ]
    },
    {
      "cell_type": "markdown",
      "metadata": {
        "id": "_yvOlGX3TDfl"
      },
      "source": [
        "The number of reviews tends to increase from 2012 to 2019, however after the Covid, it occurrs a big decrease as there less and less people want to book house/room outside for their own safety. Until 2020.10, the number of reviews keep in a balance at around 40-60 per month."
      ]
    },
    {
      "cell_type": "markdown",
      "metadata": {
        "id": "MjYOlGtiPYct"
      },
      "source": [
        "## 5. availability & price"
      ]
    },
    {
      "cell_type": "code",
      "execution_count": 54,
      "metadata": {
        "colab": {
          "base_uri": "https://localhost:8080/",
          "height": 515
        },
        "id": "05bXCbLbXviW",
        "outputId": "fdb61177-79e8-45d6-f21f-471290e047f6"
      },
      "outputs": [
        {
          "output_type": "execute_result",
          "data": {
            "text/plain": [
              "<matplotlib.axes._subplots.AxesSubplot at 0x7f788bdf6890>"
            ]
          },
          "metadata": {},
          "execution_count": 54
        },
        {
          "output_type": "display_data",
          "data": {
            "image/png": "[encoded data removed]",
            "text/plain": [
              "<Figure size 576x576 with 1 Axes>"
            ]
          },
          "metadata": {
            "needs_background": "light"
          }
        }
      ],
      "source": [
        "new_data.plot.scatter(x='availability_365', y='price', marker='o', figsize=(8,8))"
      ]
    },
    {
      "cell_type": "markdown",
      "metadata": {
        "id": "nWwaAEQC_X93"
      },
      "source": [
        "There is not much relationship between the availibility and price"
      ]
    },
    {
      "cell_type": "markdown",
      "metadata": {
        "id": "ranEh0lF3Ee6"
      },
      "source": [
        "## 6. Covid\n",
        "\n",
        "To prove the inference mentioned above that Coivd -19 do affect the number of customers in Airbnb, I comine the Covi data of Melborne with Airbnb dataset. "
      ]
    },
    {
      "cell_type": "code",
      "execution_count": 55,
      "metadata": {
        "id": "KonMZH-93I2c"
      },
      "outputs": [],
      "source": [
        "covid = pd.read_csv('/content/drive/MyDrive/summer_project_2021/airbnb/NCOV_COVID_Cases_by_LGA_20220114.csv')"
      ]
    },
    {
      "cell_type": "code",
      "execution_count": 56,
      "metadata": {
        "colab": {
          "base_uri": "https://localhost:8080/",
          "height": 206
        },
        "id": "Kv_FT7hi_wRi",
        "outputId": "a7d9c8fb-9ab0-4c19-c2a9-7b8ff45b2e62"
      },
      "outputs": [
        {
          "output_type": "execute_result",
          "data": {
            "text/html": [
              "\n",
              "  <div id=\"df-7c249d9b-4338-433c-b2ed-25fe7484e5b9\">\n",
              "    <div class=\"colab-df-container\">\n",
              "      <div>\n",
              "<style scoped>\n",
              "    .dataframe tbody tr th:only-of-type {\n",
              "        vertical-align: middle;\n",
              "    }\n",
              "\n",
              "    .dataframe tbody tr th {\n",
              "        vertical-align: top;\n",
              "    }\n",
              "\n",
              "    .dataframe thead th {\n",
              "        text-align: right;\n",
              "    }\n",
              "</style>\n",
              "<table border=\"1\" class=\"dataframe\">\n",
              "  <thead>\n",
              "    <tr style=\"text-align: right;\">\n",
              "      <th></th>\n",
              "      <th>diagnosis_date</th>\n",
              "      <th>Localgovernmentarea</th>\n",
              "    </tr>\n",
              "  </thead>\n",
              "  <tbody>\n",
              "    <tr>\n",
              "      <th>0</th>\n",
              "      <td>2020-03-11</td>\n",
              "      <td>Greater Geelong (C)</td>\n",
              "    </tr>\n",
              "    <tr>\n",
              "      <th>1</th>\n",
              "      <td>2020-03-08</td>\n",
              "      <td>Mornington Peninsula (S)</td>\n",
              "    </tr>\n",
              "    <tr>\n",
              "      <th>2</th>\n",
              "      <td>2020-03-09</td>\n",
              "      <td>Port Phillip (C)</td>\n",
              "    </tr>\n",
              "    <tr>\n",
              "      <th>3</th>\n",
              "      <td>2020-08-01</td>\n",
              "      <td>Whittlesea (C)</td>\n",
              "    </tr>\n",
              "    <tr>\n",
              "      <th>4</th>\n",
              "      <td>2020-03-01</td>\n",
              "      <td>Casey (C)</td>\n",
              "    </tr>\n",
              "  </tbody>\n",
              "</table>\n",
              "</div>\n",
              "      <button class=\"colab-df-convert\" onclick=\"convertToInteractive('df-7c249d9b-4338-433c-b2ed-25fe7484e5b9')\"\n",
              "              title=\"Convert this dataframe to an interactive table.\"\n",
              "              style=\"display:none;\">\n",
              "        \n",
              "  <svg xmlns=\"http://www.w3.org/2000/svg\" height=\"24px\"viewBox=\"0 0 24 24\"\n",
              "       width=\"24px\">\n",
              "    <path d=\"M0 0h24v24H0V0z\" fill=\"none\"/>\n",
              "    <path d=\"M18.56 5.44l.94 2.06.94-2.06 2.06-.94-2.06-.94-.94-2.06-.94 2.06-2.06.94zm-11 1L8.5 8.5l.94-2.06 2.06-.94-2.06-.94L8.5 2.5l-.94 2.06-2.06.94zm10 10l.94 2.06.94-2.06 2.06-.94-2.06-.94-.94-2.06-.94 2.06-2.06.94z\"/><path d=\"M17.41 7.96l-1.37-1.37c-.4-.4-.92-.59-1.43-.59-.52 0-1.04.2-1.43.59L10.3 9.45l-7.72 7.72c-.78.78-.78 2.05 0 2.83L4 21.41c.39.39.9.59 1.41.59.51 0 1.02-.2 1.41-.59l7.78-7.78 2.81-2.81c.8-.78.8-2.07 0-2.86zM5.41 20L4 18.59l7.72-7.72 1.47 1.35L5.41 20z\"/>\n",
              "  </svg>\n",
              "      </button>\n",
              "      \n",
              "  <style>\n",
              "    .colab-df-container {\n",
              "      display:flex;\n",
              "      flex-wrap:wrap;\n",
              "      gap: 12px;\n",
              "    }\n",
              "\n",
              "    .colab-df-convert {\n",
              "      background-color: #E8F0FE;\n",
              "      border: none;\n",
              "      border-radius: 50%;\n",
              "      cursor: pointer;\n",
              "      display: none;\n",
              "      fill: #1967D2;\n",
              "      height: 32px;\n",
              "      padding: 0 0 0 0;\n",
              "      width: 32px;\n",
              "    }\n",
              "\n",
              "    .colab-df-convert:hover {\n",
              "      background-color: #E2EBFA;\n",
              "      box-shadow: 0px 1px 2px rgba(60, 64, 67, 0.3), 0px 1px 3px 1px rgba(60, 64, 67, 0.15);\n",
              "      fill: #174EA6;\n",
              "    }\n",
              "\n",
              "    [theme=dark] .colab-df-convert {\n",
              "      background-color: #3B4455;\n",
              "      fill: #D2E3FC;\n",
              "    }\n",
              "\n",
              "    [theme=dark] .colab-df-convert:hover {\n",
              "      background-color: #434B5C;\n",
              "      box-shadow: 0px 1px 3px 1px rgba(0, 0, 0, 0.15);\n",
              "      filter: drop-shadow(0px 1px 2px rgba(0, 0, 0, 0.3));\n",
              "      fill: #FFFFFF;\n",
              "    }\n",
              "  </style>\n",
              "\n",
              "      <script>\n",
              "        const buttonEl =\n",
              "          document.querySelector('#df-7c249d9b-4338-433c-b2ed-25fe7484e5b9 button.colab-df-convert');\n",
              "        buttonEl.style.display =\n",
              "          google.colab.kernel.accessAllowed ? 'block' : 'none';\n",
              "\n",
              "        async function convertToInteractive(key) {\n",
              "          const element = document.querySelector('#df-7c249d9b-4338-433c-b2ed-25fe7484e5b9');\n",
              "          const dataTable =\n",
              "            await google.colab.kernel.invokeFunction('convertToInteractive',\n",
              "                                                     [key], {});\n",
              "          if (!dataTable) return;\n",
              "\n",
              "          const docLinkHtml = 'Like what you see? Visit the ' +\n",
              "            '<a target=\"_blank\" href=https://colab.research.google.com/notebooks/data_table.ipynb>data table notebook</a>'\n",
              "            + ' to learn more about interactive tables.';\n",
              "          element.innerHTML = '';\n",
              "          dataTable['output_type'] = 'display_data';\n",
              "          await google.colab.output.renderOutput(dataTable, element);\n",
              "          const docLink = document.createElement('div');\n",
              "          docLink.innerHTML = docLinkHtml;\n",
              "          element.appendChild(docLink);\n",
              "        }\n",
              "      </script>\n",
              "    </div>\n",
              "  </div>\n",
              "  "
            ],
            "text/plain": [
              "  diagnosis_date       Localgovernmentarea\n",
              "0     2020-03-11       Greater Geelong (C)\n",
              "1     2020-03-08  Mornington Peninsula (S)\n",
              "2     2020-03-09          Port Phillip (C)\n",
              "3     2020-08-01            Whittlesea (C)\n",
              "4     2020-03-01                 Casey (C)"
            ]
          },
          "metadata": {},
          "execution_count": 56
        }
      ],
      "source": [
        "covid.head()"
      ]
    },
    {
      "cell_type": "code",
      "execution_count": 57,
      "metadata": {
        "colab": {
          "base_uri": "https://localhost:8080/"
        },
        "id": "pK4ptbz-_1Ft",
        "outputId": "c09b14af-b3e4-4a58-8c78-7441fb6dcc41"
      },
      "outputs": [
        {
          "output_type": "execute_result",
          "data": {
            "text/plain": [
              "(429131, 2)"
            ]
          },
          "metadata": {},
          "execution_count": 57
        }
      ],
      "source": [
        "covid.shape"
      ]
    },
    {
      "cell_type": "code",
      "execution_count": 58,
      "metadata": {
        "colab": {
          "base_uri": "https://localhost:8080/"
        },
        "id": "nQWhYvHA_5DJ",
        "outputId": "827f2786-6928-42cd-fda8-ee6587ce4380"
      },
      "outputs": [
        {
          "output_type": "execute_result",
          "data": {
            "text/plain": [
              "83"
            ]
          },
          "metadata": {},
          "execution_count": 58
        }
      ],
      "source": [
        "len(set(covid.Localgovernmentarea))"
      ]
    },
    {
      "cell_type": "code",
      "execution_count": 59,
      "metadata": {
        "colab": {
          "base_uri": "https://localhost:8080/"
        },
        "id": "EpKhw4ooAFDj",
        "outputId": "0f992db4-a3cf-481b-eda6-a48ad3de4e8e"
      },
      "outputs": [
        {
          "output_type": "execute_result",
          "data": {
            "text/plain": [
              "560"
            ]
          },
          "metadata": {},
          "execution_count": 59
        }
      ],
      "source": [
        "len(set(covid.diagnosis_date))"
      ]
    },
    {
      "cell_type": "code",
      "execution_count": 60,
      "metadata": {
        "id": "47oMt-mnCgVP"
      },
      "outputs": [],
      "source": [
        "covid[['year', 'month','day']] = covid.diagnosis_date.str.split('-',expand=True,)"
      ]
    },
    {
      "cell_type": "code",
      "execution_count": 61,
      "metadata": {
        "id": "bfsJZZLNHo0q"
      },
      "outputs": [],
      "source": [
        "covid['year_month'] = covid['year'] + '-' + covid['month']"
      ]
    },
    {
      "cell_type": "code",
      "execution_count": 62,
      "metadata": {
        "colab": {
          "base_uri": "https://localhost:8080/",
          "height": 206
        },
        "id": "E3xw91ChE-7V",
        "outputId": "2d484d68-1d6a-4c46-c42b-6081ce851284"
      },
      "outputs": [
        {
          "output_type": "execute_result",
          "data": {
            "text/html": [
              "\n",
              "  <div id=\"df-39318a3a-2436-4709-a3f8-753ef2f09a63\">\n",
              "    <div class=\"colab-df-container\">\n",
              "      <div>\n",
              "<style scoped>\n",
              "    .dataframe tbody tr th:only-of-type {\n",
              "        vertical-align: middle;\n",
              "    }\n",
              "\n",
              "    .dataframe tbody tr th {\n",
              "        vertical-align: top;\n",
              "    }\n",
              "\n",
              "    .dataframe thead th {\n",
              "        text-align: right;\n",
              "    }\n",
              "</style>\n",
              "<table border=\"1\" class=\"dataframe\">\n",
              "  <thead>\n",
              "    <tr style=\"text-align: right;\">\n",
              "      <th></th>\n",
              "      <th>diagnosis_date</th>\n",
              "      <th>Localgovernmentarea</th>\n",
              "      <th>year</th>\n",
              "      <th>month</th>\n",
              "      <th>day</th>\n",
              "      <th>year_month</th>\n",
              "    </tr>\n",
              "  </thead>\n",
              "  <tbody>\n",
              "    <tr>\n",
              "      <th>0</th>\n",
              "      <td>2020-03-11</td>\n",
              "      <td>Greater Geelong (C)</td>\n",
              "      <td>2020</td>\n",
              "      <td>03</td>\n",
              "      <td>11</td>\n",
              "      <td>2020-03</td>\n",
              "    </tr>\n",
              "    <tr>\n",
              "      <th>1</th>\n",
              "      <td>2020-03-08</td>\n",
              "      <td>Mornington Peninsula (S)</td>\n",
              "      <td>2020</td>\n",
              "      <td>03</td>\n",
              "      <td>08</td>\n",
              "      <td>2020-03</td>\n",
              "    </tr>\n",
              "    <tr>\n",
              "      <th>2</th>\n",
              "      <td>2020-03-09</td>\n",
              "      <td>Port Phillip (C)</td>\n",
              "      <td>2020</td>\n",
              "      <td>03</td>\n",
              "      <td>09</td>\n",
              "      <td>2020-03</td>\n",
              "    </tr>\n",
              "    <tr>\n",
              "      <th>3</th>\n",
              "      <td>2020-08-01</td>\n",
              "      <td>Whittlesea (C)</td>\n",
              "      <td>2020</td>\n",
              "      <td>08</td>\n",
              "      <td>01</td>\n",
              "      <td>2020-08</td>\n",
              "    </tr>\n",
              "    <tr>\n",
              "      <th>4</th>\n",
              "      <td>2020-03-01</td>\n",
              "      <td>Casey (C)</td>\n",
              "      <td>2020</td>\n",
              "      <td>03</td>\n",
              "      <td>01</td>\n",
              "      <td>2020-03</td>\n",
              "    </tr>\n",
              "  </tbody>\n",
              "</table>\n",
              "</div>\n",
              "      <button class=\"colab-df-convert\" onclick=\"convertToInteractive('df-39318a3a-2436-4709-a3f8-753ef2f09a63')\"\n",
              "              title=\"Convert this dataframe to an interactive table.\"\n",
              "              style=\"display:none;\">\n",
              "        \n",
              "  <svg xmlns=\"http://www.w3.org/2000/svg\" height=\"24px\"viewBox=\"0 0 24 24\"\n",
              "       width=\"24px\">\n",
              "    <path d=\"M0 0h24v24H0V0z\" fill=\"none\"/>\n",
              "    <path d=\"M18.56 5.44l.94 2.06.94-2.06 2.06-.94-2.06-.94-.94-2.06-.94 2.06-2.06.94zm-11 1L8.5 8.5l.94-2.06 2.06-.94-2.06-.94L8.5 2.5l-.94 2.06-2.06.94zm10 10l.94 2.06.94-2.06 2.06-.94-2.06-.94-.94-2.06-.94 2.06-2.06.94z\"/><path d=\"M17.41 7.96l-1.37-1.37c-.4-.4-.92-.59-1.43-.59-.52 0-1.04.2-1.43.59L10.3 9.45l-7.72 7.72c-.78.78-.78 2.05 0 2.83L4 21.41c.39.39.9.59 1.41.59.51 0 1.02-.2 1.41-.59l7.78-7.78 2.81-2.81c.8-.78.8-2.07 0-2.86zM5.41 20L4 18.59l7.72-7.72 1.47 1.35L5.41 20z\"/>\n",
              "  </svg>\n",
              "      </button>\n",
              "      \n",
              "  <style>\n",
              "    .colab-df-container {\n",
              "      display:flex;\n",
              "      flex-wrap:wrap;\n",
              "      gap: 12px;\n",
              "    }\n",
              "\n",
              "    .colab-df-convert {\n",
              "      background-color: #E8F0FE;\n",
              "      border: none;\n",
              "      border-radius: 50%;\n",
              "      cursor: pointer;\n",
              "      display: none;\n",
              "      fill: #1967D2;\n",
              "      height: 32px;\n",
              "      padding: 0 0 0 0;\n",
              "      width: 32px;\n",
              "    }\n",
              "\n",
              "    .colab-df-convert:hover {\n",
              "      background-color: #E2EBFA;\n",
              "      box-shadow: 0px 1px 2px rgba(60, 64, 67, 0.3), 0px 1px 3px 1px rgba(60, 64, 67, 0.15);\n",
              "      fill: #174EA6;\n",
              "    }\n",
              "\n",
              "    [theme=dark] .colab-df-convert {\n",
              "      background-color: #3B4455;\n",
              "      fill: #D2E3FC;\n",
              "    }\n",
              "\n",
              "    [theme=dark] .colab-df-convert:hover {\n",
              "      background-color: #434B5C;\n",
              "      box-shadow: 0px 1px 3px 1px rgba(0, 0, 0, 0.15);\n",
              "      filter: drop-shadow(0px 1px 2px rgba(0, 0, 0, 0.3));\n",
              "      fill: #FFFFFF;\n",
              "    }\n",
              "  </style>\n",
              "\n",
              "      <script>\n",
              "        const buttonEl =\n",
              "          document.querySelector('#df-39318a3a-2436-4709-a3f8-753ef2f09a63 button.colab-df-convert');\n",
              "        buttonEl.style.display =\n",
              "          google.colab.kernel.accessAllowed ? 'block' : 'none';\n",
              "\n",
              "        async function convertToInteractive(key) {\n",
              "          const element = document.querySelector('#df-39318a3a-2436-4709-a3f8-753ef2f09a63');\n",
              "          const dataTable =\n",
              "            await google.colab.kernel.invokeFunction('convertToInteractive',\n",
              "                                                     [key], {});\n",
              "          if (!dataTable) return;\n",
              "\n",
              "          const docLinkHtml = 'Like what you see? Visit the ' +\n",
              "            '<a target=\"_blank\" href=https://colab.research.google.com/notebooks/data_table.ipynb>data table notebook</a>'\n",
              "            + ' to learn more about interactive tables.';\n",
              "          element.innerHTML = '';\n",
              "          dataTable['output_type'] = 'display_data';\n",
              "          await google.colab.output.renderOutput(dataTable, element);\n",
              "          const docLink = document.createElement('div');\n",
              "          docLink.innerHTML = docLinkHtml;\n",
              "          element.appendChild(docLink);\n",
              "        }\n",
              "      </script>\n",
              "    </div>\n",
              "  </div>\n",
              "  "
            ],
            "text/plain": [
              "  diagnosis_date       Localgovernmentarea  year month day year_month\n",
              "0     2020-03-11       Greater Geelong (C)  2020    03  11    2020-03\n",
              "1     2020-03-08  Mornington Peninsula (S)  2020    03  08    2020-03\n",
              "2     2020-03-09          Port Phillip (C)  2020    03  09    2020-03\n",
              "3     2020-08-01            Whittlesea (C)  2020    08  01    2020-08\n",
              "4     2020-03-01                 Casey (C)  2020    03  01    2020-03"
            ]
          },
          "metadata": {},
          "execution_count": 62
        }
      ],
      "source": [
        "# covid.diagnosis_date\n",
        "covid.head()"
      ]
    },
    {
      "cell_type": "code",
      "execution_count": 63,
      "metadata": {
        "colab": {
          "base_uri": "https://localhost:8080/"
        },
        "id": "-95ZlwmgB-Mn",
        "outputId": "60084c17-969f-436c-c160-5a50576b5960"
      },
      "outputs": [
        {
          "output_type": "execute_result",
          "data": {
            "text/plain": [
              "{'2020', '2021', '2022'}"
            ]
          },
          "metadata": {},
          "execution_count": 63
        }
      ],
      "source": [
        "set(covid.year)"
      ]
    },
    {
      "cell_type": "code",
      "execution_count": 64,
      "metadata": {
        "colab": {
          "base_uri": "https://localhost:8080/"
        },
        "id": "mN-3b2YIGmG7",
        "outputId": "ed1f7f43-f7a7-4c93-ff16-d6a03d60865f"
      },
      "outputs": [
        {
          "output_type": "execute_result",
          "data": {
            "text/plain": [
              "year\n",
              "2020     20368\n",
              "2021    163495\n",
              "2022    245268\n",
              "Name: year, dtype: int64"
            ]
          },
          "metadata": {},
          "execution_count": 64
        }
      ],
      "source": [
        "covid['year'].groupby([covid.year]).agg('count')"
      ]
    },
    {
      "cell_type": "code",
      "execution_count": 65,
      "metadata": {
        "id": "DBBBDa8SHSq3"
      },
      "outputs": [],
      "source": [
        "new_covid = covid.groupby([covid.year_month]).agg('count').reset_index()[['year_month','day']]"
      ]
    },
    {
      "cell_type": "code",
      "execution_count": 66,
      "metadata": {
        "colab": {
          "base_uri": "https://localhost:8080/",
          "height": 206
        },
        "id": "pB0BPmo1ZRKy",
        "outputId": "a7a26445-ae57-49a0-cbc5-a3426d130e31"
      },
      "outputs": [
        {
          "output_type": "execute_result",
          "data": {
            "text/html": [
              "\n",
              "  <div id=\"df-9f4651f3-d2c1-4b81-89b3-7d48a8e75a9e\">\n",
              "    <div class=\"colab-df-container\">\n",
              "      <div>\n",
              "<style scoped>\n",
              "    .dataframe tbody tr th:only-of-type {\n",
              "        vertical-align: middle;\n",
              "    }\n",
              "\n",
              "    .dataframe tbody tr th {\n",
              "        vertical-align: top;\n",
              "    }\n",
              "\n",
              "    .dataframe thead th {\n",
              "        text-align: right;\n",
              "    }\n",
              "</style>\n",
              "<table border=\"1\" class=\"dataframe\">\n",
              "  <thead>\n",
              "    <tr style=\"text-align: right;\">\n",
              "      <th></th>\n",
              "      <th>year_month</th>\n",
              "      <th>day</th>\n",
              "    </tr>\n",
              "  </thead>\n",
              "  <tbody>\n",
              "    <tr>\n",
              "      <th>0</th>\n",
              "      <td>2020-01</td>\n",
              "      <td>4</td>\n",
              "    </tr>\n",
              "    <tr>\n",
              "      <th>1</th>\n",
              "      <td>2020-02</td>\n",
              "      <td>3</td>\n",
              "    </tr>\n",
              "    <tr>\n",
              "      <th>2</th>\n",
              "      <td>2020-03</td>\n",
              "      <td>949</td>\n",
              "    </tr>\n",
              "    <tr>\n",
              "      <th>3</th>\n",
              "      <td>2020-04</td>\n",
              "      <td>409</td>\n",
              "    </tr>\n",
              "    <tr>\n",
              "      <th>4</th>\n",
              "      <td>2020-05</td>\n",
              "      <td>289</td>\n",
              "    </tr>\n",
              "  </tbody>\n",
              "</table>\n",
              "</div>\n",
              "      <button class=\"colab-df-convert\" onclick=\"convertToInteractive('df-9f4651f3-d2c1-4b81-89b3-7d48a8e75a9e')\"\n",
              "              title=\"Convert this dataframe to an interactive table.\"\n",
              "              style=\"display:none;\">\n",
              "        \n",
              "  <svg xmlns=\"http://www.w3.org/2000/svg\" height=\"24px\"viewBox=\"0 0 24 24\"\n",
              "       width=\"24px\">\n",
              "    <path d=\"M0 0h24v24H0V0z\" fill=\"none\"/>\n",
              "    <path d=\"M18.56 5.44l.94 2.06.94-2.06 2.06-.94-2.06-.94-.94-2.06-.94 2.06-2.06.94zm-11 1L8.5 8.5l.94-2.06 2.06-.94-2.06-.94L8.5 2.5l-.94 2.06-2.06.94zm10 10l.94 2.06.94-2.06 2.06-.94-2.06-.94-.94-2.06-.94 2.06-2.06.94z\"/><path d=\"M17.41 7.96l-1.37-1.37c-.4-.4-.92-.59-1.43-.59-.52 0-1.04.2-1.43.59L10.3 9.45l-7.72 7.72c-.78.78-.78 2.05 0 2.83L4 21.41c.39.39.9.59 1.41.59.51 0 1.02-.2 1.41-.59l7.78-7.78 2.81-2.81c.8-.78.8-2.07 0-2.86zM5.41 20L4 18.59l7.72-7.72 1.47 1.35L5.41 20z\"/>\n",
              "  </svg>\n",
              "      </button>\n",
              "      \n",
              "  <style>\n",
              "    .colab-df-container {\n",
              "      display:flex;\n",
              "      flex-wrap:wrap;\n",
              "      gap: 12px;\n",
              "    }\n",
              "\n",
              "    .colab-df-convert {\n",
              "      background-color: #E8F0FE;\n",
              "      border: none;\n",
              "      border-radius: 50%;\n",
              "      cursor: pointer;\n",
              "      display: none;\n",
              "      fill: #1967D2;\n",
              "      height: 32px;\n",
              "      padding: 0 0 0 0;\n",
              "      width: 32px;\n",
              "    }\n",
              "\n",
              "    .colab-df-convert:hover {\n",
              "      background-color: #E2EBFA;\n",
              "      box-shadow: 0px 1px 2px rgba(60, 64, 67, 0.3), 0px 1px 3px 1px rgba(60, 64, 67, 0.15);\n",
              "      fill: #174EA6;\n",
              "    }\n",
              "\n",
              "    [theme=dark] .colab-df-convert {\n",
              "      background-color: #3B4455;\n",
              "      fill: #D2E3FC;\n",
              "    }\n",
              "\n",
              "    [theme=dark] .colab-df-convert:hover {\n",
              "      background-color: #434B5C;\n",
              "      box-shadow: 0px 1px 3px 1px rgba(0, 0, 0, 0.15);\n",
              "      filter: drop-shadow(0px 1px 2px rgba(0, 0, 0, 0.3));\n",
              "      fill: #FFFFFF;\n",
              "    }\n",
              "  </style>\n",
              "\n",
              "      <script>\n",
              "        const buttonEl =\n",
              "          document.querySelector('#df-9f4651f3-d2c1-4b81-89b3-7d48a8e75a9e button.colab-df-convert');\n",
              "        buttonEl.style.display =\n",
              "          google.colab.kernel.accessAllowed ? 'block' : 'none';\n",
              "\n",
              "        async function convertToInteractive(key) {\n",
              "          const element = document.querySelector('#df-9f4651f3-d2c1-4b81-89b3-7d48a8e75a9e');\n",
              "          const dataTable =\n",
              "            await google.colab.kernel.invokeFunction('convertToInteractive',\n",
              "                                                     [key], {});\n",
              "          if (!dataTable) return;\n",
              "\n",
              "          const docLinkHtml = 'Like what you see? Visit the ' +\n",
              "            '<a target=\"_blank\" href=https://colab.research.google.com/notebooks/data_table.ipynb>data table notebook</a>'\n",
              "            + ' to learn more about interactive tables.';\n",
              "          element.innerHTML = '';\n",
              "          dataTable['output_type'] = 'display_data';\n",
              "          await google.colab.output.renderOutput(dataTable, element);\n",
              "          const docLink = document.createElement('div');\n",
              "          docLink.innerHTML = docLinkHtml;\n",
              "          element.appendChild(docLink);\n",
              "        }\n",
              "      </script>\n",
              "    </div>\n",
              "  </div>\n",
              "  "
            ],
            "text/plain": [
              "  year_month  day\n",
              "0    2020-01    4\n",
              "1    2020-02    3\n",
              "2    2020-03  949\n",
              "3    2020-04  409\n",
              "4    2020-05  289"
            ]
          },
          "metadata": {},
          "execution_count": 66
        }
      ],
      "source": [
        "new_covid.head()"
      ]
    },
    {
      "cell_type": "code",
      "execution_count": 67,
      "metadata": {
        "id": "uAsAt-DM_9SC"
      },
      "outputs": [],
      "source": [
        "combine_data = new_data.set_index('year_month').join(new_covid.set_index('year_month'))\n",
        "combine_data = combine_data[combine_data['day'].notna()].reset_index()"
      ]
    },
    {
      "cell_type": "code",
      "execution_count": 68,
      "metadata": {
        "colab": {
          "base_uri": "https://localhost:8080/",
          "height": 357
        },
        "id": "B5DXEKp3i_gI",
        "outputId": "9381aa7a-1040-4245-e8bc-3bf8fab3bc58"
      },
      "outputs": [
        {
          "output_type": "execute_result",
          "data": {
            "text/html": [
              "\n",
              "  <div id=\"df-241d559e-696e-4c5b-a90c-20d7c0910554\">\n",
              "    <div class=\"colab-df-container\">\n",
              "      <div>\n",
              "<style scoped>\n",
              "    .dataframe tbody tr th:only-of-type {\n",
              "        vertical-align: middle;\n",
              "    }\n",
              "\n",
              "    .dataframe tbody tr th {\n",
              "        vertical-align: top;\n",
              "    }\n",
              "\n",
              "    .dataframe thead th {\n",
              "        text-align: right;\n",
              "    }\n",
              "</style>\n",
              "<table border=\"1\" class=\"dataframe\">\n",
              "  <thead>\n",
              "    <tr style=\"text-align: right;\">\n",
              "      <th></th>\n",
              "      <th>year_month</th>\n",
              "      <th>neighbourhood</th>\n",
              "      <th>room_type</th>\n",
              "      <th>price</th>\n",
              "      <th>minimum_nights</th>\n",
              "      <th>number_of_reviews</th>\n",
              "      <th>calculated_host_listings_count</th>\n",
              "      <th>last_review</th>\n",
              "      <th>availability_365</th>\n",
              "      <th>year</th>\n",
              "      <th>month</th>\n",
              "      <th>day</th>\n",
              "    </tr>\n",
              "  </thead>\n",
              "  <tbody>\n",
              "    <tr>\n",
              "      <th>0</th>\n",
              "      <td>2020-01</td>\n",
              "      <td>Casey</td>\n",
              "      <td>Entire home/apt</td>\n",
              "      <td>99</td>\n",
              "      <td>1</td>\n",
              "      <td>163</td>\n",
              "      <td>1</td>\n",
              "      <td>2020-01-09</td>\n",
              "      <td>341</td>\n",
              "      <td>2020</td>\n",
              "      <td>1</td>\n",
              "      <td>4.0</td>\n",
              "    </tr>\n",
              "    <tr>\n",
              "      <th>1</th>\n",
              "      <td>2020-01</td>\n",
              "      <td>Melbourne</td>\n",
              "      <td>Entire home/apt</td>\n",
              "      <td>242</td>\n",
              "      <td>2</td>\n",
              "      <td>298</td>\n",
              "      <td>1</td>\n",
              "      <td>2020-01-25</td>\n",
              "      <td>297</td>\n",
              "      <td>2020</td>\n",
              "      <td>1</td>\n",
              "      <td>4.0</td>\n",
              "    </tr>\n",
              "    <tr>\n",
              "      <th>2</th>\n",
              "      <td>2020-01</td>\n",
              "      <td>Yarra</td>\n",
              "      <td>Entire home/apt</td>\n",
              "      <td>84</td>\n",
              "      <td>3</td>\n",
              "      <td>80</td>\n",
              "      <td>10</td>\n",
              "      <td>2020-01-25</td>\n",
              "      <td>0</td>\n",
              "      <td>2020</td>\n",
              "      <td>1</td>\n",
              "      <td>4.0</td>\n",
              "    </tr>\n",
              "    <tr>\n",
              "      <th>3</th>\n",
              "      <td>2020-01</td>\n",
              "      <td>Stonnington</td>\n",
              "      <td>Private room</td>\n",
              "      <td>35</td>\n",
              "      <td>14</td>\n",
              "      <td>62</td>\n",
              "      <td>8</td>\n",
              "      <td>2020-01-01</td>\n",
              "      <td>86</td>\n",
              "      <td>2020</td>\n",
              "      <td>1</td>\n",
              "      <td>4.0</td>\n",
              "    </tr>\n",
              "    <tr>\n",
              "      <th>4</th>\n",
              "      <td>2020-01</td>\n",
              "      <td>Melbourne</td>\n",
              "      <td>Entire home/apt</td>\n",
              "      <td>204</td>\n",
              "      <td>3</td>\n",
              "      <td>163</td>\n",
              "      <td>4</td>\n",
              "      <td>2020-01-03</td>\n",
              "      <td>309</td>\n",
              "      <td>2020</td>\n",
              "      <td>1</td>\n",
              "      <td>4.0</td>\n",
              "    </tr>\n",
              "  </tbody>\n",
              "</table>\n",
              "</div>\n",
              "      <button class=\"colab-df-convert\" onclick=\"convertToInteractive('df-241d559e-696e-4c5b-a90c-20d7c0910554')\"\n",
              "              title=\"Convert this dataframe to an interactive table.\"\n",
              "              style=\"display:none;\">\n",
              "        \n",
              "  <svg xmlns=\"http://www.w3.org/2000/svg\" height=\"24px\"viewBox=\"0 0 24 24\"\n",
              "       width=\"24px\">\n",
              "    <path d=\"M0 0h24v24H0V0z\" fill=\"none\"/>\n",
              "    <path d=\"M18.56 5.44l.94 2.06.94-2.06 2.06-.94-2.06-.94-.94-2.06-.94 2.06-2.06.94zm-11 1L8.5 8.5l.94-2.06 2.06-.94-2.06-.94L8.5 2.5l-.94 2.06-2.06.94zm10 10l.94 2.06.94-2.06 2.06-.94-2.06-.94-.94-2.06-.94 2.06-2.06.94z\"/><path d=\"M17.41 7.96l-1.37-1.37c-.4-.4-.92-.59-1.43-.59-.52 0-1.04.2-1.43.59L10.3 9.45l-7.72 7.72c-.78.78-.78 2.05 0 2.83L4 21.41c.39.39.9.59 1.41.59.51 0 1.02-.2 1.41-.59l7.78-7.78 2.81-2.81c.8-.78.8-2.07 0-2.86zM5.41 20L4 18.59l7.72-7.72 1.47 1.35L5.41 20z\"/>\n",
              "  </svg>\n",
              "      </button>\n",
              "      \n",
              "  <style>\n",
              "    .colab-df-container {\n",
              "      display:flex;\n",
              "      flex-wrap:wrap;\n",
              "      gap: 12px;\n",
              "    }\n",
              "\n",
              "    .colab-df-convert {\n",
              "      background-color: #E8F0FE;\n",
              "      border: none;\n",
              "      border-radius: 50%;\n",
              "      cursor: pointer;\n",
              "      display: none;\n",
              "      fill: #1967D2;\n",
              "      height: 32px;\n",
              "      padding: 0 0 0 0;\n",
              "      width: 32px;\n",
              "    }\n",
              "\n",
              "    .colab-df-convert:hover {\n",
              "      background-color: #E2EBFA;\n",
              "      box-shadow: 0px 1px 2px rgba(60, 64, 67, 0.3), 0px 1px 3px 1px rgba(60, 64, 67, 0.15);\n",
              "      fill: #174EA6;\n",
              "    }\n",
              "\n",
              "    [theme=dark] .colab-df-convert {\n",
              "      background-color: #3B4455;\n",
              "      fill: #D2E3FC;\n",
              "    }\n",
              "\n",
              "    [theme=dark] .colab-df-convert:hover {\n",
              "      background-color: #434B5C;\n",
              "      box-shadow: 0px 1px 3px 1px rgba(0, 0, 0, 0.15);\n",
              "      filter: drop-shadow(0px 1px 2px rgba(0, 0, 0, 0.3));\n",
              "      fill: #FFFFFF;\n",
              "    }\n",
              "  </style>\n",
              "\n",
              "      <script>\n",
              "        const buttonEl =\n",
              "          document.querySelector('#df-241d559e-696e-4c5b-a90c-20d7c0910554 button.colab-df-convert');\n",
              "        buttonEl.style.display =\n",
              "          google.colab.kernel.accessAllowed ? 'block' : 'none';\n",
              "\n",
              "        async function convertToInteractive(key) {\n",
              "          const element = document.querySelector('#df-241d559e-696e-4c5b-a90c-20d7c0910554');\n",
              "          const dataTable =\n",
              "            await google.colab.kernel.invokeFunction('convertToInteractive',\n",
              "                                                     [key], {});\n",
              "          if (!dataTable) return;\n",
              "\n",
              "          const docLinkHtml = 'Like what you see? Visit the ' +\n",
              "            '<a target=\"_blank\" href=https://colab.research.google.com/notebooks/data_table.ipynb>data table notebook</a>'\n",
              "            + ' to learn more about interactive tables.';\n",
              "          element.innerHTML = '';\n",
              "          dataTable['output_type'] = 'display_data';\n",
              "          await google.colab.output.renderOutput(dataTable, element);\n",
              "          const docLink = document.createElement('div');\n",
              "          docLink.innerHTML = docLinkHtml;\n",
              "          element.appendChild(docLink);\n",
              "        }\n",
              "      </script>\n",
              "    </div>\n",
              "  </div>\n",
              "  "
            ],
            "text/plain": [
              "  year_month neighbourhood        room_type  ...  year  month  day\n",
              "0    2020-01         Casey  Entire home/apt  ...  2020      1  4.0\n",
              "1    2020-01     Melbourne  Entire home/apt  ...  2020      1  4.0\n",
              "2    2020-01         Yarra  Entire home/apt  ...  2020      1  4.0\n",
              "3    2020-01   Stonnington     Private room  ...  2020      1  4.0\n",
              "4    2020-01     Melbourne  Entire home/apt  ...  2020      1  4.0\n",
              "\n",
              "[5 rows x 12 columns]"
            ]
          },
          "metadata": {},
          "execution_count": 68
        }
      ],
      "source": [
        "combine_data.head()"
      ]
    },
    {
      "cell_type": "code",
      "execution_count": 69,
      "metadata": {
        "colab": {
          "base_uri": "https://localhost:8080/",
          "height": 467
        },
        "id": "Qbm5Egsojy-U",
        "outputId": "43f0ab21-b4aa-4729-ac8b-02a00076b593"
      },
      "outputs": [
        {
          "output_type": "execute_result",
          "data": {
            "text/plain": [
              "[Text(0, 0.5, 'Confirmed Cases')]"
            ]
          },
          "metadata": {},
          "execution_count": 69
        },
        {
          "output_type": "display_data",
          "data": {
            "image/png": "[encoded data removed]",
            "text/plain": [
              "<Figure size 1080x720 with 2 Axes>"
            ]
          },
          "metadata": {
            "needs_background": "light"
          }
        }
      ],
      "source": [
        "combine_data2 = combine_data.groupby(['year_month']).mean().reset_index()\n",
        "\n",
        "fig, axs = plt.subplots(2, sharex=True)\n",
        "plt.xticks(rotation=90)\n",
        "\n",
        "axs[0].plot(combine_data2.year_month, combine_data2.number_of_reviews)\n",
        "axs[0].set_title('Reviews and Month')\n",
        "axs[0].set(ylabel='Number of Reviews')\n",
        "\n",
        "axs[1].plot(combine_data2.year_month, combine_data2.day)\n",
        "axs[1].set_title('Confirmed Cases and Month')\n",
        "axs[1].set(ylabel='Confirmed Cases')"
      ]
    },
    {
      "cell_type": "markdown",
      "metadata": {
        "id": "pUeUGFuwsRsK"
      },
      "source": [
        "It can be seen that when the number of confirmed cases is increased in 2021-09, the number of reviews has a big decrease at the same time. This prove that Covid-19 do affect Airbnb."
      ]
    },
    {
      "cell_type": "markdown",
      "metadata": {
        "id": "Sjz2D8r61-S6"
      },
      "source": [
        "# Machine Learning\n",
        "\n",
        "After the data visualisation, i will try different machine learning model to check the insight of this Airbnb dataset."
      ]
    },
    {
      "cell_type": "markdown",
      "metadata": {
        "id": "X5kMFg2YrJPp"
      },
      "source": [
        "## Encoding qualitative data\n",
        "\n",
        "In qualitative research, coding is “how you define what the data you are analysing are about” (Gibbs, 2007). Coding is a process of identifying a passage in the text or other data items (photograph, image), searching and identifying concepts and finding relations between them.\n",
        "\n",
        "The codes which are applied enable you to organise data so you can examine and analyse them in a structured way, e.g. by examining relationships between codes."
      ]
    },
    {
      "cell_type": "code",
      "execution_count": 70,
      "metadata": {
        "colab": {
          "base_uri": "https://localhost:8080/",
          "height": 357
        },
        "id": "R2znEsOKuQyJ",
        "outputId": "458bd2f4-12da-489c-b997-b0995c6e2e7c"
      },
      "outputs": [
        {
          "output_type": "execute_result",
          "data": {
            "text/html": [
              "\n",
              "  <div id=\"df-012944ca-f9c2-45db-a074-82da40f8387b\">\n",
              "    <div class=\"colab-df-container\">\n",
              "      <div>\n",
              "<style scoped>\n",
              "    .dataframe tbody tr th:only-of-type {\n",
              "        vertical-align: middle;\n",
              "    }\n",
              "\n",
              "    .dataframe tbody tr th {\n",
              "        vertical-align: top;\n",
              "    }\n",
              "\n",
              "    .dataframe thead th {\n",
              "        text-align: right;\n",
              "    }\n",
              "</style>\n",
              "<table border=\"1\" class=\"dataframe\">\n",
              "  <thead>\n",
              "    <tr style=\"text-align: right;\">\n",
              "      <th></th>\n",
              "      <th>neighbourhood</th>\n",
              "      <th>room_type</th>\n",
              "      <th>price</th>\n",
              "      <th>minimum_nights</th>\n",
              "      <th>number_of_reviews</th>\n",
              "      <th>calculated_host_listings_count</th>\n",
              "      <th>last_review</th>\n",
              "      <th>availability_365</th>\n",
              "      <th>year</th>\n",
              "      <th>month</th>\n",
              "      <th>year_month</th>\n",
              "    </tr>\n",
              "  </thead>\n",
              "  <tbody>\n",
              "    <tr>\n",
              "      <th>0</th>\n",
              "      <td>Manningham</td>\n",
              "      <td>Private room</td>\n",
              "      <td>60</td>\n",
              "      <td>1</td>\n",
              "      <td>4</td>\n",
              "      <td>1</td>\n",
              "      <td>2015-09-12</td>\n",
              "      <td>365</td>\n",
              "      <td>2015</td>\n",
              "      <td>9</td>\n",
              "      <td>2015-09</td>\n",
              "    </tr>\n",
              "    <tr>\n",
              "      <th>1</th>\n",
              "      <td>Port Phillip</td>\n",
              "      <td>Entire home/apt</td>\n",
              "      <td>95</td>\n",
              "      <td>3</td>\n",
              "      <td>42</td>\n",
              "      <td>10</td>\n",
              "      <td>2016-01-25</td>\n",
              "      <td>0</td>\n",
              "      <td>2016</td>\n",
              "      <td>1</td>\n",
              "      <td>2016-01</td>\n",
              "    </tr>\n",
              "    <tr>\n",
              "      <th>2</th>\n",
              "      <td>Melbourne</td>\n",
              "      <td>Private room</td>\n",
              "      <td>1000</td>\n",
              "      <td>1</td>\n",
              "      <td>2</td>\n",
              "      <td>1</td>\n",
              "      <td>2012-01-27</td>\n",
              "      <td>365</td>\n",
              "      <td>2012</td>\n",
              "      <td>1</td>\n",
              "      <td>2012-01</td>\n",
              "    </tr>\n",
              "    <tr>\n",
              "      <th>3</th>\n",
              "      <td>Casey</td>\n",
              "      <td>Entire home/apt</td>\n",
              "      <td>99</td>\n",
              "      <td>1</td>\n",
              "      <td>163</td>\n",
              "      <td>1</td>\n",
              "      <td>2020-01-09</td>\n",
              "      <td>341</td>\n",
              "      <td>2020</td>\n",
              "      <td>1</td>\n",
              "      <td>2020-01</td>\n",
              "    </tr>\n",
              "    <tr>\n",
              "      <th>4</th>\n",
              "      <td>Darebin</td>\n",
              "      <td>Private room</td>\n",
              "      <td>40</td>\n",
              "      <td>7</td>\n",
              "      <td>159</td>\n",
              "      <td>2</td>\n",
              "      <td>2017-08-24</td>\n",
              "      <td>0</td>\n",
              "      <td>2017</td>\n",
              "      <td>8</td>\n",
              "      <td>2017-08</td>\n",
              "    </tr>\n",
              "  </tbody>\n",
              "</table>\n",
              "</div>\n",
              "      <button class=\"colab-df-convert\" onclick=\"convertToInteractive('df-012944ca-f9c2-45db-a074-82da40f8387b')\"\n",
              "              title=\"Convert this dataframe to an interactive table.\"\n",
              "              style=\"display:none;\">\n",
              "        \n",
              "  <svg xmlns=\"http://www.w3.org/2000/svg\" height=\"24px\"viewBox=\"0 0 24 24\"\n",
              "       width=\"24px\">\n",
              "    <path d=\"M0 0h24v24H0V0z\" fill=\"none\"/>\n",
              "    <path d=\"M18.56 5.44l.94 2.06.94-2.06 2.06-.94-2.06-.94-.94-2.06-.94 2.06-2.06.94zm-11 1L8.5 8.5l.94-2.06 2.06-.94-2.06-.94L8.5 2.5l-.94 2.06-2.06.94zm10 10l.94 2.06.94-2.06 2.06-.94-2.06-.94-.94-2.06-.94 2.06-2.06.94z\"/><path d=\"M17.41 7.96l-1.37-1.37c-.4-.4-.92-.59-1.43-.59-.52 0-1.04.2-1.43.59L10.3 9.45l-7.72 7.72c-.78.78-.78 2.05 0 2.83L4 21.41c.39.39.9.59 1.41.59.51 0 1.02-.2 1.41-.59l7.78-7.78 2.81-2.81c.8-.78.8-2.07 0-2.86zM5.41 20L4 18.59l7.72-7.72 1.47 1.35L5.41 20z\"/>\n",
              "  </svg>\n",
              "      </button>\n",
              "      \n",
              "  <style>\n",
              "    .colab-df-container {\n",
              "      display:flex;\n",
              "      flex-wrap:wrap;\n",
              "      gap: 12px;\n",
              "    }\n",
              "\n",
              "    .colab-df-convert {\n",
              "      background-color: #E8F0FE;\n",
              "      border: none;\n",
              "      border-radius: 50%;\n",
              "      cursor: pointer;\n",
              "      display: none;\n",
              "      fill: #1967D2;\n",
              "      height: 32px;\n",
              "      padding: 0 0 0 0;\n",
              "      width: 32px;\n",
              "    }\n",
              "\n",
              "    .colab-df-convert:hover {\n",
              "      background-color: #E2EBFA;\n",
              "      box-shadow: 0px 1px 2px rgba(60, 64, 67, 0.3), 0px 1px 3px 1px rgba(60, 64, 67, 0.15);\n",
              "      fill: #174EA6;\n",
              "    }\n",
              "\n",
              "    [theme=dark] .colab-df-convert {\n",
              "      background-color: #3B4455;\n",
              "      fill: #D2E3FC;\n",
              "    }\n",
              "\n",
              "    [theme=dark] .colab-df-convert:hover {\n",
              "      background-color: #434B5C;\n",
              "      box-shadow: 0px 1px 3px 1px rgba(0, 0, 0, 0.15);\n",
              "      filter: drop-shadow(0px 1px 2px rgba(0, 0, 0, 0.3));\n",
              "      fill: #FFFFFF;\n",
              "    }\n",
              "  </style>\n",
              "\n",
              "      <script>\n",
              "        const buttonEl =\n",
              "          document.querySelector('#df-012944ca-f9c2-45db-a074-82da40f8387b button.colab-df-convert');\n",
              "        buttonEl.style.display =\n",
              "          google.colab.kernel.accessAllowed ? 'block' : 'none';\n",
              "\n",
              "        async function convertToInteractive(key) {\n",
              "          const element = document.querySelector('#df-012944ca-f9c2-45db-a074-82da40f8387b');\n",
              "          const dataTable =\n",
              "            await google.colab.kernel.invokeFunction('convertToInteractive',\n",
              "                                                     [key], {});\n",
              "          if (!dataTable) return;\n",
              "\n",
              "          const docLinkHtml = 'Like what you see? Visit the ' +\n",
              "            '<a target=\"_blank\" href=https://colab.research.google.com/notebooks/data_table.ipynb>data table notebook</a>'\n",
              "            + ' to learn more about interactive tables.';\n",
              "          element.innerHTML = '';\n",
              "          dataTable['output_type'] = 'display_data';\n",
              "          await google.colab.output.renderOutput(dataTable, element);\n",
              "          const docLink = document.createElement('div');\n",
              "          docLink.innerHTML = docLinkHtml;\n",
              "          element.appendChild(docLink);\n",
              "        }\n",
              "      </script>\n",
              "    </div>\n",
              "  </div>\n",
              "  "
            ],
            "text/plain": [
              "  neighbourhood        room_type  price  ...  year  month  year_month\n",
              "0    Manningham     Private room     60  ...  2015      9     2015-09\n",
              "1  Port Phillip  Entire home/apt     95  ...  2016      1     2016-01\n",
              "2     Melbourne     Private room   1000  ...  2012      1     2012-01\n",
              "3         Casey  Entire home/apt     99  ...  2020      1     2020-01\n",
              "4       Darebin     Private room     40  ...  2017      8     2017-08\n",
              "\n",
              "[5 rows x 11 columns]"
            ]
          },
          "metadata": {},
          "execution_count": 70
        }
      ],
      "source": [
        "new_data.head()"
      ]
    },
    {
      "cell_type": "code",
      "execution_count": 71,
      "metadata": {
        "id": "UNjrvs9ztT9D"
      },
      "outputs": [],
      "source": [
        "# new data set for machine learning\n",
        "x_df = new_data[['neighbourhood', 'room_type', 'minimum_nights', 'number_of_reviews', 'calculated_host_listings_count', 'year_month']]\n",
        "y_df = new_data['price']"
      ]
    },
    {
      "cell_type": "code",
      "execution_count": 72,
      "metadata": {
        "id": "XsZWnQWktJPf"
      },
      "outputs": [],
      "source": [
        "from sklearn.preprocessing import LabelEncoder\n",
        "\n",
        "x_df[['neighbourhood', 'room_type', 'year_month']] = x_df[['neighbourhood', 'room_type', 'year_month']].apply(LabelEncoder().fit_transform)"
      ]
    },
    {
      "cell_type": "code",
      "execution_count": 73,
      "metadata": {
        "colab": {
          "base_uri": "https://localhost:8080/",
          "height": 270
        },
        "id": "Fg2iwakrt2DW",
        "outputId": "b3aa7e0f-db35-4f3c-a6c5-79e82603fe9f"
      },
      "outputs": [
        {
          "output_type": "execute_result",
          "data": {
            "text/html": [
              "\n",
              "  <div id=\"df-fe2aa9a6-8e3c-49ec-958f-b9d126736374\">\n",
              "    <div class=\"colab-df-container\">\n",
              "      <div>\n",
              "<style scoped>\n",
              "    .dataframe tbody tr th:only-of-type {\n",
              "        vertical-align: middle;\n",
              "    }\n",
              "\n",
              "    .dataframe tbody tr th {\n",
              "        vertical-align: top;\n",
              "    }\n",
              "\n",
              "    .dataframe thead th {\n",
              "        text-align: right;\n",
              "    }\n",
              "</style>\n",
              "<table border=\"1\" class=\"dataframe\">\n",
              "  <thead>\n",
              "    <tr style=\"text-align: right;\">\n",
              "      <th></th>\n",
              "      <th>neighbourhood</th>\n",
              "      <th>room_type</th>\n",
              "      <th>minimum_nights</th>\n",
              "      <th>number_of_reviews</th>\n",
              "      <th>calculated_host_listings_count</th>\n",
              "      <th>year_month</th>\n",
              "    </tr>\n",
              "  </thead>\n",
              "  <tbody>\n",
              "    <tr>\n",
              "      <th>0</th>\n",
              "      <td>14</td>\n",
              "      <td>2</td>\n",
              "      <td>1</td>\n",
              "      <td>4</td>\n",
              "      <td>1</td>\n",
              "      <td>29</td>\n",
              "    </tr>\n",
              "    <tr>\n",
              "      <th>1</th>\n",
              "      <td>23</td>\n",
              "      <td>0</td>\n",
              "      <td>3</td>\n",
              "      <td>42</td>\n",
              "      <td>10</td>\n",
              "      <td>33</td>\n",
              "    </tr>\n",
              "    <tr>\n",
              "      <th>2</th>\n",
              "      <td>17</td>\n",
              "      <td>2</td>\n",
              "      <td>1</td>\n",
              "      <td>2</td>\n",
              "      <td>1</td>\n",
              "      <td>1</td>\n",
              "    </tr>\n",
              "    <tr>\n",
              "      <th>3</th>\n",
              "      <td>5</td>\n",
              "      <td>0</td>\n",
              "      <td>1</td>\n",
              "      <td>163</td>\n",
              "      <td>1</td>\n",
              "      <td>81</td>\n",
              "    </tr>\n",
              "    <tr>\n",
              "      <th>4</th>\n",
              "      <td>6</td>\n",
              "      <td>2</td>\n",
              "      <td>7</td>\n",
              "      <td>159</td>\n",
              "      <td>2</td>\n",
              "      <td>52</td>\n",
              "    </tr>\n",
              "  </tbody>\n",
              "</table>\n",
              "</div>\n",
              "      <button class=\"colab-df-convert\" onclick=\"convertToInteractive('df-fe2aa9a6-8e3c-49ec-958f-b9d126736374')\"\n",
              "              title=\"Convert this dataframe to an interactive table.\"\n",
              "              style=\"display:none;\">\n",
              "        \n",
              "  <svg xmlns=\"http://www.w3.org/2000/svg\" height=\"24px\"viewBox=\"0 0 24 24\"\n",
              "       width=\"24px\">\n",
              "    <path d=\"M0 0h24v24H0V0z\" fill=\"none\"/>\n",
              "    <path d=\"M18.56 5.44l.94 2.06.94-2.06 2.06-.94-2.06-.94-.94-2.06-.94 2.06-2.06.94zm-11 1L8.5 8.5l.94-2.06 2.06-.94-2.06-.94L8.5 2.5l-.94 2.06-2.06.94zm10 10l.94 2.06.94-2.06 2.06-.94-2.06-.94-.94-2.06-.94 2.06-2.06.94z\"/><path d=\"M17.41 7.96l-1.37-1.37c-.4-.4-.92-.59-1.43-.59-.52 0-1.04.2-1.43.59L10.3 9.45l-7.72 7.72c-.78.78-.78 2.05 0 2.83L4 21.41c.39.39.9.59 1.41.59.51 0 1.02-.2 1.41-.59l7.78-7.78 2.81-2.81c.8-.78.8-2.07 0-2.86zM5.41 20L4 18.59l7.72-7.72 1.47 1.35L5.41 20z\"/>\n",
              "  </svg>\n",
              "      </button>\n",
              "      \n",
              "  <style>\n",
              "    .colab-df-container {\n",
              "      display:flex;\n",
              "      flex-wrap:wrap;\n",
              "      gap: 12px;\n",
              "    }\n",
              "\n",
              "    .colab-df-convert {\n",
              "      background-color: #E8F0FE;\n",
              "      border: none;\n",
              "      border-radius: 50%;\n",
              "      cursor: pointer;\n",
              "      display: none;\n",
              "      fill: #1967D2;\n",
              "      height: 32px;\n",
              "      padding: 0 0 0 0;\n",
              "      width: 32px;\n",
              "    }\n",
              "\n",
              "    .colab-df-convert:hover {\n",
              "      background-color: #E2EBFA;\n",
              "      box-shadow: 0px 1px 2px rgba(60, 64, 67, 0.3), 0px 1px 3px 1px rgba(60, 64, 67, 0.15);\n",
              "      fill: #174EA6;\n",
              "    }\n",
              "\n",
              "    [theme=dark] .colab-df-convert {\n",
              "      background-color: #3B4455;\n",
              "      fill: #D2E3FC;\n",
              "    }\n",
              "\n",
              "    [theme=dark] .colab-df-convert:hover {\n",
              "      background-color: #434B5C;\n",
              "      box-shadow: 0px 1px 3px 1px rgba(0, 0, 0, 0.15);\n",
              "      filter: drop-shadow(0px 1px 2px rgba(0, 0, 0, 0.3));\n",
              "      fill: #FFFFFF;\n",
              "    }\n",
              "  </style>\n",
              "\n",
              "      <script>\n",
              "        const buttonEl =\n",
              "          document.querySelector('#df-fe2aa9a6-8e3c-49ec-958f-b9d126736374 button.colab-df-convert');\n",
              "        buttonEl.style.display =\n",
              "          google.colab.kernel.accessAllowed ? 'block' : 'none';\n",
              "\n",
              "        async function convertToInteractive(key) {\n",
              "          const element = document.querySelector('#df-fe2aa9a6-8e3c-49ec-958f-b9d126736374');\n",
              "          const dataTable =\n",
              "            await google.colab.kernel.invokeFunction('convertToInteractive',\n",
              "                                                     [key], {});\n",
              "          if (!dataTable) return;\n",
              "\n",
              "          const docLinkHtml = 'Like what you see? Visit the ' +\n",
              "            '<a target=\"_blank\" href=https://colab.research.google.com/notebooks/data_table.ipynb>data table notebook</a>'\n",
              "            + ' to learn more about interactive tables.';\n",
              "          element.innerHTML = '';\n",
              "          dataTable['output_type'] = 'display_data';\n",
              "          await google.colab.output.renderOutput(dataTable, element);\n",
              "          const docLink = document.createElement('div');\n",
              "          docLink.innerHTML = docLinkHtml;\n",
              "          element.appendChild(docLink);\n",
              "        }\n",
              "      </script>\n",
              "    </div>\n",
              "  </div>\n",
              "  "
            ],
            "text/plain": [
              "   neighbourhood  room_type  ...  calculated_host_listings_count  year_month\n",
              "0             14          2  ...                               1          29\n",
              "1             23          0  ...                              10          33\n",
              "2             17          2  ...                               1           1\n",
              "3              5          0  ...                               1          81\n",
              "4              6          2  ...                               2          52\n",
              "\n",
              "[5 rows x 6 columns]"
            ]
          },
          "metadata": {},
          "execution_count": 73
        }
      ],
      "source": [
        "x_df.head()"
      ]
    },
    {
      "cell_type": "markdown",
      "source": [
        "## Regression\n",
        "\n",
        "Regression analysis is a reliable method of identifying which variables have impact on a topic of interest. The process of performing a regression allows you to confidently determine which factors matter most, which factors can be ignored, and how these factors influence each other."
      ],
      "metadata": {
        "id": "FyiYF2Wb9_Qb"
      }
    },
    {
      "cell_type": "code",
      "execution_count": 74,
      "metadata": {
        "id": "hcbIQFZtt5W7"
      },
      "outputs": [],
      "source": [
        "# split dataset to train and test\n",
        "from sklearn.model_selection import train_test_split\n",
        "\n",
        "X_train, X_test, y_train, y_test = train_test_split(x_df, y_df, test_size=0.3, random_state=0)"
      ]
    },
    {
      "cell_type": "code",
      "execution_count": 75,
      "metadata": {
        "id": "HekJlqwwvNHa"
      },
      "outputs": [],
      "source": [
        "from sklearn import metrics\n",
        "from sklearn.model_selection import cross_val_score\n",
        "\n",
        "def cross_val(model):\n",
        "    pred = cross_val_score(model, x_df, y_df, cv=5, scoring='r2')\n",
        "    return pred\n",
        "\n",
        "def print_evaluate(true, predicted):  \n",
        "    mae = metrics.mean_absolute_error(true, predicted)\n",
        "    mse = metrics.mean_squared_error(true, predicted)\n",
        "    rmse = np.sqrt(metrics.mean_squared_error(true, predicted))\n",
        "    r2_square = metrics.r2_score(true, predicted)\n",
        "    print('MAE:', mae)\n",
        "    print('MSE:', mse)\n",
        "    print('RMSE:', rmse)\n",
        "    print('R2 Square', r2_square)\n",
        "    \n",
        "def evaluate(true, predicted):\n",
        "    mae = metrics.mean_absolute_error(true, predicted)\n",
        "    mse = metrics.mean_squared_error(true, predicted)\n",
        "    rmse = np.sqrt(metrics.mean_squared_error(true, predicted))\n",
        "    r2_square = metrics.r2_score(true, predicted)\n",
        "    return mae, mse, rmse, r2_square"
      ]
    },
    {
      "cell_type": "code",
      "execution_count": 76,
      "metadata": {
        "colab": {
          "base_uri": "https://localhost:8080/"
        },
        "id": "cpEGA1ZzvQK5",
        "outputId": "3344094e-6726-4f1a-f2c7-c8398bfea528"
      },
      "outputs": [
        {
          "output_type": "execute_result",
          "data": {
            "text/plain": [
              "LinearRegression(normalize=True)"
            ]
          },
          "metadata": {},
          "execution_count": 76
        }
      ],
      "source": [
        "from sklearn.linear_model import LinearRegression\n",
        "\n",
        "lin_reg = LinearRegression(normalize=True)\n",
        "lin_reg.fit(X_train,y_train)"
      ]
    },
    {
      "cell_type": "code",
      "execution_count": 77,
      "metadata": {
        "colab": {
          "base_uri": "https://localhost:8080/"
        },
        "id": "DacURLvmvTV9",
        "outputId": "61ce8410-92f7-402a-9251-af08895eb4a3"
      },
      "outputs": [
        {
          "output_type": "stream",
          "name": "stdout",
          "text": [
            "256.7926862117763\n"
          ]
        }
      ],
      "source": [
        "print(lin_reg.intercept_)"
      ]
    },
    {
      "cell_type": "code",
      "execution_count": 78,
      "metadata": {
        "colab": {
          "base_uri": "https://localhost:8080/",
          "height": 237
        },
        "id": "yiYbkarOvVnj",
        "outputId": "b6400d74-75bc-48ce-f26b-575cb554169a"
      },
      "outputs": [
        {
          "output_type": "execute_result",
          "data": {
            "text/html": [
              "\n",
              "  <div id=\"df-db933495-f3b5-472a-a399-223e1431f914\">\n",
              "    <div class=\"colab-df-container\">\n",
              "      <div>\n",
              "<style scoped>\n",
              "    .dataframe tbody tr th:only-of-type {\n",
              "        vertical-align: middle;\n",
              "    }\n",
              "\n",
              "    .dataframe tbody tr th {\n",
              "        vertical-align: top;\n",
              "    }\n",
              "\n",
              "    .dataframe thead th {\n",
              "        text-align: right;\n",
              "    }\n",
              "</style>\n",
              "<table border=\"1\" class=\"dataframe\">\n",
              "  <thead>\n",
              "    <tr style=\"text-align: right;\">\n",
              "      <th></th>\n",
              "      <th>Coefficient</th>\n",
              "    </tr>\n",
              "  </thead>\n",
              "  <tbody>\n",
              "    <tr>\n",
              "      <th>neighbourhood</th>\n",
              "      <td>0.124985</td>\n",
              "    </tr>\n",
              "    <tr>\n",
              "      <th>room_type</th>\n",
              "      <td>-64.431826</td>\n",
              "    </tr>\n",
              "    <tr>\n",
              "      <th>minimum_nights</th>\n",
              "      <td>0.266791</td>\n",
              "    </tr>\n",
              "    <tr>\n",
              "      <th>number_of_reviews</th>\n",
              "      <td>-0.298979</td>\n",
              "    </tr>\n",
              "    <tr>\n",
              "      <th>calculated_host_listings_count</th>\n",
              "      <td>-0.079823</td>\n",
              "    </tr>\n",
              "    <tr>\n",
              "      <th>year_month</th>\n",
              "      <td>-0.509212</td>\n",
              "    </tr>\n",
              "  </tbody>\n",
              "</table>\n",
              "</div>\n",
              "      <button class=\"colab-df-convert\" onclick=\"convertToInteractive('df-db933495-f3b5-472a-a399-223e1431f914')\"\n",
              "              title=\"Convert this dataframe to an interactive table.\"\n",
              "              style=\"display:none;\">\n",
              "        \n",
              "  <svg xmlns=\"http://www.w3.org/2000/svg\" height=\"24px\"viewBox=\"0 0 24 24\"\n",
              "       width=\"24px\">\n",
              "    <path d=\"M0 0h24v24H0V0z\" fill=\"none\"/>\n",
              "    <path d=\"M18.56 5.44l.94 2.06.94-2.06 2.06-.94-2.06-.94-.94-2.06-.94 2.06-2.06.94zm-11 1L8.5 8.5l.94-2.06 2.06-.94-2.06-.94L8.5 2.5l-.94 2.06-2.06.94zm10 10l.94 2.06.94-2.06 2.06-.94-2.06-.94-.94-2.06-.94 2.06-2.06.94z\"/><path d=\"M17.41 7.96l-1.37-1.37c-.4-.4-.92-.59-1.43-.59-.52 0-1.04.2-1.43.59L10.3 9.45l-7.72 7.72c-.78.78-.78 2.05 0 2.83L4 21.41c.39.39.9.59 1.41.59.51 0 1.02-.2 1.41-.59l7.78-7.78 2.81-2.81c.8-.78.8-2.07 0-2.86zM5.41 20L4 18.59l7.72-7.72 1.47 1.35L5.41 20z\"/>\n",
              "  </svg>\n",
              "      </button>\n",
              "      \n",
              "  <style>\n",
              "    .colab-df-container {\n",
              "      display:flex;\n",
              "      flex-wrap:wrap;\n",
              "      gap: 12px;\n",
              "    }\n",
              "\n",
              "    .colab-df-convert {\n",
              "      background-color: #E8F0FE;\n",
              "      border: none;\n",
              "      border-radius: 50%;\n",
              "      cursor: pointer;\n",
              "      display: none;\n",
              "      fill: #1967D2;\n",
              "      height: 32px;\n",
              "      padding: 0 0 0 0;\n",
              "      width: 32px;\n",
              "    }\n",
              "\n",
              "    .colab-df-convert:hover {\n",
              "      background-color: #E2EBFA;\n",
              "      box-shadow: 0px 1px 2px rgba(60, 64, 67, 0.3), 0px 1px 3px 1px rgba(60, 64, 67, 0.15);\n",
              "      fill: #174EA6;\n",
              "    }\n",
              "\n",
              "    [theme=dark] .colab-df-convert {\n",
              "      background-color: #3B4455;\n",
              "      fill: #D2E3FC;\n",
              "    }\n",
              "\n",
              "    [theme=dark] .colab-df-convert:hover {\n",
              "      background-color: #434B5C;\n",
              "      box-shadow: 0px 1px 3px 1px rgba(0, 0, 0, 0.15);\n",
              "      filter: drop-shadow(0px 1px 2px rgba(0, 0, 0, 0.3));\n",
              "      fill: #FFFFFF;\n",
              "    }\n",
              "  </style>\n",
              "\n",
              "      <script>\n",
              "        const buttonEl =\n",
              "          document.querySelector('#df-db933495-f3b5-472a-a399-223e1431f914 button.colab-df-convert');\n",
              "        buttonEl.style.display =\n",
              "          google.colab.kernel.accessAllowed ? 'block' : 'none';\n",
              "\n",
              "        async function convertToInteractive(key) {\n",
              "          const element = document.querySelector('#df-db933495-f3b5-472a-a399-223e1431f914');\n",
              "          const dataTable =\n",
              "            await google.colab.kernel.invokeFunction('convertToInteractive',\n",
              "                                                     [key], {});\n",
              "          if (!dataTable) return;\n",
              "\n",
              "          const docLinkHtml = 'Like what you see? Visit the ' +\n",
              "            '<a target=\"_blank\" href=https://colab.research.google.com/notebooks/data_table.ipynb>data table notebook</a>'\n",
              "            + ' to learn more about interactive tables.';\n",
              "          element.innerHTML = '';\n",
              "          dataTable['output_type'] = 'display_data';\n",
              "          await google.colab.output.renderOutput(dataTable, element);\n",
              "          const docLink = document.createElement('div');\n",
              "          docLink.innerHTML = docLinkHtml;\n",
              "          element.appendChild(docLink);\n",
              "        }\n",
              "      </script>\n",
              "    </div>\n",
              "  </div>\n",
              "  "
            ],
            "text/plain": [
              "                                Coefficient\n",
              "neighbourhood                      0.124985\n",
              "room_type                        -64.431826\n",
              "minimum_nights                     0.266791\n",
              "number_of_reviews                 -0.298979\n",
              "calculated_host_listings_count    -0.079823\n",
              "year_month                        -0.509212"
            ]
          },
          "metadata": {},
          "execution_count": 78
        }
      ],
      "source": [
        "coeff_df = pd.DataFrame(lin_reg.coef_, x_df.columns, columns=['Coefficient'])\n",
        "coeff_df"
      ]
    },
    {
      "cell_type": "code",
      "execution_count": 79,
      "metadata": {
        "id": "sEaIZKKCv4IN"
      },
      "outputs": [],
      "source": [
        "from sklearn.preprocessing import StandardScaler\n",
        "from sklearn.pipeline import Pipeline\n",
        "\n",
        "pipeline = Pipeline([\n",
        "    ('std_scalar', StandardScaler())\n",
        "])\n",
        "\n",
        "X_train = pipeline.fit_transform(X_train)\n",
        "X_test = pipeline.transform(X_test)"
      ]
    },
    {
      "cell_type": "code",
      "execution_count": 80,
      "metadata": {
        "id": "n3HCNuzSv5nh"
      },
      "outputs": [],
      "source": [
        "# pred = lin_reg.predict(X_test)\n",
        "# plt.scatter(y_test, pred)"
      ]
    },
    {
      "cell_type": "code",
      "execution_count": 81,
      "metadata": {
        "colab": {
          "base_uri": "https://localhost:8080/"
        },
        "id": "i_WT4Tgvv-IH",
        "outputId": "c86fcea7-ec58-440e-aeb1-ad244966af4a"
      },
      "outputs": [
        {
          "output_type": "stream",
          "name": "stdout",
          "text": [
            "Test set evaluation:\n",
            "_____________________________________\n",
            "MAE: 159.7976494868175\n",
            "MSE: 88039.47830917609\n",
            "RMSE: 296.71447269921987\n",
            "R2 Square -0.04892598914182433\n",
            "====================================\n",
            "Train set evaluation:\n",
            "_____________________________________\n",
            "MAE: 164.8288977949795\n",
            "MSE: 176883.82195734722\n",
            "RMSE: 420.57558411936753\n",
            "R2 Square -0.021087016531637692\n"
          ]
        }
      ],
      "source": [
        "test_pred = lin_reg.predict(X_test)\n",
        "train_pred = lin_reg.predict(X_train)\n",
        "\n",
        "print('Test set evaluation:\\n_____________________________________')\n",
        "print_evaluate(y_test, test_pred)\n",
        "print('====================================')\n",
        "print('Train set evaluation:\\n_____________________________________')\n",
        "print_evaluate(y_train, train_pred)"
      ]
    },
    {
      "cell_type": "code",
      "execution_count": 82,
      "metadata": {
        "colab": {
          "base_uri": "https://localhost:8080/"
        },
        "id": "SuKRv6MywJ9U",
        "outputId": "64b22697-370c-4d15-d1cd-98f41afdb0cc"
      },
      "outputs": [
        {
          "output_type": "stream",
          "name": "stdout",
          "text": [
            "Test set evaluation:\n",
            "_____________________________________\n",
            "MAE: 9095.839411954412\n",
            "MSE: 92367676340.9551\n",
            "RMSE: 303920.50990506564\n",
            "R2 Square -1100492.3029069297\n",
            "====================================\n",
            "Train set evaluation:\n",
            "_____________________________________\n",
            "MAE: 104.96482222451348\n",
            "MSE: 142501.22450867007\n",
            "RMSE: 377.49334366140823\n",
            "R2 Square 0.1773914167189945\n"
          ]
        }
      ],
      "source": [
        "from sklearn.preprocessing import PolynomialFeatures\n",
        "\n",
        "poly_reg = PolynomialFeatures(degree=6)\n",
        "\n",
        "X_train_2_d = poly_reg.fit_transform(X_train)\n",
        "X_test_2_d = poly_reg.transform(X_test)\n",
        "\n",
        "lin_reg = LinearRegression(normalize=True)\n",
        "lin_reg.fit(X_train_2_d,y_train)\n",
        "\n",
        "test_pred = lin_reg.predict(X_test_2_d)\n",
        "train_pred = lin_reg.predict(X_train_2_d)\n",
        "\n",
        "print('Test set evaluation:\\n_____________________________________')\n",
        "print_evaluate(y_test, test_pred)\n",
        "print('====================================')\n",
        "print('Train set evaluation:\\n_____________________________________')\n",
        "print_evaluate(y_train, train_pred)\n",
        "\n",
        "# test set evaluation to check the overfitting:\n",
        "# degree: 1 R2 Square 0.04855641462319682\n",
        "# degree: 2 R2 Square 0.0666770246491033\n",
        "# degree: 3 R2 Square -0.20663088192051027\n",
        "# the train set r-square is becoming higher but the one of test set is getting worse\n",
        "# which indicates there is a big overfitting problem in this dataset and the regression result is not good in this case."
      ]
    },
    {
      "cell_type": "code",
      "source": [
        "from sklearn.ensemble import RandomForestRegressor\n",
        "\n",
        "rf_reg = RandomForestRegressor(n_estimators=500)\n",
        "rf_reg.fit(X_train, y_train)\n",
        "\n",
        "test_pred = rf_reg.predict(X_test)\n",
        "train_pred = rf_reg.predict(X_train)\n",
        "\n",
        "print('Test set evaluation:\\n_____________________________________')\n",
        "print_evaluate(y_test, test_pred)\n",
        "\n",
        "print('Train set evaluation:\\n_____________________________________')\n",
        "print_evaluate(y_train, train_pred)"
      ],
      "metadata": {
        "colab": {
          "base_uri": "https://localhost:8080/"
        },
        "id": "ZTV6_OZm9xlU",
        "outputId": "7db444a7-dbfc-4ffc-bfe5-a3f1dc4b0b73"
      },
      "execution_count": 83,
      "outputs": [
        {
          "output_type": "stream",
          "name": "stdout",
          "text": [
            "Test set evaluation:\n",
            "_____________________________________\n",
            "MAE: 102.38633404816927\n",
            "MSE: 84290.73880026402\n",
            "RMSE: 290.3286737479852\n",
            "R2 Square -0.004262499842038414\n",
            "Train set evaluation:\n",
            "_____________________________________\n",
            "MAE: 52.27850959548547\n",
            "MSE: 49148.06049251127\n",
            "RMSE: 221.69361852004508\n",
            "R2 Square 0.7162858315628436\n"
          ]
        }
      ]
    },
    {
      "cell_type": "markdown",
      "source": [
        "Differetn regression model have been tried: Linear regression, Polynomial regression and random forest regression.\n",
        "\n",
        "Random Forest Regressor has better result than others but there is a overfitting problem which means this model is too difficult to work well on new dataset."
      ],
      "metadata": {
        "id": "NrB-UgTx-GyK"
      }
    },
    {
      "cell_type": "markdown",
      "source": [
        "## Gradient Boost\n",
        "\n",
        "Gradient boosting is a machine learning technique used in regression and classification tasks, among others. \n",
        "\n",
        "It gives a prediction model in the form of an ensemble of weak prediction models, which are typically decision trees. When a decision tree is the weak learner, the resulting algorithm is called gradient-boosted trees; it usually outperforms random forest. \n",
        "\n",
        "A gradient-boosted trees model is built in a stage-wise fashion as in other boosting methods, but it generalizes the other methods by allowing optimization of an arbitrary differentiable loss function."
      ],
      "metadata": {
        "id": "XOysfNL0-VxV"
      }
    },
    {
      "cell_type": "code",
      "source": [
        "from sklearn.ensemble import GradientBoostingRegressor\n",
        "\n",
        "params = {'n_estimators': 1000,\n",
        "          'max_depth': 6,\n",
        "          'min_samples_split': 5,\n",
        "          'learning_rate': 0.01,\n",
        "          'loss': 'huber'}\n",
        "\n",
        "gb_reg = GradientBoostingRegressor(**params)\n",
        "gb_reg.fit(X_train, y_train)\n",
        "\n",
        "test_pred = gb_reg.predict(X_test)\n",
        "train_pred = gb_reg.predict(X_train)\n",
        "\n",
        "print('Test set evaluation:\\n_____________________________________')\n",
        "print_evaluate(y_test, test_pred)\n",
        "\n",
        "print('Train set evaluation:\\n_____________________________________')\n",
        "print_evaluate(y_train, train_pred)"
      ],
      "metadata": {
        "colab": {
          "base_uri": "https://localhost:8080/"
        },
        "id": "6YQPA_Ae-YX9",
        "outputId": "a8c974ea-93d6-4250-a93d-a863e433e865"
      },
      "execution_count": 84,
      "outputs": [
        {
          "output_type": "stream",
          "name": "stdout",
          "text": [
            "Test set evaluation:\n",
            "_____________________________________\n",
            "MAE: 79.96689287552698\n",
            "MSE: 78613.42316253946\n",
            "RMSE: 280.38085377311245\n",
            "R2 Square 0.06337856340980852\n",
            "Train set evaluation:\n",
            "_____________________________________\n",
            "MAE: 77.57084782037907\n",
            "MSE: 147120.10996113642\n",
            "RMSE: 383.56239383069925\n",
            "R2 Square 0.15072824360247572\n"
          ]
        }
      ]
    },
    {
      "cell_type": "markdown",
      "source": [
        "Result shows that even the R2 square is small but there are no overfitting or underfitting problems."
      ],
      "metadata": {
        "id": "YewS-GUXIvgG"
      }
    },
    {
      "cell_type": "code",
      "source": [
        "test_score = np.zeros((params['n_estimators'],), dtype=np.float64)\n",
        "for i, y_pred in enumerate(gb_reg.staged_predict(X_test)):\n",
        "    test_score[i] = gb_reg.loss_(y_test, y_pred)\n",
        "\n",
        "fig = plt.figure(figsize=(6, 6))\n",
        "plt.subplot(1, 1, 1)\n",
        "plt.title('Deviance')\n",
        "plt.plot(np.arange(params['n_estimators']) + 1, gb_reg.train_score_, 'b-',\n",
        "         label='Training Set Deviance')\n",
        "plt.plot(np.arange(params['n_estimators']) + 1, test_score, 'r-',\n",
        "         label='Test Set Deviance')\n",
        "plt.legend(loc='upper right')\n",
        "plt.xlabel('Boosting Iterations')\n",
        "plt.ylabel('Deviance')\n",
        "fig.tight_layout()\n",
        "plt.show()"
      ],
      "metadata": {
        "colab": {
          "base_uri": "https://localhost:8080/",
          "height": 441
        },
        "id": "qRWSnBRV-e0i",
        "outputId": "06023988-aad7-4a39-cdc5-2acfacfa9316"
      },
      "execution_count": 85,
      "outputs": [
        {
          "output_type": "display_data",
          "data": {
            "image/png": "[encoded data removed]",
            "text/plain": [
              "<Figure size 432x432 with 1 Axes>"
            ]
          },
          "metadata": {
            "needs_background": "light"
          }
        }
      ]
    },
    {
      "cell_type": "code",
      "source": [
        "# feature importance\n",
        "feature_importance = gb_reg.feature_importances_\n",
        "sorted_idx = np.argsort(feature_importance)\n",
        "pos = np.arange(sorted_idx.shape[0]) + .5\n",
        "fig = plt.figure(figsize=(12, 6))\n",
        "plt.subplot(1, 1, 1)\n",
        "plt.barh(pos, feature_importance[sorted_idx], align='center')\n",
        "plt.yticks(pos, np.array(x_df.columns)[sorted_idx])\n",
        "plt.title('Feature Importance (MDI)')\n",
        "fig.tight_layout()\n",
        "plt.show()"
      ],
      "metadata": {
        "colab": {
          "base_uri": "https://localhost:8080/",
          "height": 328
        },
        "id": "4MXNkDDi-iLV",
        "outputId": "4667d95f-2696-41a0-87e9-2d148ba235e8"
      },
      "execution_count": 86,
      "outputs": [
        {
          "output_type": "display_data",
          "data": {
            "image/png": "[encoded data removed]",
            "text/plain": [
              "<Figure size 864x432 with 1 Axes>"
            ]
          },
          "metadata": {
            "needs_background": "light"
          }
        }
      ]
    },
    {
      "cell_type": "markdown",
      "source": [
        "The reult shows that year_month, number_of_reviews and minimum_night have the least importance in this case that their importances are all lower than 0.1."
      ],
      "metadata": {
        "id": "uCN-Z7ST3iUV"
      }
    },
    {
      "cell_type": "markdown",
      "metadata": {
        "id": "JeOdkdCe2bKI"
      },
      "source": [
        "## Classification "
      ]
    },
    {
      "cell_type": "code",
      "execution_count": 87,
      "metadata": {
        "id": "KgAN7SJk53nX"
      },
      "outputs": [],
      "source": [
        "df = pd.read_csv(\"/content/drive/MyDrive/summer_project_2021/airbnb/listings.csv\")"
      ]
    },
    {
      "cell_type": "code",
      "source": [
        "df.head()"
      ],
      "metadata": {
        "colab": {
          "base_uri": "https://localhost:8080/",
          "height": 357
        },
        "id": "HNobQ28e41dc",
        "outputId": "a1caa734-e95c-40df-bb1a-d63f87a6042d"
      },
      "execution_count": 88,
      "outputs": [
        {
          "output_type": "execute_result",
          "data": {
            "text/html": [
              "\n",
              "  <div id=\"df-2ccd3cbd-1ebb-4465-8fee-c98d395e700e\">\n",
              "    <div class=\"colab-df-container\">\n",
              "      <div>\n",
              "<style scoped>\n",
              "    .dataframe tbody tr th:only-of-type {\n",
              "        vertical-align: middle;\n",
              "    }\n",
              "\n",
              "    .dataframe tbody tr th {\n",
              "        vertical-align: top;\n",
              "    }\n",
              "\n",
              "    .dataframe thead th {\n",
              "        text-align: right;\n",
              "    }\n",
              "</style>\n",
              "<table border=\"1\" class=\"dataframe\">\n",
              "  <thead>\n",
              "    <tr style=\"text-align: right;\">\n",
              "      <th></th>\n",
              "      <th>id</th>\n",
              "      <th>name</th>\n",
              "      <th>host_id</th>\n",
              "      <th>host_name</th>\n",
              "      <th>neighbourhood_group</th>\n",
              "      <th>neighbourhood</th>\n",
              "      <th>latitude</th>\n",
              "      <th>longitude</th>\n",
              "      <th>room_type</th>\n",
              "      <th>price</th>\n",
              "      <th>minimum_nights</th>\n",
              "      <th>number_of_reviews</th>\n",
              "      <th>last_review</th>\n",
              "      <th>reviews_per_month</th>\n",
              "      <th>calculated_host_listings_count</th>\n",
              "      <th>availability_365</th>\n",
              "    </tr>\n",
              "  </thead>\n",
              "  <tbody>\n",
              "    <tr>\n",
              "      <th>0</th>\n",
              "      <td>9835</td>\n",
              "      <td>Beautiful Room &amp; House</td>\n",
              "      <td>33057</td>\n",
              "      <td>Manju</td>\n",
              "      <td>NaN</td>\n",
              "      <td>Manningham</td>\n",
              "      <td>-37.77247</td>\n",
              "      <td>145.09232</td>\n",
              "      <td>Private room</td>\n",
              "      <td>60</td>\n",
              "      <td>1</td>\n",
              "      <td>4</td>\n",
              "      <td>2015-09-12</td>\n",
              "      <td>0.03</td>\n",
              "      <td>1</td>\n",
              "      <td>365</td>\n",
              "    </tr>\n",
              "    <tr>\n",
              "      <th>1</th>\n",
              "      <td>10803</td>\n",
              "      <td>Room in Cool Deco Apartment in Brunswick East</td>\n",
              "      <td>38901</td>\n",
              "      <td>Lindsay</td>\n",
              "      <td>NaN</td>\n",
              "      <td>Moreland</td>\n",
              "      <td>-37.76606</td>\n",
              "      <td>144.97951</td>\n",
              "      <td>Private room</td>\n",
              "      <td>28</td>\n",
              "      <td>4</td>\n",
              "      <td>145</td>\n",
              "      <td>2019-12-17</td>\n",
              "      <td>2.26</td>\n",
              "      <td>1</td>\n",
              "      <td>278</td>\n",
              "    </tr>\n",
              "    <tr>\n",
              "      <th>2</th>\n",
              "      <td>12936</td>\n",
              "      <td>St Kilda 1BR+BEACHSIDE+BALCONY+WIFI+AC</td>\n",
              "      <td>50121</td>\n",
              "      <td>The A2C Team</td>\n",
              "      <td>NaN</td>\n",
              "      <td>Port Phillip</td>\n",
              "      <td>-37.85999</td>\n",
              "      <td>144.97662</td>\n",
              "      <td>Entire home/apt</td>\n",
              "      <td>95</td>\n",
              "      <td>3</td>\n",
              "      <td>42</td>\n",
              "      <td>2016-01-25</td>\n",
              "      <td>0.76</td>\n",
              "      <td>10</td>\n",
              "      <td>0</td>\n",
              "    </tr>\n",
              "    <tr>\n",
              "      <th>3</th>\n",
              "      <td>33111</td>\n",
              "      <td>Million Dollar Views Over Melbourne</td>\n",
              "      <td>143550</td>\n",
              "      <td>Paul</td>\n",
              "      <td>NaN</td>\n",
              "      <td>Melbourne</td>\n",
              "      <td>-37.82163</td>\n",
              "      <td>144.96672</td>\n",
              "      <td>Private room</td>\n",
              "      <td>1000</td>\n",
              "      <td>1</td>\n",
              "      <td>2</td>\n",
              "      <td>2012-01-27</td>\n",
              "      <td>0.02</td>\n",
              "      <td>1</td>\n",
              "      <td>365</td>\n",
              "    </tr>\n",
              "    <tr>\n",
              "      <th>4</th>\n",
              "      <td>38271</td>\n",
              "      <td>Melbourne - Old Trafford Apartment</td>\n",
              "      <td>164193</td>\n",
              "      <td>Daryl &amp; Dee</td>\n",
              "      <td>NaN</td>\n",
              "      <td>Casey</td>\n",
              "      <td>-38.05725</td>\n",
              "      <td>145.33936</td>\n",
              "      <td>Entire home/apt</td>\n",
              "      <td>101</td>\n",
              "      <td>1</td>\n",
              "      <td>161</td>\n",
              "      <td>2020-01-09</td>\n",
              "      <td>1.25</td>\n",
              "      <td>1</td>\n",
              "      <td>329</td>\n",
              "    </tr>\n",
              "  </tbody>\n",
              "</table>\n",
              "</div>\n",
              "      <button class=\"colab-df-convert\" onclick=\"convertToInteractive('df-2ccd3cbd-1ebb-4465-8fee-c98d395e700e')\"\n",
              "              title=\"Convert this dataframe to an interactive table.\"\n",
              "              style=\"display:none;\">\n",
              "        \n",
              "  <svg xmlns=\"http://www.w3.org/2000/svg\" height=\"24px\"viewBox=\"0 0 24 24\"\n",
              "       width=\"24px\">\n",
              "    <path d=\"M0 0h24v24H0V0z\" fill=\"none\"/>\n",
              "    <path d=\"M18.56 5.44l.94 2.06.94-2.06 2.06-.94-2.06-.94-.94-2.06-.94 2.06-2.06.94zm-11 1L8.5 8.5l.94-2.06 2.06-.94-2.06-.94L8.5 2.5l-.94 2.06-2.06.94zm10 10l.94 2.06.94-2.06 2.06-.94-2.06-.94-.94-2.06-.94 2.06-2.06.94z\"/><path d=\"M17.41 7.96l-1.37-1.37c-.4-.4-.92-.59-1.43-.59-.52 0-1.04.2-1.43.59L10.3 9.45l-7.72 7.72c-.78.78-.78 2.05 0 2.83L4 21.41c.39.39.9.59 1.41.59.51 0 1.02-.2 1.41-.59l7.78-7.78 2.81-2.81c.8-.78.8-2.07 0-2.86zM5.41 20L4 18.59l7.72-7.72 1.47 1.35L5.41 20z\"/>\n",
              "  </svg>\n",
              "      </button>\n",
              "      \n",
              "  <style>\n",
              "    .colab-df-container {\n",
              "      display:flex;\n",
              "      flex-wrap:wrap;\n",
              "      gap: 12px;\n",
              "    }\n",
              "\n",
              "    .colab-df-convert {\n",
              "      background-color: #E8F0FE;\n",
              "      border: none;\n",
              "      border-radius: 50%;\n",
              "      cursor: pointer;\n",
              "      display: none;\n",
              "      fill: #1967D2;\n",
              "      height: 32px;\n",
              "      padding: 0 0 0 0;\n",
              "      width: 32px;\n",
              "    }\n",
              "\n",
              "    .colab-df-convert:hover {\n",
              "      background-color: #E2EBFA;\n",
              "      box-shadow: 0px 1px 2px rgba(60, 64, 67, 0.3), 0px 1px 3px 1px rgba(60, 64, 67, 0.15);\n",
              "      fill: #174EA6;\n",
              "    }\n",
              "\n",
              "    [theme=dark] .colab-df-convert {\n",
              "      background-color: #3B4455;\n",
              "      fill: #D2E3FC;\n",
              "    }\n",
              "\n",
              "    [theme=dark] .colab-df-convert:hover {\n",
              "      background-color: #434B5C;\n",
              "      box-shadow: 0px 1px 3px 1px rgba(0, 0, 0, 0.15);\n",
              "      filter: drop-shadow(0px 1px 2px rgba(0, 0, 0, 0.3));\n",
              "      fill: #FFFFFF;\n",
              "    }\n",
              "  </style>\n",
              "\n",
              "      <script>\n",
              "        const buttonEl =\n",
              "          document.querySelector('#df-2ccd3cbd-1ebb-4465-8fee-c98d395e700e button.colab-df-convert');\n",
              "        buttonEl.style.display =\n",
              "          google.colab.kernel.accessAllowed ? 'block' : 'none';\n",
              "\n",
              "        async function convertToInteractive(key) {\n",
              "          const element = document.querySelector('#df-2ccd3cbd-1ebb-4465-8fee-c98d395e700e');\n",
              "          const dataTable =\n",
              "            await google.colab.kernel.invokeFunction('convertToInteractive',\n",
              "                                                     [key], {});\n",
              "          if (!dataTable) return;\n",
              "\n",
              "          const docLinkHtml = 'Like what you see? Visit the ' +\n",
              "            '<a target=\"_blank\" href=https://colab.research.google.com/notebooks/data_table.ipynb>data table notebook</a>'\n",
              "            + ' to learn more about interactive tables.';\n",
              "          element.innerHTML = '';\n",
              "          dataTable['output_type'] = 'display_data';\n",
              "          await google.colab.output.renderOutput(dataTable, element);\n",
              "          const docLink = document.createElement('div');\n",
              "          docLink.innerHTML = docLinkHtml;\n",
              "          element.appendChild(docLink);\n",
              "        }\n",
              "      </script>\n",
              "    </div>\n",
              "  </div>\n",
              "  "
            ],
            "text/plain": [
              "      id  ... availability_365\n",
              "0   9835  ...              365\n",
              "1  10803  ...              278\n",
              "2  12936  ...                0\n",
              "3  33111  ...              365\n",
              "4  38271  ...              329\n",
              "\n",
              "[5 rows x 16 columns]"
            ]
          },
          "metadata": {},
          "execution_count": 88
        }
      ]
    },
    {
      "cell_type": "code",
      "execution_count": 89,
      "metadata": {
        "colab": {
          "base_uri": "https://localhost:8080/",
          "height": 357
        },
        "id": "U4iTO7jgrOrP",
        "outputId": "0f676ee0-7c6b-4387-8cc8-82f54960d26e"
      },
      "outputs": [
        {
          "output_type": "execute_result",
          "data": {
            "text/html": [
              "\n",
              "  <div id=\"df-82af89b1-7964-401c-abef-6db2f6be5956\">\n",
              "    <div class=\"colab-df-container\">\n",
              "      <div>\n",
              "<style scoped>\n",
              "    .dataframe tbody tr th:only-of-type {\n",
              "        vertical-align: middle;\n",
              "    }\n",
              "\n",
              "    .dataframe tbody tr th {\n",
              "        vertical-align: top;\n",
              "    }\n",
              "\n",
              "    .dataframe thead th {\n",
              "        text-align: right;\n",
              "    }\n",
              "</style>\n",
              "<table border=\"1\" class=\"dataframe\">\n",
              "  <thead>\n",
              "    <tr style=\"text-align: right;\">\n",
              "      <th></th>\n",
              "      <th>neighbourhood</th>\n",
              "      <th>room_type</th>\n",
              "      <th>price</th>\n",
              "      <th>minimum_nights</th>\n",
              "      <th>number_of_reviews</th>\n",
              "      <th>calculated_host_listings_count</th>\n",
              "      <th>last_review</th>\n",
              "      <th>availability_365</th>\n",
              "      <th>year</th>\n",
              "      <th>month</th>\n",
              "      <th>year_month</th>\n",
              "    </tr>\n",
              "  </thead>\n",
              "  <tbody>\n",
              "    <tr>\n",
              "      <th>0</th>\n",
              "      <td>Manningham</td>\n",
              "      <td>Private room</td>\n",
              "      <td>60</td>\n",
              "      <td>1</td>\n",
              "      <td>4</td>\n",
              "      <td>1</td>\n",
              "      <td>2015-09-12</td>\n",
              "      <td>365</td>\n",
              "      <td>2015</td>\n",
              "      <td>9</td>\n",
              "      <td>2015-09</td>\n",
              "    </tr>\n",
              "    <tr>\n",
              "      <th>1</th>\n",
              "      <td>Port Phillip</td>\n",
              "      <td>Entire home/apt</td>\n",
              "      <td>95</td>\n",
              "      <td>3</td>\n",
              "      <td>42</td>\n",
              "      <td>10</td>\n",
              "      <td>2016-01-25</td>\n",
              "      <td>0</td>\n",
              "      <td>2016</td>\n",
              "      <td>1</td>\n",
              "      <td>2016-01</td>\n",
              "    </tr>\n",
              "    <tr>\n",
              "      <th>2</th>\n",
              "      <td>Melbourne</td>\n",
              "      <td>Private room</td>\n",
              "      <td>1000</td>\n",
              "      <td>1</td>\n",
              "      <td>2</td>\n",
              "      <td>1</td>\n",
              "      <td>2012-01-27</td>\n",
              "      <td>365</td>\n",
              "      <td>2012</td>\n",
              "      <td>1</td>\n",
              "      <td>2012-01</td>\n",
              "    </tr>\n",
              "    <tr>\n",
              "      <th>3</th>\n",
              "      <td>Casey</td>\n",
              "      <td>Entire home/apt</td>\n",
              "      <td>99</td>\n",
              "      <td>1</td>\n",
              "      <td>163</td>\n",
              "      <td>1</td>\n",
              "      <td>2020-01-09</td>\n",
              "      <td>341</td>\n",
              "      <td>2020</td>\n",
              "      <td>1</td>\n",
              "      <td>2020-01</td>\n",
              "    </tr>\n",
              "    <tr>\n",
              "      <th>4</th>\n",
              "      <td>Darebin</td>\n",
              "      <td>Private room</td>\n",
              "      <td>40</td>\n",
              "      <td>7</td>\n",
              "      <td>159</td>\n",
              "      <td>2</td>\n",
              "      <td>2017-08-24</td>\n",
              "      <td>0</td>\n",
              "      <td>2017</td>\n",
              "      <td>8</td>\n",
              "      <td>2017-08</td>\n",
              "    </tr>\n",
              "  </tbody>\n",
              "</table>\n",
              "</div>\n",
              "      <button class=\"colab-df-convert\" onclick=\"convertToInteractive('df-82af89b1-7964-401c-abef-6db2f6be5956')\"\n",
              "              title=\"Convert this dataframe to an interactive table.\"\n",
              "              style=\"display:none;\">\n",
              "        \n",
              "  <svg xmlns=\"http://www.w3.org/2000/svg\" height=\"24px\"viewBox=\"0 0 24 24\"\n",
              "       width=\"24px\">\n",
              "    <path d=\"M0 0h24v24H0V0z\" fill=\"none\"/>\n",
              "    <path d=\"M18.56 5.44l.94 2.06.94-2.06 2.06-.94-2.06-.94-.94-2.06-.94 2.06-2.06.94zm-11 1L8.5 8.5l.94-2.06 2.06-.94-2.06-.94L8.5 2.5l-.94 2.06-2.06.94zm10 10l.94 2.06.94-2.06 2.06-.94-2.06-.94-.94-2.06-.94 2.06-2.06.94z\"/><path d=\"M17.41 7.96l-1.37-1.37c-.4-.4-.92-.59-1.43-.59-.52 0-1.04.2-1.43.59L10.3 9.45l-7.72 7.72c-.78.78-.78 2.05 0 2.83L4 21.41c.39.39.9.59 1.41.59.51 0 1.02-.2 1.41-.59l7.78-7.78 2.81-2.81c.8-.78.8-2.07 0-2.86zM5.41 20L4 18.59l7.72-7.72 1.47 1.35L5.41 20z\"/>\n",
              "  </svg>\n",
              "      </button>\n",
              "      \n",
              "  <style>\n",
              "    .colab-df-container {\n",
              "      display:flex;\n",
              "      flex-wrap:wrap;\n",
              "      gap: 12px;\n",
              "    }\n",
              "\n",
              "    .colab-df-convert {\n",
              "      background-color: #E8F0FE;\n",
              "      border: none;\n",
              "      border-radius: 50%;\n",
              "      cursor: pointer;\n",
              "      display: none;\n",
              "      fill: #1967D2;\n",
              "      height: 32px;\n",
              "      padding: 0 0 0 0;\n",
              "      width: 32px;\n",
              "    }\n",
              "\n",
              "    .colab-df-convert:hover {\n",
              "      background-color: #E2EBFA;\n",
              "      box-shadow: 0px 1px 2px rgba(60, 64, 67, 0.3), 0px 1px 3px 1px rgba(60, 64, 67, 0.15);\n",
              "      fill: #174EA6;\n",
              "    }\n",
              "\n",
              "    [theme=dark] .colab-df-convert {\n",
              "      background-color: #3B4455;\n",
              "      fill: #D2E3FC;\n",
              "    }\n",
              "\n",
              "    [theme=dark] .colab-df-convert:hover {\n",
              "      background-color: #434B5C;\n",
              "      box-shadow: 0px 1px 3px 1px rgba(0, 0, 0, 0.15);\n",
              "      filter: drop-shadow(0px 1px 2px rgba(0, 0, 0, 0.3));\n",
              "      fill: #FFFFFF;\n",
              "    }\n",
              "  </style>\n",
              "\n",
              "      <script>\n",
              "        const buttonEl =\n",
              "          document.querySelector('#df-82af89b1-7964-401c-abef-6db2f6be5956 button.colab-df-convert');\n",
              "        buttonEl.style.display =\n",
              "          google.colab.kernel.accessAllowed ? 'block' : 'none';\n",
              "\n",
              "        async function convertToInteractive(key) {\n",
              "          const element = document.querySelector('#df-82af89b1-7964-401c-abef-6db2f6be5956');\n",
              "          const dataTable =\n",
              "            await google.colab.kernel.invokeFunction('convertToInteractive',\n",
              "                                                     [key], {});\n",
              "          if (!dataTable) return;\n",
              "\n",
              "          const docLinkHtml = 'Like what you see? Visit the ' +\n",
              "            '<a target=\"_blank\" href=https://colab.research.google.com/notebooks/data_table.ipynb>data table notebook</a>'\n",
              "            + ' to learn more about interactive tables.';\n",
              "          element.innerHTML = '';\n",
              "          dataTable['output_type'] = 'display_data';\n",
              "          await google.colab.output.renderOutput(dataTable, element);\n",
              "          const docLink = document.createElement('div');\n",
              "          docLink.innerHTML = docLinkHtml;\n",
              "          element.appendChild(docLink);\n",
              "        }\n",
              "      </script>\n",
              "    </div>\n",
              "  </div>\n",
              "  "
            ],
            "text/plain": [
              "  neighbourhood        room_type  price  ...  year  month  year_month\n",
              "0    Manningham     Private room     60  ...  2015      9     2015-09\n",
              "1  Port Phillip  Entire home/apt     95  ...  2016      1     2016-01\n",
              "2     Melbourne     Private room   1000  ...  2012      1     2012-01\n",
              "3         Casey  Entire home/apt     99  ...  2020      1     2020-01\n",
              "4       Darebin     Private room     40  ...  2017      8     2017-08\n",
              "\n",
              "[5 rows x 11 columns]"
            ]
          },
          "metadata": {},
          "execution_count": 89
        }
      ],
      "source": [
        "new_data.head()"
      ]
    },
    {
      "cell_type": "markdown",
      "metadata": {
        "id": "dbmzHnOfnyG4"
      },
      "source": [
        "Price will be the target value and there will be a new feature 'price_label' which is collected from 'price'."
      ]
    },
    {
      "cell_type": "code",
      "execution_count": 90,
      "metadata": {
        "colab": {
          "base_uri": "https://localhost:8080/"
        },
        "id": "kNzADOf_2dZc",
        "outputId": "9fa30681-b85c-4d4b-9593-5bcbc5e4dad1"
      },
      "outputs": [
        {
          "output_type": "execute_result",
          "data": {
            "text/plain": [
              "count    18016.000000\n",
              "mean       173.141596\n",
              "std        382.689938\n",
              "min          0.000000\n",
              "25%         70.000000\n",
              "50%        110.000000\n",
              "75%        180.000000\n",
              "max      15000.000000\n",
              "Name: price, dtype: float64"
            ]
          },
          "metadata": {},
          "execution_count": 90
        }
      ],
      "source": [
        "new_data.price.describe()\n",
        "# max: 15000"
      ]
    },
    {
      "cell_type": "markdown",
      "source": [
        "For classification, i consider 'price' as the target value and create a new categorial feature for later process."
      ],
      "metadata": {
        "id": "AKrJUX3dMAiK"
      }
    },
    {
      "cell_type": "code",
      "execution_count": 91,
      "metadata": {
        "id": "4g2M4FmH5x1Y"
      },
      "outputs": [],
      "source": [
        "price_label = pd.cut(new_data.price, bins = [0,180,1000,15000], \n",
        "             labels = ['low', 'medium', 'high'])\n",
        "new_data.insert(3, 'price_label', price_label)"
      ]
    },
    {
      "cell_type": "code",
      "execution_count": 92,
      "metadata": {
        "colab": {
          "base_uri": "https://localhost:8080/"
        },
        "id": "TTkbcrJL5zoU",
        "outputId": "b4ed2d79-59e5-446a-a241-42ec040e8797"
      },
      "outputs": [
        {
          "output_type": "execute_result",
          "data": {
            "text/plain": [
              "low       13533\n",
              "medium     4333\n",
              "high        149\n",
              "Name: price_label, dtype: int64"
            ]
          },
          "metadata": {},
          "execution_count": 92
        }
      ],
      "source": [
        "new_data.price_label.value_counts()"
      ]
    },
    {
      "cell_type": "code",
      "source": [
        "# as year_month has the lowest importance, remove it from the dataframe\n",
        "new_data[['neighbourhood', 'room_type', 'price_label']] = new_data[['neighbourhood', 'room_type', 'price_label']].apply(LabelEncoder().fit_transform)\n",
        "X = new_data[['neighbourhood', 'room_type', 'minimum_nights', 'number_of_reviews', 'calculated_host_listings_count']]\n",
        "\n",
        "y = new_data['price_label']"
      ],
      "metadata": {
        "id": "KhYtNFjS9kRs"
      },
      "execution_count": 93,
      "outputs": []
    },
    {
      "cell_type": "code",
      "source": [
        "y.value_counts()"
      ],
      "metadata": {
        "colab": {
          "base_uri": "https://localhost:8080/"
        },
        "id": "tbQIcsBeArUz",
        "outputId": "ad8d502d-a044-407d-e839-e506d1a067b5"
      },
      "execution_count": 94,
      "outputs": [
        {
          "output_type": "execute_result",
          "data": {
            "text/plain": [
              "1    13533\n",
              "2     4333\n",
              "0      149\n",
              "3        1\n",
              "Name: price_label, dtype: int64"
            ]
          },
          "metadata": {},
          "execution_count": 94
        }
      ]
    },
    {
      "cell_type": "markdown",
      "source": [
        "However, the number of observation for each label is too different from others, so oversampling need to be implemented."
      ],
      "metadata": {
        "id": "R_6h0WYPMUlN"
      }
    },
    {
      "cell_type": "code",
      "source": [
        "from imblearn.over_sampling import RandomOverSampler\n",
        "ros = RandomOverSampler(random_state=0)\n",
        "X_resampled, y_resampled = ros.fit_resample(X, y)\n",
        "\n",
        "from collections import Counter\n",
        "print(sorted(Counter(y_resampled).items()))"
      ],
      "metadata": {
        "colab": {
          "base_uri": "https://localhost:8080/"
        },
        "id": "hYKbWM8FLsms",
        "outputId": "eac5a56b-ddd6-4ef0-fe66-8ae661f8aa8f"
      },
      "execution_count": 104,
      "outputs": [
        {
          "output_type": "stream",
          "name": "stdout",
          "text": [
            "[(0, 13533), (1, 13533), (2, 13533), (3, 13533)]\n"
          ]
        }
      ]
    },
    {
      "cell_type": "markdown",
      "source": [
        "And all the number of each label is oversampled to 13533. "
      ],
      "metadata": {
        "id": "Hcqo9KcfMwE1"
      }
    },
    {
      "cell_type": "code",
      "source": [
        "# X.head()"
      ],
      "metadata": {
        "id": "E5cbCXMW9358"
      },
      "execution_count": 95,
      "outputs": []
    },
    {
      "cell_type": "code",
      "source": [
        "X_train, X_test, y_train, y_test = train_test_split(X, y, random_state=0)\n",
        "\n",
        "from sklearn.preprocessing import MinMaxScaler\n",
        "\n",
        "scaler = MinMaxScaler()\n",
        "X_train = scaler.fit_transform(X_train)\n",
        "X_test = scaler.transform(X_test)"
      ],
      "metadata": {
        "id": "-r_mB2lp-eDH"
      },
      "execution_count": 105,
      "outputs": []
    },
    {
      "cell_type": "markdown",
      "source": [
        "### Logistic Regression"
      ],
      "metadata": {
        "id": "mM1JzwSB-zHK"
      }
    },
    {
      "cell_type": "code",
      "source": [
        "from sklearn.linear_model import LogisticRegression\n",
        "\n",
        "logreg = LogisticRegression()\n",
        "logreg.fit(X_train, y_train)\n",
        "print('Accuracy of Logistic regression classifier on training set: {:.2f}'\n",
        "     .format(logreg.score(X_train, y_train)))\n",
        "print('Accuracy of Logistic regression classifier on test set: {:.2f}'\n",
        "     .format(logreg.score(X_test, y_test)))"
      ],
      "metadata": {
        "colab": {
          "base_uri": "https://localhost:8080/"
        },
        "id": "bEfS6WQg-1v9",
        "outputId": "9d60a76a-50ba-47ca-cf5c-d51603a8145d"
      },
      "execution_count": 106,
      "outputs": [
        {
          "output_type": "stream",
          "name": "stdout",
          "text": [
            "Accuracy of Logistic regression classifier on training set: 0.76\n",
            "Accuracy of Logistic regression classifier on test set: 0.74\n"
          ]
        }
      ]
    },
    {
      "cell_type": "markdown",
      "source": [
        "Logistic regression in classification label result is good and better than  that of the previous one."
      ],
      "metadata": {
        "id": "PF8mDCDrBYAu"
      }
    },
    {
      "cell_type": "markdown",
      "source": [
        "### Decison Tree"
      ],
      "metadata": {
        "id": "00e6SHCd_YU9"
      }
    },
    {
      "cell_type": "code",
      "source": [
        "from sklearn.tree import DecisionTreeClassifier\n",
        "\n",
        "clf = DecisionTreeClassifier().fit(X_train, y_train)\n",
        "print('Accuracy of Decision Tree classifier on training set: {:.2f}'\n",
        "     .format(clf.score(X_train, y_train)))\n",
        "print('Accuracy of Decision Tree classifier on test set: {:.2f}'\n",
        "     .format(clf.score(X_test, y_test)))"
      ],
      "metadata": {
        "colab": {
          "base_uri": "https://localhost:8080/"
        },
        "id": "W6dUvZkMBk4v",
        "outputId": "f9041040-57cd-4831-bc82-520ccd34771e"
      },
      "execution_count": 107,
      "outputs": [
        {
          "output_type": "stream",
          "name": "stdout",
          "text": [
            "Accuracy of Decision Tree classifier on training set: 0.93\n",
            "Accuracy of Decision Tree classifier on test set: 0.74\n"
          ]
        }
      ]
    },
    {
      "cell_type": "markdown",
      "source": [
        "### K-Nearest Neighbors"
      ],
      "metadata": {
        "id": "bAxkX52UBo95"
      }
    },
    {
      "cell_type": "code",
      "source": [
        "from sklearn.neighbors import KNeighborsClassifier\n",
        "\n",
        "knn = KNeighborsClassifier()\n",
        "knn.fit(X_train, y_train)\n",
        "print('Accuracy of K-NN classifier on training set: {:.2f}'\n",
        "     .format(knn.score(X_train, y_train)))\n",
        "print('Accuracy of K-NN classifier on test set: {:.2f}'\n",
        "     .format(knn.score(X_test, y_test)))"
      ],
      "metadata": {
        "colab": {
          "base_uri": "https://localhost:8080/"
        },
        "id": "jHM4HVEbBtYJ",
        "outputId": "36a4884d-388f-415c-981b-59651464fb94"
      },
      "execution_count": 108,
      "outputs": [
        {
          "output_type": "stream",
          "name": "stdout",
          "text": [
            "Accuracy of K-NN classifier on training set: 0.83\n",
            "Accuracy of K-NN classifier on test set: 0.76\n"
          ]
        }
      ]
    },
    {
      "cell_type": "markdown",
      "source": [
        "### Linear Discriminat Analysis"
      ],
      "metadata": {
        "id": "vzvHwHH3BxW6"
      }
    },
    {
      "cell_type": "code",
      "source": [
        "from sklearn.discriminant_analysis import LinearDiscriminantAnalysis\n",
        "\n",
        "lda = LinearDiscriminantAnalysis()\n",
        "lda.fit(X_train, y_train)\n",
        "print('Accuracy of LDA classifier on training set: {:.2f}'\n",
        "     .format(lda.score(X_train, y_train)))\n",
        "print('Accuracy of LDA classifier on test set: {:.2f}'\n",
        "     .format(lda.score(X_test, y_test)))"
      ],
      "metadata": {
        "colab": {
          "base_uri": "https://localhost:8080/"
        },
        "id": "P8oiV29IB1np",
        "outputId": "86549f3c-fbcb-4e18-f2f6-68d0d100a6b4"
      },
      "execution_count": 109,
      "outputs": [
        {
          "output_type": "stream",
          "name": "stdout",
          "text": [
            "Accuracy of LDA classifier on training set: 0.75\n",
            "Accuracy of LDA classifier on test set: 0.74\n"
          ]
        }
      ]
    },
    {
      "cell_type": "markdown",
      "source": [
        "### Support Vector Machine"
      ],
      "metadata": {
        "id": "zw_6HZ_dB4ve"
      }
    },
    {
      "cell_type": "code",
      "source": [
        "from sklearn.svm import SVC\n",
        "\n",
        "svm = SVC()\n",
        "svm.fit(X_train, y_train)\n",
        "print('Accuracy of SVM classifier on training set: {:.2f}'\n",
        "     .format(svm.score(X_train, y_train)))\n",
        "print('Accuracy of SVM classifier on test set: {:.2f}'\n",
        "     .format(svm.score(X_test, y_test)))"
      ],
      "metadata": {
        "colab": {
          "base_uri": "https://localhost:8080/"
        },
        "id": "6vNUWzh6B7bF",
        "outputId": "d6a76f54-3969-406a-9bb7-61e4ff07bbf7"
      },
      "execution_count": 110,
      "outputs": [
        {
          "output_type": "stream",
          "name": "stdout",
          "text": [
            "Accuracy of SVM classifier on training set: 0.76\n",
            "Accuracy of SVM classifier on test set: 0.74\n"
          ]
        }
      ]
    },
    {
      "cell_type": "markdown",
      "source": [
        "After Oversampling, different classification models are tried. LR, LDA and SVM have similar results and all of them are good. Rest of the two have good results as well, but they have overfitting problem which means these models are too difficult to fit in new data."
      ],
      "metadata": {
        "id": "KMKyB76eOGP0"
      }
    }
  ],
  "metadata": {
    "colab": {
      "collapsed_sections": [],
      "name": "04_Airbnb.ipynb",
      "provenance": []
    },
    "kernelspec": {
      "display_name": "Python 3",
      "name": "python3"
    },
    "language_info": {
      "name": "python"
    }
  },
  "nbformat": 4,
  "nbformat_minor": 0
}