{
  "nbformat": 4,
  "nbformat_minor": 0,
  "metadata": {
    "colab": {
      "name": "leetcode_sum.ipynb",
      "provenance": [],
      "collapsed_sections": []
    },
    "kernelspec": {
      "name": "python3",
      "display_name": "Python 3"
    },
    "language_info": {
      "name": "python"
    }
  },
  "cells": [
    {
      "cell_type": "markdown",
      "metadata": {
        "id": "xm-PcmeVS_12"
      },
      "source": [
        "# 2 sum - solved\n",
        "Input: nums = [2,7,11,15], target = 9\n",
        "\n",
        "Output: [0,1]\n",
        "\n",
        "Output: Because nums[0] + nums[1] == 9, we return [0, 1]."
      ]
    },
    {
      "cell_type": "code",
      "metadata": {
        "id": "idWtqFxgS9cX"
      },
      "source": [
        "def twoSum(nums, target):\n",
        "  for i in range(len(nums)):\n",
        "      for j in range(len(nums)):\n",
        "          if i != j:\n",
        "              if target == nums[i] + nums[j]:\n",
        "                  return [i,j]"
      ],
      "execution_count": 7,
      "outputs": []
    },
    {
      "cell_type": "code",
      "metadata": {
        "colab": {
          "base_uri": "https://localhost:8080/"
        },
        "id": "poVdPwoKTdMF",
        "outputId": "67c67276-543d-46a4-faad-d12e7de54e52"
      },
      "source": [
        "nums = [2,7,11,15]\n",
        "target = 9\n",
        "twoSum(nums, target)"
      ],
      "execution_count": 9,
      "outputs": [
        {
          "output_type": "execute_result",
          "data": {
            "text/plain": [
              "[0, 1]"
            ]
          },
          "metadata": {},
          "execution_count": 9
        }
      ]
    },
    {
      "cell_type": "markdown",
      "metadata": {
        "id": "UGNAXklbT3_W"
      },
      "source": [
        "# 3 sum - not done: only one list can be shown\n",
        "Input: nums = [-1,0,1,2,-1,-4]\n",
        "\n",
        "Output: [[-1,-1,2],[-1,0,1]]\n",
        "\n",
        "Input: nums = [0]\n",
        "\n",
        "Output: []"
      ]
    },
    {
      "cell_type": "code",
      "metadata": {
        "id": "N5WWkWUYUefC"
      },
      "source": [
        "def threeSum(nums):\n",
        "  ls = []\n",
        "  newls = [0,0,0]\n",
        "  nums.sort()\n",
        "  for i in range(len(nums)):\n",
        "      for j in range(len(nums)):\n",
        "          for k in range(len(nums)):\n",
        "              if i != j and j != k and i != k:\n",
        "                      if nums[i] + nums[j] + nums[k] == 0:\n",
        "                          newls[0] = nums[i]\n",
        "                          newls[1] = nums[j]\n",
        "                          newls[2] = nums[k]\n",
        "                          ls.append(newls)\n",
        "                          return ls"
      ],
      "execution_count": 10,
      "outputs": []
    },
    {
      "cell_type": "code",
      "metadata": {
        "colab": {
          "base_uri": "https://localhost:8080/"
        },
        "id": "1yY0WdCBUqwg",
        "outputId": "a4e89072-97b3-4ad0-c48e-351f82b3562f"
      },
      "source": [
        "nums = [-1,0,1,2,-1,-4]\n",
        "threeSum(nums)"
      ],
      "execution_count": 11,
      "outputs": [
        {
          "output_type": "execute_result",
          "data": {
            "text/plain": [
              "[[-1, -1, 2]]"
            ]
          },
          "metadata": {},
          "execution_count": 11
        }
      ]
    },
    {
      "cell_type": "markdown",
      "metadata": {
        "id": "tFBpz2McT5vH"
      },
      "source": [
        "# 4 sum - not done: only one list can be shown\n",
        "Input: nums = [1,0,-1,0,-2,2], target = 0\n",
        "\n",
        "Output: [[-2,-1,1,2],[-2,0,0,2],[-1,0,0,1]]"
      ]
    },
    {
      "cell_type": "code",
      "metadata": {
        "id": "yNFyVNivU9zD"
      },
      "source": [
        "def fourSum(nums, target):\n",
        "  ls = []\n",
        "  newls = [0,0,0,0]\n",
        "  nums.sort()\n",
        "  for a in range(len(nums)):\n",
        "      for b in range(len(nums)):\n",
        "          for c in range(len(nums)):\n",
        "              for d in range(len(nums)):\n",
        "                  if a != b != c != d:\n",
        "                      if nums[a] + nums[b] + nums[c] + nums[d] == target:\n",
        "                          newls[0] = nums[a]\n",
        "                          newls[1] = nums[b]\n",
        "                          newls[2] = nums[c]\n",
        "                          newls[3] = nums[d]\n",
        "                          ls.append(newls)\n",
        "                          return ls"
      ],
      "execution_count": 12,
      "outputs": []
    },
    {
      "cell_type": "code",
      "metadata": {
        "colab": {
          "base_uri": "https://localhost:8080/"
        },
        "id": "roIHfTv0VJwp",
        "outputId": "8b6c0148-6800-4842-9642-758679f07835"
      },
      "source": [
        "nums = [1,0,-1,0,-2,2]\n",
        "target = 0\n",
        "fourSum(nums, target)"
      ],
      "execution_count": 13,
      "outputs": [
        {
          "output_type": "execute_result",
          "data": {
            "text/plain": [
              "[[-2, -1, 1, 2]]"
            ]
          },
          "metadata": {},
          "execution_count": 13
        }
      ]
    }
  ]
}